{
  "nbformat": 4,
  "nbformat_minor": 0,
  "metadata": {
    "colab": {
      "name": "Titanic.ipynb",
      "provenance": [],
      "collapsed_sections": [],
      "toc_visible": true
    },
    "kernelspec": {
      "name": "python3",
      "display_name": "Python 3"
    },
    "language_info": {
      "name": "python"
    }
  },
  "cells": [
    {
      "cell_type": "markdown",
      "metadata": {
        "id": "NHmYGcN1oyGR"
      },
      "source": [
        "<h1> <img src=\"https://e7.pngegg.com/pngimages/559/601/png-clipart-halliburton-logo-baker-hughes-a-ge-company-oil-field-halliburton-logo-company-text.png\" align=\"up\" height=\"300\" width=\"600\" />\n",
        "\n",
        "# **Machine Learning For Citizens**\n",
        "---\n",
        "*Introduccion Al Machine Learning Para No Programadores*\n",
        "\n",
        "#**Agenda**\n",
        "**1.   Introducción**\n",
        "\n",
        "**2.   Fundamentos Machine Learning**\n",
        "\n",
        "**3.   Carga y Visualización de Datos**\n",
        "\n",
        "**4.   Preparación de la Base de Datos**\n",
        "\n",
        "**5.   Analisis Predictivo:** ¿Sobreviviría Si Hubiera Estado En El Titanic?\n",
        "\n",
        "**6.   Conclusiones**"
      ]
    },
    {
      "cell_type": "markdown",
      "metadata": {
        "id": "0NKOfHC8rkMG"
      },
      "source": [
        "# **1.   Introducción**"
      ]
    },
    {
      "cell_type": "markdown",
      "metadata": {
        "id": "I3ftFjs3r8pU"
      },
      "source": [
        "*  **¿Qué es Mineria de Datos?**\n",
        "\n",
        "  Es el proceso mediante el cual se descubren nuevas correlaciones signficativas, patrones y tendencias filtrando grandes cantidades de datos almacenados en repositorios o bases de datos, usando tecnologias de reconocimiento de patrones asi como técnicas matemáticas y estadísticas.\n",
        "\n",
        "  **Ejemplo:** Un banco puede tener una base de datos de los creditos otorgados a sus clientes en los ultimos 10 años, dentro de esta base se pueden encontrar relaciones tales como: \"Las personas nacidas antes de 1970 tienen una mayor probabilidad de pagar su credito que las personas nacidas despues de 1980\".\n",
        "*   **¿Qué es Machine Learning?**\n",
        "\n",
        "  \"Se dice que un programa de computadora *Aprende* de la *Experiencia E* con respecto a alguna *Clase de Tarea T* y con una *Medida de Rendimiento P*, si el rendimento en *T* medido por *P* mejora con la experiencia *E*. *Tom Mitchell, Carneguie Mellon University, 1997.\n",
        "\n",
        "  **Ejemplo:** Tarea T: predecir si un estudiante pasara el examen de este curso mañana. Experiencia E: datos historicos de los cursos anteriormente hechos. Medida de Rendimiento: porcentaje de aciertos de los estudiates que pasaron y que el modelo predijo.\n",
        "\n",
        "*   **Para que Sirve?** (Tomado de SAS: https://www.sas.com/es_co/insights/analytics/machine-learning.html)\n",
        "\n",
        "<h1> <img src=\"https://www.pandasecurity.com/spain/mediacenter/src/uploads/2015/11/malware.jpg\" align=\"Right\" height=\"150\" width=\"300\" />\n",
        "\n",
        "> Servicios Financieros: Los bancos y otras empresas de la industria financiera utilizan la tecnología del aprendizaje basado en máquina para dos fines principales: identificar insights importantes en los datos y prevenir el fraude. Los insights pueden identificar oportunidades de inversión o bien ayudar a los inversionistas a saber cuándo vender o comprar. La minería de datos también puede identificar clientes con perfiles de alto riesgo o bien utilizar la cíber vigilancia para detectar signos de advertencia de fraude.\n",
        "\n",
        "<h1> <img src=\"https://i.ytimg.com/vi/BaMFNZBk-vY/maxresdefault.jpg\" align=\"Right\" height=\"150\" width=\"300\" />\n",
        "\n",
        "> Gobierno: Dependencias de gobierno como seguridad pública y los servicios públicos tienen una necesidad particular del machine learning porque tienen múltiples fuentes de datos de las que se pueden extraer insights. Por ejemplo, el análisis de datos de sensores identifica formas de incrementar la eficiencia y ahorrar dinero. Asimismo, el aprendizaje basado en máquina puede ayudar a detectar fraude y minimizar el robo de identidad.\n",
        "\n",
        "<h1> <img src=\"https://pyimagesearch.com/wp-content/uploads/2019/02/breast_cancer_classification_dataset.jpg\" align=\"Right\" height=\"150\" width=\"300\" />\n",
        "\n",
        "> Salud: El machine learning es una tendencia en rápido crecimiento en la industria de atención a la salud, gracias a la aparición de dispositivos y sensores de vestir que pueden usar datos para evaluar la salud de un paciente en tiempo real. Asimismo, la tecnología puede ayudar a expertos médicos a analizar datos para identificar tendencias o banderas rojas que puedan llevar a diagnósticos y tratamientos mejorados.\n",
        "\n",
        "<h1> <img src=\"https://miro.medium.com/max/1000/1*Qvvgt_WIadI-wVB0TE9jxg.jpeg\" align=\"Right\" height=\"150\" width=\"300\" />\n",
        "\n",
        "> Marketing: Los sitios Web que le recomiendan artículos que podrían gustarle con base en compras anteriores, utilizan el machine learning para analizar su historial de compras – y promocionar otros artículos que podrían interesarle. Esta capacidad de capturar datos, analizarlos y usarlos para personalizar una experiencia de compra (o implementar una campaña de marketing) es el futuro del comercio detallista.\n",
        "\n",
        "<h1> <img src=\"https://futureautomotivemarkettrends.files.wordpress.com/2019/05/artificial-intelligence-transportation.jpg?w=640\" align=\"Right\" height=\"150\" width=\"300\" />\n",
        "\n",
        "> Transporte: Analizar datos para identificar patrones y tendencias es clave para la industria del transporte, que se sustenta en hacer las rutas más eficientes y anticipar problemas potenciales para incrementar la rentabilidad. Los aspectos de análisis y modelado de datos del machine learning son herramientas importantes para las compañías de mensajería, transporte público y otras organizaciones de transporte.\n",
        "\n",
        "<h1> <img src=\"https://www.enverus.com/wp-content/uploads/2017/07/image3-machinelearning.png\" align=\"Right\" height=\"150\" width=\"300\" />\n",
        "\n",
        "> Oil & Gas: Cómo encontrar nuevas fuentes de energía. Análisis de minerales del suelo. Predicción de fallos de sensores de refinerías. Optimización de la distribución de petróleo para hacerla más eficiente y económica. El número de casos de uso del machine learning en esta industria es vasto – y continúa creciendo."
      ]
    },
    {
      "cell_type": "markdown",
      "metadata": {
        "id": "H-a27XZcs2b4"
      },
      "source": [
        "# **2.   Fundamentos de Machine Learning**"
      ]
    },
    {
      "cell_type": "markdown",
      "metadata": {
        "id": "sjdKDcdLuKEi"
      },
      "source": [
        "## **2.1   Definicion Intuitiva**\n",
        "\n",
        "<h1> <img src=\"https://qph.fs.quoracdn.net/main-qimg-a3b451c289a71014f9ecee452963f6c8\" align=\"Left\" height=\"300\" width=\"350\" />\n",
        "\n",
        "<h1> <img src=\"https://miro.medium.com/max/1946/1*zOl_ztYqnzyWRkBffeOsRQ.png\" align=\"Center\" height=\"300\" width=\"620\" />\n",
        "\n",
        "<h1> <img src=\"https://miro.medium.com/max/1148/1*ArM2nhi7ZQNgdegWAWgG4Q.png\" align=\"Left\" height=\"300\" width=\"350\" />\n",
        "\n",
        "<h1> <img src=\"https://www.simplilearn.com/ice9/free_resources_article_thumb/iris-flower-dataset-graph.JPG\" align=\"Left\" height=\"300\" width=\"300\" />\n",
        "\n",
        "<h1> <img src=\"https://scipy-lectures.org/_images/sphx_glr_plot_iris_knn_001.png\" align=\"Left\" height=\"300\" width=\"350\" />"
      ]
    },
    {
      "cell_type": "markdown",
      "metadata": {
        "id": "niVYYdnmy8Z2"
      },
      "source": [
        "Podemos definir *Machine Learning* como el conjunto de aproximaciones para estimar la funcion *f* (para predecir un valor-Regresion- o para asignar una categoria-clasificacion), usando datos previos y evaluando su rendimiento o capacidad de predicción, haciendo que esta prediccion mejore con el uso recursivo de datos"
      ]
    },
    {
      "cell_type": "markdown",
      "metadata": {
        "id": "4IKTj94LzNUe"
      },
      "source": [
        "## **2.2   Tipos de Variables**\n",
        "\n",
        " <img src=\"https://enciclopediaeconomica.com/wp-content/uploads/2018/12/variables.jpg\" align=\"Right\" height=\"350\" width=\"420\" />\n",
        "\n",
        "Es importante definir los tipos de variables que podemos encontrar en nuestros datos, con el fin de dar el mejor y mas adecuado tratamiento a cada una.\n",
        "\n",
        "**Variables Cualitativas:** Las variables cualitativas son aquellas características o cualidades que no pueden ser calculadas con números, sino que son clasificadas con palabras.\n",
        "\n",
        "*   *Cualitativa nominal:* aquellas variables que no siguen ningún orden en específico. Por ejemplo, los colores, tales como el negro, naranja o amarillo.\n",
        "*   *Cualitativa ordinal:* aquellas que siguen un orden o jerarquía. Por ejemplo, el nivel socioeconómico alto, medio o bajo.\n",
        "*   *Cualitativa binaria:* variables que permiten tan solo dos resultados. Por ejemplo, sí o no; hombre o mujer.\n",
        "\n",
        "**Variables Cuantitativas:** Las variables cuantitativas son aquellas características o cualidades que sí pueden expresarse o medirse a través de números.\n",
        "\n",
        "*   *Cuantitativa discreta:* aquella variable que utiliza valores enteros y finitos. Por ejemplo, la cantidad de familiares que tiene una persona, tal como 2, 3, 4 o más.\n",
        "*   *Cuantitativa continua:* aquella variable que utiliza valores finitos y objetivos, y suele caracterizarse por utilizar valores decimales. Por ejemplo, el peso de una persona, tal como 64.3 kg, 72.3 kg, etc.\n",
        "\n",
        "Para evaluar el rendimiento de las aproximaciones de la estimación de *f* se utilizan métricas que nos ayudan a medir \"que tan bien aproxima *f* a mi valor real\".\n",
        "\n",
        "Para los modelos de **Regresion**, es necesario definir el *MSE* o *Media del Error Cuadratico*.\n",
        "\n",
        "<h1> <img src=\"https://upload.wikimedia.org/wikipedia/commons/e/ed/Residuals_for_Linear_Regression_Fit.png\" align=\"Left\" height=\"250\" width=\"350\" />\n",
        "\n",
        "<h1> <img src=\"https://i.imgur.com/vB3UAiH.jpg\" align=\"Center\" height=\"250\" width=\"600\" />"
      ]
    },
    {
      "cell_type": "markdown",
      "metadata": {
        "id": "ysWdJEaszX_E"
      },
      "source": [
        "Para los modelos de **Clasificación**, es necesario definir el *Accuracy*, *Sensitividad* y *Especificidad*.\n",
        "\n",
        "<h1> <img src=\"https://4.bp.blogspot.com/-jNSCuV2OtOY/XMfoQka3qaI/AAAAAAAAEjY/TiFX8HALafAVzu_zp5njDqOoGCqzyVouwCLcBGAs/s1600/1_001%2Bnew.jpg\" align=\"Left\" height=\"250\" width=\"400\" />\n",
        "\n",
        "<h1> <img src=\"https://2.bp.blogspot.com/-EvSXDotTOwc/XMfeOGZ-CVI/AAAAAAAAEiE/oePFfvhfOQM11dgRn9FkPxlegCXbgOF4QCLcBGAs/s1600/confusionMatrxiUpdated.jpg\" align=\"Right\" height=\"250\" width=\"450\" />"
      ]
    },
    {
      "cell_type": "markdown",
      "metadata": {
        "id": "cLOxa7boz9H8"
      },
      "source": [
        "## **2.3   Paradigma Sesgo - Varianza**\n",
        "Cuando deseamos generar un modelo, usamos los datos disponibles para que este \"aprenda de ellos\" y luego estime valores acerca de \"nuevos datos\".\n",
        "\n",
        "En ese orden de ideas, los datos totales se deben dividir entre dos conjuntos: *Train* y *Test*. De esta manera, nuestros modelo lo construimos (entrenamos) con nuestros datos de *Train* y los probamos con los datos de *Test*.\n",
        "\n",
        "* Si el modelo predice muy bien los datos de test, no aprendió de los datos, \"se aprendió los datos\" (Alto Sesgo), cuando evalue el modelo con los datos de test, no los predecirá bien (Alta Varianza).\n",
        "* Un enfoque puede ser dejar que el modelo no prediga tan bien mis datos de test (Minimizar el Sesgo) para que cuando vea datos nuevos (test) prediga mejor (Minimizar la Varianza).\n",
        "* Sin embargo, existe un un punto donde disminur el sesgo juega en contra y la varianza de mi modelo: al ver datos nuevos tiene un error mayor.\n",
        "\n",
        "La clave es encontrar un punto de equilibrio que me permita minimizar el error cuando el modelo vea datos nuevos.\n",
        "\n",
        "\n",
        "<h1> <img src=\"https://miro.medium.com/max/978/1*CgIdnlB6JK8orFKPXpc7Rg.png\n",
        "\" align=\"Left\" height=\"250\" width=\"250\" />\n",
        "\n",
        "<h1> <img src=\"https://gblobscdn.gitbook.com/assets%2F-LvBP1svpACTB1R1x_U4%2F-LvNWUoWieQqaGmU_gl9%2F-LvNoby-llz4QzAK15nL%2Fimage.png?alt=media&token=41720ce9-bb66-4419-9bd8-640abf1fc415\" align=\"Left\" height=\"250\" width=\"700\" />"
      ]
    },
    {
      "cell_type": "markdown",
      "metadata": {
        "id": "EiEb37AJ0chk"
      },
      "source": [
        "# **3.   Carga y Visualizacion de Datos**"
      ]
    },
    {
      "cell_type": "markdown",
      "metadata": {
        "id": "h-yqpoI708rQ"
      },
      "source": [
        "\n",
        "## **3.1   Carga de Base de Datos**"
      ]
    },
    {
      "cell_type": "markdown",
      "metadata": {
        "id": "enCEaqItFear"
      },
      "source": [
        "Para comenzar vamos a tomar una base de datos de los registros del personal de Titanic:\n",
        "\n",
        "| Variable | Descripción|\n",
        "|:----------|:------------|\n",
        "|Survived  | Si el pasajero sobrevide: 0 = No, 1 = No |\n",
        "|Pclass| Clase del tiquete: 1 = 1st, 2 = 2nd, 3 = 3rd |\n",
        "|Name| Nombre del pasajero |\n",
        "|Sex| Genero del pasajero |\n",
        "|Age| Edad del pasajero|\n",
        "|SibSp| Numero de herman@s / Espos@s abordo del Titanic|\n",
        "|Parch| Numero de padres o hijos abordo |\n",
        "|Ticket| Numero De Tiquete |\n",
        "|Fare| Tarifa Del Tiquete |\n",
        "|Cabin| Numero De Cabina |\n",
        "|embarked| Puerto De Embarque: C = Cherbourg, Q = Queenstown, S = Southampton|"
      ]
    },
    {
      "cell_type": "markdown",
      "metadata": {
        "id": "NXje4NOLFv_9"
      },
      "source": [
        "### **3.1.1   Carga de Librerias a Usar**"
      ]
    },
    {
      "cell_type": "markdown",
      "metadata": {
        "id": "JGzPt7XlFxo0"
      },
      "source": [
        "Con el fin de utilizar funcionalidades espeficicas, cargaremos librerias o paquetes funcionales que nos permitiran acceder a funciones especificas para manipular archivos, dataframes, hacer analisis grafico y modelos de machine learning."
      ]
    },
    {
      "cell_type": "code",
      "metadata": {
        "id": "LXbDdtgIF0cc"
      },
      "source": [
        "import pandas as pd\n",
        "import numpy as np\n",
        "from numpy import loadtxt\n",
        "from pylab import *\n",
        "import matplotlib.pyplot as plt\n",
        "%matplotlib inline\n",
        "import seaborn as sns\n",
        "from IPython.core.interactiveshell import InteractiveShell  \n",
        "InteractiveShell.ast_node_interactivity = \"all\"\n",
        "from IPython.display import display, HTML\n",
        "import pandas as pd\n",
        "from scipy import stats\n",
        "import pandas_profiling\n",
        "import numpy as np\n",
        "import seaborn as sns\n",
        "import matplotlib.pyplot as plt\n",
        "import os\n",
        "import missingno as msno;"
      ],
      "execution_count": 64,
      "outputs": []
    },
    {
      "cell_type": "markdown",
      "metadata": {
        "id": "UL5YdGSvF61L"
      },
      "source": [
        "### **3.1.2   Carga de la Base de Datos**"
      ]
    },
    {
      "cell_type": "code",
      "metadata": {
        "colab": {
          "base_uri": "https://localhost:8080/",
          "height": 390
        },
        "id": "2Y3VAU1Imy61",
        "outputId": "1182bf6f-f819-41e7-e59f-43697e55dff1"
      },
      "source": [
        "url = \"https://gist.githubusercontent.com/michhar/2dfd2de0d4f8727f873422c5d959fff5/raw/fa71405126017e6a37bea592440b4bee94bf7b9e/titanic.csv\"\n",
        "Base = pd.read_csv(url,index_col=0)\n",
        "Base.head(10)"
      ],
      "execution_count": 65,
      "outputs": [
        {
          "output_type": "execute_result",
          "data": {
            "text/html": [
              "<div>\n",
              "<style scoped>\n",
              "    .dataframe tbody tr th:only-of-type {\n",
              "        vertical-align: middle;\n",
              "    }\n",
              "\n",
              "    .dataframe tbody tr th {\n",
              "        vertical-align: top;\n",
              "    }\n",
              "\n",
              "    .dataframe thead th {\n",
              "        text-align: right;\n",
              "    }\n",
              "</style>\n",
              "<table border=\"1\" class=\"dataframe\">\n",
              "  <thead>\n",
              "    <tr style=\"text-align: right;\">\n",
              "      <th></th>\n",
              "      <th>Survived</th>\n",
              "      <th>Pclass</th>\n",
              "      <th>Name</th>\n",
              "      <th>Sex</th>\n",
              "      <th>Age</th>\n",
              "      <th>SibSp</th>\n",
              "      <th>Parch</th>\n",
              "      <th>Ticket</th>\n",
              "      <th>Fare</th>\n",
              "      <th>Cabin</th>\n",
              "      <th>Embarked</th>\n",
              "    </tr>\n",
              "    <tr>\n",
              "      <th>PassengerId</th>\n",
              "      <th></th>\n",
              "      <th></th>\n",
              "      <th></th>\n",
              "      <th></th>\n",
              "      <th></th>\n",
              "      <th></th>\n",
              "      <th></th>\n",
              "      <th></th>\n",
              "      <th></th>\n",
              "      <th></th>\n",
              "      <th></th>\n",
              "    </tr>\n",
              "  </thead>\n",
              "  <tbody>\n",
              "    <tr>\n",
              "      <th>1</th>\n",
              "      <td>0</td>\n",
              "      <td>3</td>\n",
              "      <td>Braund, Mr. Owen Harris</td>\n",
              "      <td>male</td>\n",
              "      <td>22.0</td>\n",
              "      <td>1</td>\n",
              "      <td>0</td>\n",
              "      <td>A/5 21171</td>\n",
              "      <td>7.2500</td>\n",
              "      <td>NaN</td>\n",
              "      <td>S</td>\n",
              "    </tr>\n",
              "    <tr>\n",
              "      <th>2</th>\n",
              "      <td>1</td>\n",
              "      <td>1</td>\n",
              "      <td>Cumings, Mrs. John Bradley (Florence Briggs Th...</td>\n",
              "      <td>female</td>\n",
              "      <td>38.0</td>\n",
              "      <td>1</td>\n",
              "      <td>0</td>\n",
              "      <td>PC 17599</td>\n",
              "      <td>71.2833</td>\n",
              "      <td>C85</td>\n",
              "      <td>C</td>\n",
              "    </tr>\n",
              "    <tr>\n",
              "      <th>3</th>\n",
              "      <td>1</td>\n",
              "      <td>3</td>\n",
              "      <td>Heikkinen, Miss. Laina</td>\n",
              "      <td>female</td>\n",
              "      <td>26.0</td>\n",
              "      <td>0</td>\n",
              "      <td>0</td>\n",
              "      <td>STON/O2. 3101282</td>\n",
              "      <td>7.9250</td>\n",
              "      <td>NaN</td>\n",
              "      <td>S</td>\n",
              "    </tr>\n",
              "    <tr>\n",
              "      <th>4</th>\n",
              "      <td>1</td>\n",
              "      <td>1</td>\n",
              "      <td>Futrelle, Mrs. Jacques Heath (Lily May Peel)</td>\n",
              "      <td>female</td>\n",
              "      <td>35.0</td>\n",
              "      <td>1</td>\n",
              "      <td>0</td>\n",
              "      <td>113803</td>\n",
              "      <td>53.1000</td>\n",
              "      <td>C123</td>\n",
              "      <td>S</td>\n",
              "    </tr>\n",
              "    <tr>\n",
              "      <th>5</th>\n",
              "      <td>0</td>\n",
              "      <td>3</td>\n",
              "      <td>Allen, Mr. William Henry</td>\n",
              "      <td>male</td>\n",
              "      <td>35.0</td>\n",
              "      <td>0</td>\n",
              "      <td>0</td>\n",
              "      <td>373450</td>\n",
              "      <td>8.0500</td>\n",
              "      <td>NaN</td>\n",
              "      <td>S</td>\n",
              "    </tr>\n",
              "    <tr>\n",
              "      <th>6</th>\n",
              "      <td>0</td>\n",
              "      <td>3</td>\n",
              "      <td>Moran, Mr. James</td>\n",
              "      <td>male</td>\n",
              "      <td>NaN</td>\n",
              "      <td>0</td>\n",
              "      <td>0</td>\n",
              "      <td>330877</td>\n",
              "      <td>8.4583</td>\n",
              "      <td>NaN</td>\n",
              "      <td>Q</td>\n",
              "    </tr>\n",
              "    <tr>\n",
              "      <th>7</th>\n",
              "      <td>0</td>\n",
              "      <td>1</td>\n",
              "      <td>McCarthy, Mr. Timothy J</td>\n",
              "      <td>male</td>\n",
              "      <td>54.0</td>\n",
              "      <td>0</td>\n",
              "      <td>0</td>\n",
              "      <td>17463</td>\n",
              "      <td>51.8625</td>\n",
              "      <td>E46</td>\n",
              "      <td>S</td>\n",
              "    </tr>\n",
              "    <tr>\n",
              "      <th>8</th>\n",
              "      <td>0</td>\n",
              "      <td>3</td>\n",
              "      <td>Palsson, Master. Gosta Leonard</td>\n",
              "      <td>male</td>\n",
              "      <td>2.0</td>\n",
              "      <td>3</td>\n",
              "      <td>1</td>\n",
              "      <td>349909</td>\n",
              "      <td>21.0750</td>\n",
              "      <td>NaN</td>\n",
              "      <td>S</td>\n",
              "    </tr>\n",
              "    <tr>\n",
              "      <th>9</th>\n",
              "      <td>1</td>\n",
              "      <td>3</td>\n",
              "      <td>Johnson, Mrs. Oscar W (Elisabeth Vilhelmina Berg)</td>\n",
              "      <td>female</td>\n",
              "      <td>27.0</td>\n",
              "      <td>0</td>\n",
              "      <td>2</td>\n",
              "      <td>347742</td>\n",
              "      <td>11.1333</td>\n",
              "      <td>NaN</td>\n",
              "      <td>S</td>\n",
              "    </tr>\n",
              "    <tr>\n",
              "      <th>10</th>\n",
              "      <td>1</td>\n",
              "      <td>2</td>\n",
              "      <td>Nasser, Mrs. Nicholas (Adele Achem)</td>\n",
              "      <td>female</td>\n",
              "      <td>14.0</td>\n",
              "      <td>1</td>\n",
              "      <td>0</td>\n",
              "      <td>237736</td>\n",
              "      <td>30.0708</td>\n",
              "      <td>NaN</td>\n",
              "      <td>C</td>\n",
              "    </tr>\n",
              "  </tbody>\n",
              "</table>\n",
              "</div>"
            ],
            "text/plain": [
              "             Survived  Pclass  ... Cabin Embarked\n",
              "PassengerId                    ...               \n",
              "1                   0       3  ...   NaN        S\n",
              "2                   1       1  ...   C85        C\n",
              "3                   1       3  ...   NaN        S\n",
              "4                   1       1  ...  C123        S\n",
              "5                   0       3  ...   NaN        S\n",
              "6                   0       3  ...   NaN        Q\n",
              "7                   0       1  ...   E46        S\n",
              "8                   0       3  ...   NaN        S\n",
              "9                   1       3  ...   NaN        S\n",
              "10                  1       2  ...   NaN        C\n",
              "\n",
              "[10 rows x 11 columns]"
            ]
          },
          "metadata": {
            "tags": []
          },
          "execution_count": 65
        }
      ]
    },
    {
      "cell_type": "markdown",
      "metadata": {
        "id": "gu5cuM0XKL9W"
      },
      "source": [
        "## **3.2   Analisis Exploratorio de Datos**"
      ]
    },
    {
      "cell_type": "markdown",
      "metadata": {
        "id": "0cBIOpBmKNiX"
      },
      "source": [
        "Con el fin de observar y evaluar en profunidad los datos contenidos en la base,  procederemos a realizar una exploracion de los mismos, que comprende la revision de los tipos de datos, el comportamiento de las variables categoricas y variables continuas, la existencia de valores faltantes y valores anomalos."
      ]
    },
    {
      "cell_type": "markdown",
      "metadata": {
        "id": "1raXawDKKpvB"
      },
      "source": [
        "### **3.2.1   Tipos de Datos**"
      ]
    },
    {
      "cell_type": "code",
      "metadata": {
        "colab": {
          "base_uri": "https://localhost:8080/"
        },
        "id": "uw-N2ydVm4Wb",
        "outputId": "95112188-e62b-430d-fc72-1634f2052d1e"
      },
      "source": [
        "Base.info()"
      ],
      "execution_count": 66,
      "outputs": [
        {
          "output_type": "stream",
          "text": [
            "<class 'pandas.core.frame.DataFrame'>\n",
            "Int64Index: 891 entries, 1 to 891\n",
            "Data columns (total 11 columns):\n",
            " #   Column    Non-Null Count  Dtype  \n",
            "---  ------    --------------  -----  \n",
            " 0   Survived  891 non-null    int64  \n",
            " 1   Pclass    891 non-null    int64  \n",
            " 2   Name      891 non-null    object \n",
            " 3   Sex       891 non-null    object \n",
            " 4   Age       714 non-null    float64\n",
            " 5   SibSp     891 non-null    int64  \n",
            " 6   Parch     891 non-null    int64  \n",
            " 7   Ticket    891 non-null    object \n",
            " 8   Fare      891 non-null    float64\n",
            " 9   Cabin     204 non-null    object \n",
            " 10  Embarked  889 non-null    object \n",
            "dtypes: float64(2), int64(4), object(5)\n",
            "memory usage: 83.5+ KB\n"
          ],
          "name": "stdout"
        }
      ]
    },
    {
      "cell_type": "markdown",
      "metadata": {
        "id": "dE8GDsacK9MT"
      },
      "source": [
        "*   Podemos observar que tenemos variables tipo texto (object) como *Name, Sex, Ticket, Cabin y Embarqued*.\n",
        "*   Observamos una gran cantidad de variables numericas, tanto enteras (int64), como con decimales (float64), correspondientes a los valores de *Survived, Pclass, Age, SibSp, Parch y Fare*."
      ]
    },
    {
      "cell_type": "markdown",
      "metadata": {
        "id": "jauPLQ3gL4hS"
      },
      "source": [
        "### **3.2.1   Revision de Variables Categoricas**"
      ]
    },
    {
      "cell_type": "markdown",
      "metadata": {
        "id": "XbQbeTwCL8Dl"
      },
      "source": [
        "Al revisar las variables categoricas, lo primero que buscaremos es la existencia valores faltantes y luego observar es cuantos valores diferentes puede tomar cada variable, con esto, determinar si se requiere algun nivel de agregacion.\n",
        "\n",
        "Primero evaluaremos los valores faltantes de la base:"
      ]
    },
    {
      "cell_type": "code",
      "metadata": {
        "id": "WzJDCQQLMPNX",
        "outputId": "6130d648-1b59-4750-b640-611246124574",
        "colab": {
          "base_uri": "https://localhost:8080/",
          "height": 661
        }
      },
      "source": [
        "msno.matrix(Base);"
      ],
      "execution_count": 67,
      "outputs": [
        {
          "output_type": "display_data",
          "data": {
            "image/png": "[encoded data removed]",
            "text/plain": [
              "<Figure size 1800x720 with 2 Axes>"
            ]
          },
          "metadata": {
            "tags": [],
            "needs_background": "light"
          }
        }
      ]
    },
    {
      "cell_type": "code",
      "metadata": {
        "id": "7YT_BVsHM0jW",
        "outputId": "80a439c0-c79c-4412-d6af-f78ecb4dc238",
        "colab": {
          "base_uri": "https://localhost:8080/"
        }
      },
      "source": [
        "Base.info();"
      ],
      "execution_count": 68,
      "outputs": [
        {
          "output_type": "stream",
          "text": [
            "<class 'pandas.core.frame.DataFrame'>\n",
            "Int64Index: 891 entries, 1 to 891\n",
            "Data columns (total 11 columns):\n",
            " #   Column    Non-Null Count  Dtype  \n",
            "---  ------    --------------  -----  \n",
            " 0   Survived  891 non-null    int64  \n",
            " 1   Pclass    891 non-null    int64  \n",
            " 2   Name      891 non-null    object \n",
            " 3   Sex       891 non-null    object \n",
            " 4   Age       714 non-null    float64\n",
            " 5   SibSp     891 non-null    int64  \n",
            " 6   Parch     891 non-null    int64  \n",
            " 7   Ticket    891 non-null    object \n",
            " 8   Fare      891 non-null    float64\n",
            " 9   Cabin     204 non-null    object \n",
            " 10  Embarked  889 non-null    object \n",
            "dtypes: float64(2), int64(4), object(5)\n",
            "memory usage: 83.5+ KB\n"
          ],
          "name": "stdout"
        }
      ]
    },
    {
      "cell_type": "markdown",
      "metadata": {
        "id": "2bJC5W6cIskk"
      },
      "source": [
        "* Podemos ver que con respecto a la variable *Age* hay 177 valores donde no hay regsitro de la edad del pasajero.\n",
        "\n",
        "* Con respecto a la variable *Cabin* no yay registro en 687 casos.\n",
        "\n",
        "Para efectos de este analisis, eliminaremos los registros donde no hay valores. Esta no es la mejor manera de tratar los valores faltantes (sobre todo si son demasiados), existe para eso tecnicas de imputacion."
      ]
    },
    {
      "cell_type": "code",
      "metadata": {
        "id": "6WuvSoC3X1Y3",
        "outputId": "7d3acd0d-c4f4-417b-a925-9c81fdde1f3b",
        "colab": {
          "base_uri": "https://localhost:8080/",
          "height": 404
        }
      },
      "source": [
        "pd.DataFrame(Base[\"Pclass\"].value_counts())\n",
        "pd.DataFrame(Base[\"Pclass\"].value_counts()).plot.bar()"
      ],
      "execution_count": 69,
      "outputs": [
        {
          "output_type": "execute_result",
          "data": {
            "text/html": [
              "<div>\n",
              "<style scoped>\n",
              "    .dataframe tbody tr th:only-of-type {\n",
              "        vertical-align: middle;\n",
              "    }\n",
              "\n",
              "    .dataframe tbody tr th {\n",
              "        vertical-align: top;\n",
              "    }\n",
              "\n",
              "    .dataframe thead th {\n",
              "        text-align: right;\n",
              "    }\n",
              "</style>\n",
              "<table border=\"1\" class=\"dataframe\">\n",
              "  <thead>\n",
              "    <tr style=\"text-align: right;\">\n",
              "      <th></th>\n",
              "      <th>Pclass</th>\n",
              "    </tr>\n",
              "  </thead>\n",
              "  <tbody>\n",
              "    <tr>\n",
              "      <th>3</th>\n",
              "      <td>491</td>\n",
              "    </tr>\n",
              "    <tr>\n",
              "      <th>1</th>\n",
              "      <td>216</td>\n",
              "    </tr>\n",
              "    <tr>\n",
              "      <th>2</th>\n",
              "      <td>184</td>\n",
              "    </tr>\n",
              "  </tbody>\n",
              "</table>\n",
              "</div>"
            ],
            "text/plain": [
              "   Pclass\n",
              "3     491\n",
              "1     216\n",
              "2     184"
            ]
          },
          "metadata": {
            "tags": []
          },
          "execution_count": 69
        },
        {
          "output_type": "execute_result",
          "data": {
            "text/plain": [
              "<matplotlib.axes._subplots.AxesSubplot at 0x7f4de2023590>"
            ]
          },
          "metadata": {
            "tags": []
          },
          "execution_count": 69
        },
        {
          "output_type": "display_data",
          "data": {
            "image/png": "[encoded data removed]",
            "text/plain": [
              "<Figure size 432x288 with 1 Axes>"
            ]
          },
          "metadata": {
            "tags": [],
            "needs_background": "light"
          }
        }
      ]
    },
    {
      "cell_type": "code",
      "metadata": {
        "id": "4ZBTviP9Z3HB",
        "outputId": "d178f341-69c3-4f26-ff9a-22e2d70dcc05",
        "colab": {
          "base_uri": "https://localhost:8080/",
          "height": 403
        }
      },
      "source": [
        "pd.DataFrame(Base[\"Sex\"].value_counts())\n",
        "pd.DataFrame(Base[\"Sex\"].value_counts()).plot.bar()"
      ],
      "execution_count": 70,
      "outputs": [
        {
          "output_type": "execute_result",
          "data": {
            "text/html": [
              "<div>\n",
              "<style scoped>\n",
              "    .dataframe tbody tr th:only-of-type {\n",
              "        vertical-align: middle;\n",
              "    }\n",
              "\n",
              "    .dataframe tbody tr th {\n",
              "        vertical-align: top;\n",
              "    }\n",
              "\n",
              "    .dataframe thead th {\n",
              "        text-align: right;\n",
              "    }\n",
              "</style>\n",
              "<table border=\"1\" class=\"dataframe\">\n",
              "  <thead>\n",
              "    <tr style=\"text-align: right;\">\n",
              "      <th></th>\n",
              "      <th>Sex</th>\n",
              "    </tr>\n",
              "  </thead>\n",
              "  <tbody>\n",
              "    <tr>\n",
              "      <th>male</th>\n",
              "      <td>577</td>\n",
              "    </tr>\n",
              "    <tr>\n",
              "      <th>female</th>\n",
              "      <td>314</td>\n",
              "    </tr>\n",
              "  </tbody>\n",
              "</table>\n",
              "</div>"
            ],
            "text/plain": [
              "        Sex\n",
              "male    577\n",
              "female  314"
            ]
          },
          "metadata": {
            "tags": []
          },
          "execution_count": 70
        },
        {
          "output_type": "execute_result",
          "data": {
            "text/plain": [
              "<matplotlib.axes._subplots.AxesSubplot at 0x7f4de1f940d0>"
            ]
          },
          "metadata": {
            "tags": []
          },
          "execution_count": 70
        },
        {
          "output_type": "display_data",
          "data": {
            "image/png": "[encoded data removed]",
            "text/plain": [
              "<Figure size 432x288 with 1 Axes>"
            ]
          },
          "metadata": {
            "tags": [],
            "needs_background": "light"
          }
        }
      ]
    },
    {
      "cell_type": "code",
      "metadata": {
        "id": "Aho-qrg_aR8p",
        "outputId": "1af68f58-a47b-4781-bc89-31173aba4278",
        "colab": {
          "base_uri": "https://localhost:8080/",
          "height": 528
        }
      },
      "source": [
        "pd.DataFrame(Base[\"Parch\"].value_counts())\n",
        "pd.DataFrame(Base[\"Parch\"].value_counts()).plot.bar()"
      ],
      "execution_count": 71,
      "outputs": [
        {
          "output_type": "execute_result",
          "data": {
            "text/html": [
              "<div>\n",
              "<style scoped>\n",
              "    .dataframe tbody tr th:only-of-type {\n",
              "        vertical-align: middle;\n",
              "    }\n",
              "\n",
              "    .dataframe tbody tr th {\n",
              "        vertical-align: top;\n",
              "    }\n",
              "\n",
              "    .dataframe thead th {\n",
              "        text-align: right;\n",
              "    }\n",
              "</style>\n",
              "<table border=\"1\" class=\"dataframe\">\n",
              "  <thead>\n",
              "    <tr style=\"text-align: right;\">\n",
              "      <th></th>\n",
              "      <th>Parch</th>\n",
              "    </tr>\n",
              "  </thead>\n",
              "  <tbody>\n",
              "    <tr>\n",
              "      <th>0</th>\n",
              "      <td>678</td>\n",
              "    </tr>\n",
              "    <tr>\n",
              "      <th>1</th>\n",
              "      <td>118</td>\n",
              "    </tr>\n",
              "    <tr>\n",
              "      <th>2</th>\n",
              "      <td>80</td>\n",
              "    </tr>\n",
              "    <tr>\n",
              "      <th>5</th>\n",
              "      <td>5</td>\n",
              "    </tr>\n",
              "    <tr>\n",
              "      <th>3</th>\n",
              "      <td>5</td>\n",
              "    </tr>\n",
              "    <tr>\n",
              "      <th>4</th>\n",
              "      <td>4</td>\n",
              "    </tr>\n",
              "    <tr>\n",
              "      <th>6</th>\n",
              "      <td>1</td>\n",
              "    </tr>\n",
              "  </tbody>\n",
              "</table>\n",
              "</div>"
            ],
            "text/plain": [
              "   Parch\n",
              "0    678\n",
              "1    118\n",
              "2     80\n",
              "5      5\n",
              "3      5\n",
              "4      4\n",
              "6      1"
            ]
          },
          "metadata": {
            "tags": []
          },
          "execution_count": 71
        },
        {
          "output_type": "execute_result",
          "data": {
            "text/plain": [
              "<matplotlib.axes._subplots.AxesSubplot at 0x7f4de1f07190>"
            ]
          },
          "metadata": {
            "tags": []
          },
          "execution_count": 71
        },
        {
          "output_type": "display_data",
          "data": {
            "image/png": "[encoded data removed]",
            "text/plain": [
              "<Figure size 432x288 with 1 Axes>"
            ]
          },
          "metadata": {
            "tags": [],
            "needs_background": "light"
          }
        }
      ]
    },
    {
      "cell_type": "code",
      "metadata": {
        "id": "TdNcdJ-qb_DH",
        "outputId": "6302e0c5-3035-4c4a-ac49-fd1b1be67a84",
        "colab": {
          "base_uri": "https://localhost:8080/",
          "height": 419
        }
      },
      "source": [
        "pd.DataFrame(Base[\"Cabin\"].value_counts())"
      ],
      "execution_count": 72,
      "outputs": [
        {
          "output_type": "execute_result",
          "data": {
            "text/html": [
              "<div>\n",
              "<style scoped>\n",
              "    .dataframe tbody tr th:only-of-type {\n",
              "        vertical-align: middle;\n",
              "    }\n",
              "\n",
              "    .dataframe tbody tr th {\n",
              "        vertical-align: top;\n",
              "    }\n",
              "\n",
              "    .dataframe thead th {\n",
              "        text-align: right;\n",
              "    }\n",
              "</style>\n",
              "<table border=\"1\" class=\"dataframe\">\n",
              "  <thead>\n",
              "    <tr style=\"text-align: right;\">\n",
              "      <th></th>\n",
              "      <th>Cabin</th>\n",
              "    </tr>\n",
              "  </thead>\n",
              "  <tbody>\n",
              "    <tr>\n",
              "      <th>G6</th>\n",
              "      <td>4</td>\n",
              "    </tr>\n",
              "    <tr>\n",
              "      <th>B96 B98</th>\n",
              "      <td>4</td>\n",
              "    </tr>\n",
              "    <tr>\n",
              "      <th>C23 C25 C27</th>\n",
              "      <td>4</td>\n",
              "    </tr>\n",
              "    <tr>\n",
              "      <th>E101</th>\n",
              "      <td>3</td>\n",
              "    </tr>\n",
              "    <tr>\n",
              "      <th>D</th>\n",
              "      <td>3</td>\n",
              "    </tr>\n",
              "    <tr>\n",
              "      <th>...</th>\n",
              "      <td>...</td>\n",
              "    </tr>\n",
              "    <tr>\n",
              "      <th>C87</th>\n",
              "      <td>1</td>\n",
              "    </tr>\n",
              "    <tr>\n",
              "      <th>B86</th>\n",
              "      <td>1</td>\n",
              "    </tr>\n",
              "    <tr>\n",
              "      <th>F E69</th>\n",
              "      <td>1</td>\n",
              "    </tr>\n",
              "    <tr>\n",
              "      <th>E49</th>\n",
              "      <td>1</td>\n",
              "    </tr>\n",
              "    <tr>\n",
              "      <th>D19</th>\n",
              "      <td>1</td>\n",
              "    </tr>\n",
              "  </tbody>\n",
              "</table>\n",
              "<p>147 rows × 1 columns</p>\n",
              "</div>"
            ],
            "text/plain": [
              "             Cabin\n",
              "G6               4\n",
              "B96 B98          4\n",
              "C23 C25 C27      4\n",
              "E101             3\n",
              "D                3\n",
              "...            ...\n",
              "C87              1\n",
              "B86              1\n",
              "F E69            1\n",
              "E49              1\n",
              "D19              1\n",
              "\n",
              "[147 rows x 1 columns]"
            ]
          },
          "metadata": {
            "tags": []
          },
          "execution_count": 72
        }
      ]
    },
    {
      "cell_type": "code",
      "metadata": {
        "id": "ttcIPmkgcBtw",
        "outputId": "c223a0c1-614c-4347-fae5-aea88e060cbf",
        "colab": {
          "base_uri": "https://localhost:8080/",
          "height": 405
        }
      },
      "source": [
        "pd.DataFrame(Base[\"Embarked\"].value_counts())\n",
        "pd.DataFrame(Base[\"Embarked\"].value_counts()).plot.bar()"
      ],
      "execution_count": 73,
      "outputs": [
        {
          "output_type": "execute_result",
          "data": {
            "text/html": [
              "<div>\n",
              "<style scoped>\n",
              "    .dataframe tbody tr th:only-of-type {\n",
              "        vertical-align: middle;\n",
              "    }\n",
              "\n",
              "    .dataframe tbody tr th {\n",
              "        vertical-align: top;\n",
              "    }\n",
              "\n",
              "    .dataframe thead th {\n",
              "        text-align: right;\n",
              "    }\n",
              "</style>\n",
              "<table border=\"1\" class=\"dataframe\">\n",
              "  <thead>\n",
              "    <tr style=\"text-align: right;\">\n",
              "      <th></th>\n",
              "      <th>Embarked</th>\n",
              "    </tr>\n",
              "  </thead>\n",
              "  <tbody>\n",
              "    <tr>\n",
              "      <th>S</th>\n",
              "      <td>644</td>\n",
              "    </tr>\n",
              "    <tr>\n",
              "      <th>C</th>\n",
              "      <td>168</td>\n",
              "    </tr>\n",
              "    <tr>\n",
              "      <th>Q</th>\n",
              "      <td>77</td>\n",
              "    </tr>\n",
              "  </tbody>\n",
              "</table>\n",
              "</div>"
            ],
            "text/plain": [
              "   Embarked\n",
              "S       644\n",
              "C       168\n",
              "Q        77"
            ]
          },
          "metadata": {
            "tags": []
          },
          "execution_count": 73
        },
        {
          "output_type": "execute_result",
          "data": {
            "text/plain": [
              "<matplotlib.axes._subplots.AxesSubplot at 0x7f4de1ee2590>"
            ]
          },
          "metadata": {
            "tags": []
          },
          "execution_count": 73
        },
        {
          "output_type": "display_data",
          "data": {
            "image/png": "[encoded data removed]",
            "text/plain": [
              "<Figure size 432x288 with 1 Axes>"
            ]
          },
          "metadata": {
            "tags": [],
            "needs_background": "light"
          }
        }
      ]
    },
    {
      "cell_type": "code",
      "metadata": {
        "id": "M3Sm1Y0cik_Z",
        "outputId": "781cc619-91f8-4ccd-98b1-1e414a50ad64",
        "colab": {
          "base_uri": "https://localhost:8080/",
          "height": 528
        }
      },
      "source": [
        "pd.DataFrame(Base[\"SibSp\"].value_counts())\n",
        "pd.DataFrame(Base[\"SibSp\"].value_counts()).plot.bar()"
      ],
      "execution_count": 79,
      "outputs": [
        {
          "output_type": "execute_result",
          "data": {
            "text/html": [
              "<div>\n",
              "<style scoped>\n",
              "    .dataframe tbody tr th:only-of-type {\n",
              "        vertical-align: middle;\n",
              "    }\n",
              "\n",
              "    .dataframe tbody tr th {\n",
              "        vertical-align: top;\n",
              "    }\n",
              "\n",
              "    .dataframe thead th {\n",
              "        text-align: right;\n",
              "    }\n",
              "</style>\n",
              "<table border=\"1\" class=\"dataframe\">\n",
              "  <thead>\n",
              "    <tr style=\"text-align: right;\">\n",
              "      <th></th>\n",
              "      <th>SibSp</th>\n",
              "    </tr>\n",
              "  </thead>\n",
              "  <tbody>\n",
              "    <tr>\n",
              "      <th>0</th>\n",
              "      <td>608</td>\n",
              "    </tr>\n",
              "    <tr>\n",
              "      <th>1</th>\n",
              "      <td>209</td>\n",
              "    </tr>\n",
              "    <tr>\n",
              "      <th>2</th>\n",
              "      <td>28</td>\n",
              "    </tr>\n",
              "    <tr>\n",
              "      <th>4</th>\n",
              "      <td>18</td>\n",
              "    </tr>\n",
              "    <tr>\n",
              "      <th>3</th>\n",
              "      <td>16</td>\n",
              "    </tr>\n",
              "    <tr>\n",
              "      <th>8</th>\n",
              "      <td>7</td>\n",
              "    </tr>\n",
              "    <tr>\n",
              "      <th>5</th>\n",
              "      <td>5</td>\n",
              "    </tr>\n",
              "  </tbody>\n",
              "</table>\n",
              "</div>"
            ],
            "text/plain": [
              "   SibSp\n",
              "0    608\n",
              "1    209\n",
              "2     28\n",
              "4     18\n",
              "3     16\n",
              "8      7\n",
              "5      5"
            ]
          },
          "metadata": {
            "tags": []
          },
          "execution_count": 79
        },
        {
          "output_type": "execute_result",
          "data": {
            "text/plain": [
              "<matplotlib.axes._subplots.AxesSubplot at 0x7f4de1e88710>"
            ]
          },
          "metadata": {
            "tags": []
          },
          "execution_count": 79
        },
        {
          "output_type": "display_data",
          "data": {
            "image/png": "[encoded data removed]",
            "text/plain": [
              "<Figure size 432x288 with 1 Axes>"
            ]
          },
          "metadata": {
            "tags": [],
            "needs_background": "light"
          }
        }
      ]
    },
    {
      "cell_type": "markdown",
      "metadata": {
        "id": "Mpmdx7HCZB7e"
      },
      "source": [
        "Podemos ver que hay un nivel alto de variacion en las categorias del numero de cabina, podriamos generar algun nivel de agregacion, pero en este caso procederemos a elimirnar esta variable.\n",
        "\n",
        "Revisaremos la probablidad de supervivencia de acuerdo a la categoria:"
      ]
    },
    {
      "cell_type": "code",
      "metadata": {
        "id": "VZxIgEDGOrKY",
        "outputId": "0c8bf94f-e328-42eb-a063-89de5cdd5f45",
        "colab": {
          "base_uri": "https://localhost:8080/",
          "height": 279
        }
      },
      "source": [
        "sns.barplot(x='Pclass', y='Survived', data=Base);"
      ],
      "execution_count": 74,
      "outputs": [
        {
          "output_type": "display_data",
          "data": {
            "image/png": "[encoded data removed]",
            "text/plain": [
              "<Figure size 432x288 with 1 Axes>"
            ]
          },
          "metadata": {
            "tags": [],
            "needs_background": "light"
          }
        }
      ]
    },
    {
      "cell_type": "code",
      "metadata": {
        "id": "fSSmabGVVCwW",
        "outputId": "0c91c8e0-27e9-406c-a0fd-97361e2f5c22",
        "colab": {
          "base_uri": "https://localhost:8080/",
          "height": 279
        }
      },
      "source": [
        "sns.barplot(x='Sex', y='Survived', data=Base);"
      ],
      "execution_count": 75,
      "outputs": [
        {
          "output_type": "display_data",
          "data": {
            "image/png": "[encoded data removed]",
            "text/plain": [
              "<Figure size 432x288 with 1 Axes>"
            ]
          },
          "metadata": {
            "tags": [],
            "needs_background": "light"
          }
        }
      ]
    },
    {
      "cell_type": "code",
      "metadata": {
        "id": "srWnZNU9VLEc",
        "outputId": "c2a0984c-abac-4005-c64c-fd50ff50ce4c",
        "colab": {
          "base_uri": "https://localhost:8080/",
          "height": 279
        }
      },
      "source": [
        "sns.barplot(x='Embarked', y='Survived', data=Base);"
      ],
      "execution_count": 76,
      "outputs": [
        {
          "output_type": "display_data",
          "data": {
            "image/png": "[encoded data removed]",
            "text/plain": [
              "<Figure size 432x288 with 1 Axes>"
            ]
          },
          "metadata": {
            "tags": [],
            "needs_background": "light"
          }
        }
      ]
    },
    {
      "cell_type": "code",
      "metadata": {
        "id": "Qh1gK1z9jHse",
        "outputId": "d5e94664-fdb3-47e3-d60a-e5cd425f04c4",
        "colab": {
          "base_uri": "https://localhost:8080/",
          "height": 279
        }
      },
      "source": [
        "sns.barplot(x='Parch', y='Survived', data=Base);"
      ],
      "execution_count": 81,
      "outputs": [
        {
          "output_type": "display_data",
          "data": {
            "image/png": "[encoded data removed]",
            "text/plain": [
              "<Figure size 432x288 with 1 Axes>"
            ]
          },
          "metadata": {
            "tags": [],
            "needs_background": "light"
          }
        }
      ]
    },
    {
      "cell_type": "code",
      "metadata": {
        "id": "NrHp4v5Li4K1",
        "outputId": "41033fea-3da6-46e2-9e71-ea861fcd2b3e",
        "colab": {
          "base_uri": "https://localhost:8080/",
          "height": 279
        }
      },
      "source": [
        "sns.barplot(x='SibSp', y='Survived', data=Base);"
      ],
      "execution_count": 80,
      "outputs": [
        {
          "output_type": "display_data",
          "data": {
            "image/png": "[encoded data removed]",
            "text/plain": [
              "<Figure size 432x288 with 1 Axes>"
            ]
          },
          "metadata": {
            "tags": [],
            "needs_background": "light"
          }
        }
      ]
    },
    {
      "cell_type": "markdown",
      "metadata": {
        "id": "54S7XEMRhKDp"
      },
      "source": [
        "### **3.2.2   Revision de Variables Continuas**"
      ]
    },
    {
      "cell_type": "markdown",
      "metadata": {
        "id": "nM24d2cmhNNv"
      },
      "source": [
        "Revisaremos el comportamiento de estas variables con el fin de detectar valores faltantes y atipicos. Revisaremos sus distribuciones y el nivel de correlacion que hay entre ellas, con el fin de encontrar relaciones que nos faciliten la construcción del algún modelo."
      ]
    },
    {
      "cell_type": "code",
      "metadata": {
        "id": "1Kj6K7y4d71X",
        "outputId": "55144772-83eb-4448-dfff-f022f5369f93",
        "colab": {
          "base_uri": "https://localhost:8080/",
          "height": 320
        }
      },
      "source": [
        "cols = [\"Age\",\"Fare\"]\n",
        "Base[cols].plot(kind=\"box\",subplots=True,figsize=(20, 5));"
      ],
      "execution_count": 77,
      "outputs": [
        {
          "output_type": "display_data",
          "data": {
            "image/png": "[encoded data removed]",
            "text/plain": [
              "<Figure size 1440x360 with 2 Axes>"
            ]
          },
          "metadata": {
            "tags": [],
            "needs_background": "light"
          }
        }
      ]
    },
    {
      "cell_type": "markdown",
      "metadata": {
        "id": "hADYSW7_hhXC"
      },
      "source": [
        "# **4.   Preparacion de la Base de Datos**"
      ]
    },
    {
      "cell_type": "markdown",
      "metadata": {
        "id": "xxMJATAPhw7S"
      },
      "source": [
        "Eliminaremos las columnas con demmasiados datos faltantes y las que consideremos irrelevantes para nuestro analisis."
      ]
    },
    {
      "cell_type": "code",
      "metadata": {
        "colab": {
          "base_uri": "https://localhost:8080/",
          "height": 450
        },
        "id": "qgKfd8cxtYjn",
        "outputId": "35d4fde0-e0d2-45ac-a580-505106160d3d"
      },
      "source": [
        "Base=Base.drop(['Cabin',\"Name\",\"Ticket\"], axis=1)\n",
        "Base"
      ],
      "execution_count": 78,
      "outputs": [
        {
          "output_type": "execute_result",
          "data": {
            "text/html": [
              "<div>\n",
              "<style scoped>\n",
              "    .dataframe tbody tr th:only-of-type {\n",
              "        vertical-align: middle;\n",
              "    }\n",
              "\n",
              "    .dataframe tbody tr th {\n",
              "        vertical-align: top;\n",
              "    }\n",
              "\n",
              "    .dataframe thead th {\n",
              "        text-align: right;\n",
              "    }\n",
              "</style>\n",
              "<table border=\"1\" class=\"dataframe\">\n",
              "  <thead>\n",
              "    <tr style=\"text-align: right;\">\n",
              "      <th></th>\n",
              "      <th>Survived</th>\n",
              "      <th>Pclass</th>\n",
              "      <th>Sex</th>\n",
              "      <th>Age</th>\n",
              "      <th>SibSp</th>\n",
              "      <th>Parch</th>\n",
              "      <th>Fare</th>\n",
              "      <th>Embarked</th>\n",
              "    </tr>\n",
              "    <tr>\n",
              "      <th>PassengerId</th>\n",
              "      <th></th>\n",
              "      <th></th>\n",
              "      <th></th>\n",
              "      <th></th>\n",
              "      <th></th>\n",
              "      <th></th>\n",
              "      <th></th>\n",
              "      <th></th>\n",
              "    </tr>\n",
              "  </thead>\n",
              "  <tbody>\n",
              "    <tr>\n",
              "      <th>1</th>\n",
              "      <td>0</td>\n",
              "      <td>3</td>\n",
              "      <td>male</td>\n",
              "      <td>22.0</td>\n",
              "      <td>1</td>\n",
              "      <td>0</td>\n",
              "      <td>7.2500</td>\n",
              "      <td>S</td>\n",
              "    </tr>\n",
              "    <tr>\n",
              "      <th>2</th>\n",
              "      <td>1</td>\n",
              "      <td>1</td>\n",
              "      <td>female</td>\n",
              "      <td>38.0</td>\n",
              "      <td>1</td>\n",
              "      <td>0</td>\n",
              "      <td>71.2833</td>\n",
              "      <td>C</td>\n",
              "    </tr>\n",
              "    <tr>\n",
              "      <th>3</th>\n",
              "      <td>1</td>\n",
              "      <td>3</td>\n",
              "      <td>female</td>\n",
              "      <td>26.0</td>\n",
              "      <td>0</td>\n",
              "      <td>0</td>\n",
              "      <td>7.9250</td>\n",
              "      <td>S</td>\n",
              "    </tr>\n",
              "    <tr>\n",
              "      <th>4</th>\n",
              "      <td>1</td>\n",
              "      <td>1</td>\n",
              "      <td>female</td>\n",
              "      <td>35.0</td>\n",
              "      <td>1</td>\n",
              "      <td>0</td>\n",
              "      <td>53.1000</td>\n",
              "      <td>S</td>\n",
              "    </tr>\n",
              "    <tr>\n",
              "      <th>5</th>\n",
              "      <td>0</td>\n",
              "      <td>3</td>\n",
              "      <td>male</td>\n",
              "      <td>35.0</td>\n",
              "      <td>0</td>\n",
              "      <td>0</td>\n",
              "      <td>8.0500</td>\n",
              "      <td>S</td>\n",
              "    </tr>\n",
              "    <tr>\n",
              "      <th>...</th>\n",
              "      <td>...</td>\n",
              "      <td>...</td>\n",
              "      <td>...</td>\n",
              "      <td>...</td>\n",
              "      <td>...</td>\n",
              "      <td>...</td>\n",
              "      <td>...</td>\n",
              "      <td>...</td>\n",
              "    </tr>\n",
              "    <tr>\n",
              "      <th>887</th>\n",
              "      <td>0</td>\n",
              "      <td>2</td>\n",
              "      <td>male</td>\n",
              "      <td>27.0</td>\n",
              "      <td>0</td>\n",
              "      <td>0</td>\n",
              "      <td>13.0000</td>\n",
              "      <td>S</td>\n",
              "    </tr>\n",
              "    <tr>\n",
              "      <th>888</th>\n",
              "      <td>1</td>\n",
              "      <td>1</td>\n",
              "      <td>female</td>\n",
              "      <td>19.0</td>\n",
              "      <td>0</td>\n",
              "      <td>0</td>\n",
              "      <td>30.0000</td>\n",
              "      <td>S</td>\n",
              "    </tr>\n",
              "    <tr>\n",
              "      <th>889</th>\n",
              "      <td>0</td>\n",
              "      <td>3</td>\n",
              "      <td>female</td>\n",
              "      <td>NaN</td>\n",
              "      <td>1</td>\n",
              "      <td>2</td>\n",
              "      <td>23.4500</td>\n",
              "      <td>S</td>\n",
              "    </tr>\n",
              "    <tr>\n",
              "      <th>890</th>\n",
              "      <td>1</td>\n",
              "      <td>1</td>\n",
              "      <td>male</td>\n",
              "      <td>26.0</td>\n",
              "      <td>0</td>\n",
              "      <td>0</td>\n",
              "      <td>30.0000</td>\n",
              "      <td>C</td>\n",
              "    </tr>\n",
              "    <tr>\n",
              "      <th>891</th>\n",
              "      <td>0</td>\n",
              "      <td>3</td>\n",
              "      <td>male</td>\n",
              "      <td>32.0</td>\n",
              "      <td>0</td>\n",
              "      <td>0</td>\n",
              "      <td>7.7500</td>\n",
              "      <td>Q</td>\n",
              "    </tr>\n",
              "  </tbody>\n",
              "</table>\n",
              "<p>891 rows × 8 columns</p>\n",
              "</div>"
            ],
            "text/plain": [
              "             Survived  Pclass     Sex   Age  SibSp  Parch     Fare Embarked\n",
              "PassengerId                                                                \n",
              "1                   0       3    male  22.0      1      0   7.2500        S\n",
              "2                   1       1  female  38.0      1      0  71.2833        C\n",
              "3                   1       3  female  26.0      0      0   7.9250        S\n",
              "4                   1       1  female  35.0      1      0  53.1000        S\n",
              "5                   0       3    male  35.0      0      0   8.0500        S\n",
              "...               ...     ...     ...   ...    ...    ...      ...      ...\n",
              "887                 0       2    male  27.0      0      0  13.0000        S\n",
              "888                 1       1  female  19.0      0      0  30.0000        S\n",
              "889                 0       3  female   NaN      1      2  23.4500        S\n",
              "890                 1       1    male  26.0      0      0  30.0000        C\n",
              "891                 0       3    male  32.0      0      0   7.7500        Q\n",
              "\n",
              "[891 rows x 8 columns]"
            ]
          },
          "metadata": {
            "tags": []
          },
          "execution_count": 78
        }
      ]
    },
    {
      "cell_type": "code",
      "metadata": {
        "id": "SoCjS_MOOqhr"
      },
      "source": [
        ""
      ],
      "execution_count": 78,
      "outputs": []
    },
    {
      "cell_type": "code",
      "metadata": {
        "id": "E8FWR8Wa5HGu"
      },
      "source": [
        ""
      ],
      "execution_count": 78,
      "outputs": []
    }
  ]
}
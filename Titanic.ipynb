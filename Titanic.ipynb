{
  "nbformat": 4,
  "nbformat_minor": 0,
  "metadata": {
    "colab": {
      "name": "Titanic.ipynb",
      "provenance": [],
      "collapsed_sections": [],
      "include_colab_link": true
    },
    "kernelspec": {
      "name": "python3",
      "display_name": "Python 3"
    },
    "language_info": {
      "name": "python"
    },
    "widgets": {
      "application/vnd.jupyter.widget-state+json": {
        "e235bba0c7ba4947a6c31b3a59debffe": {
          "model_module": "@jupyter-widgets/controls",
          "model_name": "IntProgressModel",
          "state": {
            "_view_name": "ProgressView",
            "style": "IPY_MODEL_34cfb4d6f6db4efc98ba6e30b3ce246e",
            "_dom_classes": [],
            "description": "Processing: ",
            "_model_name": "IntProgressModel",
            "bar_style": "",
            "max": 69,
            "_view_module": "@jupyter-widgets/controls",
            "_model_module_version": "1.5.0",
            "value": 69,
            "_view_count": null,
            "_view_module_version": "1.5.0",
            "orientation": "horizontal",
            "min": 0,
            "description_tooltip": null,
            "_model_module": "@jupyter-widgets/controls",
            "layout": "IPY_MODEL_ea30c7bcec1a49439bfcea023953f0f8"
          }
        },
        "34cfb4d6f6db4efc98ba6e30b3ce246e": {
          "model_module": "@jupyter-widgets/controls",
          "model_name": "ProgressStyleModel",
          "state": {
            "_view_name": "StyleView",
            "_model_name": "ProgressStyleModel",
            "description_width": "",
            "_view_module": "@jupyter-widgets/base",
            "_model_module_version": "1.5.0",
            "_view_count": null,
            "_view_module_version": "1.2.0",
            "bar_color": null,
            "_model_module": "@jupyter-widgets/controls"
          }
        },
        "ea30c7bcec1a49439bfcea023953f0f8": {
          "model_module": "@jupyter-widgets/base",
          "model_name": "LayoutModel",
          "state": {
            "_view_name": "LayoutView",
            "grid_template_rows": null,
            "right": null,
            "justify_content": null,
            "_view_module": "@jupyter-widgets/base",
            "overflow": null,
            "_model_module_version": "1.2.0",
            "_view_count": null,
            "flex_flow": null,
            "width": null,
            "min_width": null,
            "border": null,
            "align_items": null,
            "bottom": null,
            "_model_module": "@jupyter-widgets/base",
            "top": null,
            "grid_column": null,
            "overflow_y": null,
            "overflow_x": null,
            "grid_auto_flow": null,
            "grid_area": null,
            "grid_template_columns": null,
            "flex": null,
            "_model_name": "LayoutModel",
            "justify_items": null,
            "grid_row": null,
            "max_height": null,
            "align_content": null,
            "visibility": null,
            "align_self": null,
            "height": null,
            "min_height": null,
            "padding": null,
            "grid_auto_rows": null,
            "grid_gap": null,
            "max_width": null,
            "order": null,
            "_view_module_version": "1.2.0",
            "grid_template_areas": null,
            "object_position": null,
            "object_fit": null,
            "grid_auto_columns": null,
            "margin": null,
            "display": null,
            "left": null
          }
        },
        "a665b9231d3d4872b19e59b0e3e9b5a6": {
          "model_module": "@jupyter-widgets/controls",
          "model_name": "IntProgressModel",
          "state": {
            "_view_name": "ProgressView",
            "style": "IPY_MODEL_ae2d55d7d4ee42eaa6f4b8b4792feaf9",
            "_dom_classes": [],
            "description": "Processing: ",
            "_model_name": "IntProgressModel",
            "bar_style": "",
            "max": 4,
            "_view_module": "@jupyter-widgets/controls",
            "_model_module_version": "1.5.0",
            "value": 4,
            "_view_count": null,
            "_view_module_version": "1.5.0",
            "orientation": "horizontal",
            "min": 0,
            "description_tooltip": null,
            "_model_module": "@jupyter-widgets/controls",
            "layout": "IPY_MODEL_aa38a9f8d01342a895b108c648c40f01"
          }
        },
        "ae2d55d7d4ee42eaa6f4b8b4792feaf9": {
          "model_module": "@jupyter-widgets/controls",
          "model_name": "ProgressStyleModel",
          "state": {
            "_view_name": "StyleView",
            "_model_name": "ProgressStyleModel",
            "description_width": "",
            "_view_module": "@jupyter-widgets/base",
            "_model_module_version": "1.5.0",
            "_view_count": null,
            "_view_module_version": "1.2.0",
            "bar_color": null,
            "_model_module": "@jupyter-widgets/controls"
          }
        },
        "aa38a9f8d01342a895b108c648c40f01": {
          "model_module": "@jupyter-widgets/base",
          "model_name": "LayoutModel",
          "state": {
            "_view_name": "LayoutView",
            "grid_template_rows": null,
            "right": null,
            "justify_content": null,
            "_view_module": "@jupyter-widgets/base",
            "overflow": null,
            "_model_module_version": "1.2.0",
            "_view_count": null,
            "flex_flow": null,
            "width": null,
            "min_width": null,
            "border": null,
            "align_items": null,
            "bottom": null,
            "_model_module": "@jupyter-widgets/base",
            "top": null,
            "grid_column": null,
            "overflow_y": null,
            "overflow_x": null,
            "grid_auto_flow": null,
            "grid_area": null,
            "grid_template_columns": null,
            "flex": null,
            "_model_name": "LayoutModel",
            "justify_items": null,
            "grid_row": null,
            "max_height": null,
            "align_content": null,
            "visibility": null,
            "align_self": null,
            "height": null,
            "min_height": null,
            "padding": null,
            "grid_auto_rows": null,
            "grid_gap": null,
            "max_width": null,
            "order": null,
            "_view_module_version": "1.2.0",
            "grid_template_areas": null,
            "object_position": null,
            "object_fit": null,
            "grid_auto_columns": null,
            "margin": null,
            "display": null,
            "left": null
          }
        },
        "061e64a4b78a41958af16de1cad8f5e8": {
          "model_module": "@jupyter-widgets/controls",
          "model_name": "IntProgressModel",
          "state": {
            "_view_name": "ProgressView",
            "style": "IPY_MODEL_1c8fca5473ce4efe9f15095326a6f1d4",
            "_dom_classes": [],
            "description": "Processing: ",
            "_model_name": "IntProgressModel",
            "bar_style": "",
            "max": 4,
            "_view_module": "@jupyter-widgets/controls",
            "_model_module_version": "1.5.0",
            "value": 4,
            "_view_count": null,
            "_view_module_version": "1.5.0",
            "orientation": "horizontal",
            "min": 0,
            "description_tooltip": null,
            "_model_module": "@jupyter-widgets/controls",
            "layout": "IPY_MODEL_201110e2af3e47088eead9586b5adcdf"
          }
        },
        "1c8fca5473ce4efe9f15095326a6f1d4": {
          "model_module": "@jupyter-widgets/controls",
          "model_name": "ProgressStyleModel",
          "state": {
            "_view_name": "StyleView",
            "_model_name": "ProgressStyleModel",
            "description_width": "",
            "_view_module": "@jupyter-widgets/base",
            "_model_module_version": "1.5.0",
            "_view_count": null,
            "_view_module_version": "1.2.0",
            "bar_color": null,
            "_model_module": "@jupyter-widgets/controls"
          }
        },
        "201110e2af3e47088eead9586b5adcdf": {
          "model_module": "@jupyter-widgets/base",
          "model_name": "LayoutModel",
          "state": {
            "_view_name": "LayoutView",
            "grid_template_rows": null,
            "right": null,
            "justify_content": null,
            "_view_module": "@jupyter-widgets/base",
            "overflow": null,
            "_model_module_version": "1.2.0",
            "_view_count": null,
            "flex_flow": null,
            "width": null,
            "min_width": null,
            "border": null,
            "align_items": null,
            "bottom": null,
            "_model_module": "@jupyter-widgets/base",
            "top": null,
            "grid_column": null,
            "overflow_y": null,
            "overflow_x": null,
            "grid_auto_flow": null,
            "grid_area": null,
            "grid_template_columns": null,
            "flex": null,
            "_model_name": "LayoutModel",
            "justify_items": null,
            "grid_row": null,
            "max_height": null,
            "align_content": null,
            "visibility": null,
            "align_self": null,
            "height": null,
            "min_height": null,
            "padding": null,
            "grid_auto_rows": null,
            "grid_gap": null,
            "max_width": null,
            "order": null,
            "_view_module_version": "1.2.0",
            "grid_template_areas": null,
            "object_position": null,
            "object_fit": null,
            "grid_auto_columns": null,
            "margin": null,
            "display": null,
            "left": null
          }
        },
        "704dde9e990c49d0841bf835a1adec99": {
          "model_module": "@jupyter-widgets/controls",
          "model_name": "IntProgressModel",
          "state": {
            "_view_name": "ProgressView",
            "style": "IPY_MODEL_6ec1a0c5240d4537a659873f16f98546",
            "_dom_classes": [],
            "description": "Processing: ",
            "_model_name": "IntProgressModel",
            "bar_style": "",
            "max": 4,
            "_view_module": "@jupyter-widgets/controls",
            "_model_module_version": "1.5.0",
            "value": 4,
            "_view_count": null,
            "_view_module_version": "1.5.0",
            "orientation": "horizontal",
            "min": 0,
            "description_tooltip": null,
            "_model_module": "@jupyter-widgets/controls",
            "layout": "IPY_MODEL_1d9f562a64364ef6832c9669b77e6245"
          }
        },
        "6ec1a0c5240d4537a659873f16f98546": {
          "model_module": "@jupyter-widgets/controls",
          "model_name": "ProgressStyleModel",
          "state": {
            "_view_name": "StyleView",
            "_model_name": "ProgressStyleModel",
            "description_width": "",
            "_view_module": "@jupyter-widgets/base",
            "_model_module_version": "1.5.0",
            "_view_count": null,
            "_view_module_version": "1.2.0",
            "bar_color": null,
            "_model_module": "@jupyter-widgets/controls"
          }
        },
        "1d9f562a64364ef6832c9669b77e6245": {
          "model_module": "@jupyter-widgets/base",
          "model_name": "LayoutModel",
          "state": {
            "_view_name": "LayoutView",
            "grid_template_rows": null,
            "right": null,
            "justify_content": null,
            "_view_module": "@jupyter-widgets/base",
            "overflow": null,
            "_model_module_version": "1.2.0",
            "_view_count": null,
            "flex_flow": null,
            "width": null,
            "min_width": null,
            "border": null,
            "align_items": null,
            "bottom": null,
            "_model_module": "@jupyter-widgets/base",
            "top": null,
            "grid_column": null,
            "overflow_y": null,
            "overflow_x": null,
            "grid_auto_flow": null,
            "grid_area": null,
            "grid_template_columns": null,
            "flex": null,
            "_model_name": "LayoutModel",
            "justify_items": null,
            "grid_row": null,
            "max_height": null,
            "align_content": null,
            "visibility": null,
            "align_self": null,
            "height": null,
            "min_height": null,
            "padding": null,
            "grid_auto_rows": null,
            "grid_gap": null,
            "max_width": null,
            "order": null,
            "_view_module_version": "1.2.0",
            "grid_template_areas": null,
            "object_position": null,
            "object_fit": null,
            "grid_auto_columns": null,
            "margin": null,
            "display": null,
            "left": null
          }
        },
        "9b1f83a13b68474bbdc70912c1a14c70": {
          "model_module": "@jupyter-widgets/controls",
          "model_name": "IntProgressModel",
          "state": {
            "_view_name": "ProgressView",
            "style": "IPY_MODEL_4816bc30f3fb4c2797d114f22599defe",
            "_dom_classes": [],
            "description": "Processing: ",
            "_model_name": "IntProgressModel",
            "bar_style": "",
            "max": 7,
            "_view_module": "@jupyter-widgets/controls",
            "_model_module_version": "1.5.0",
            "value": 7,
            "_view_count": null,
            "_view_module_version": "1.5.0",
            "orientation": "horizontal",
            "min": 0,
            "description_tooltip": null,
            "_model_module": "@jupyter-widgets/controls",
            "layout": "IPY_MODEL_d38be2c1d98f41c7a67e9d3194b19b4d"
          }
        },
        "4816bc30f3fb4c2797d114f22599defe": {
          "model_module": "@jupyter-widgets/controls",
          "model_name": "ProgressStyleModel",
          "state": {
            "_view_name": "StyleView",
            "_model_name": "ProgressStyleModel",
            "description_width": "",
            "_view_module": "@jupyter-widgets/base",
            "_model_module_version": "1.5.0",
            "_view_count": null,
            "_view_module_version": "1.2.0",
            "bar_color": null,
            "_model_module": "@jupyter-widgets/controls"
          }
        },
        "d38be2c1d98f41c7a67e9d3194b19b4d": {
          "model_module": "@jupyter-widgets/base",
          "model_name": "LayoutModel",
          "state": {
            "_view_name": "LayoutView",
            "grid_template_rows": null,
            "right": null,
            "justify_content": null,
            "_view_module": "@jupyter-widgets/base",
            "overflow": null,
            "_model_module_version": "1.2.0",
            "_view_count": null,
            "flex_flow": null,
            "width": null,
            "min_width": null,
            "border": null,
            "align_items": null,
            "bottom": null,
            "_model_module": "@jupyter-widgets/base",
            "top": null,
            "grid_column": null,
            "overflow_y": null,
            "overflow_x": null,
            "grid_auto_flow": null,
            "grid_area": null,
            "grid_template_columns": null,
            "flex": null,
            "_model_name": "LayoutModel",
            "justify_items": null,
            "grid_row": null,
            "max_height": null,
            "align_content": null,
            "visibility": null,
            "align_self": null,
            "height": null,
            "min_height": null,
            "padding": null,
            "grid_auto_rows": null,
            "grid_gap": null,
            "max_width": null,
            "order": null,
            "_view_module_version": "1.2.0",
            "grid_template_areas": null,
            "object_position": null,
            "object_fit": null,
            "grid_auto_columns": null,
            "margin": null,
            "display": null,
            "left": null
          }
        },
        "df5dd4d3d1574968a09e3cf0da392d67": {
          "model_module": "@jupyter-widgets/controls",
          "model_name": "IntProgressModel",
          "state": {
            "_view_name": "ProgressView",
            "style": "IPY_MODEL_b61ff3325ac348aba1a2416b596d6652",
            "_dom_classes": [],
            "description": "Processing: ",
            "_model_name": "IntProgressModel",
            "bar_style": "",
            "max": 7,
            "_view_module": "@jupyter-widgets/controls",
            "_model_module_version": "1.5.0",
            "value": 7,
            "_view_count": null,
            "_view_module_version": "1.5.0",
            "orientation": "horizontal",
            "min": 0,
            "description_tooltip": null,
            "_model_module": "@jupyter-widgets/controls",
            "layout": "IPY_MODEL_492d9a6b72c34c39afb92313078ad4b5"
          }
        },
        "b61ff3325ac348aba1a2416b596d6652": {
          "model_module": "@jupyter-widgets/controls",
          "model_name": "ProgressStyleModel",
          "state": {
            "_view_name": "StyleView",
            "_model_name": "ProgressStyleModel",
            "description_width": "",
            "_view_module": "@jupyter-widgets/base",
            "_model_module_version": "1.5.0",
            "_view_count": null,
            "_view_module_version": "1.2.0",
            "bar_color": null,
            "_model_module": "@jupyter-widgets/controls"
          }
        },
        "492d9a6b72c34c39afb92313078ad4b5": {
          "model_module": "@jupyter-widgets/base",
          "model_name": "LayoutModel",
          "state": {
            "_view_name": "LayoutView",
            "grid_template_rows": null,
            "right": null,
            "justify_content": null,
            "_view_module": "@jupyter-widgets/base",
            "overflow": null,
            "_model_module_version": "1.2.0",
            "_view_count": null,
            "flex_flow": null,
            "width": null,
            "min_width": null,
            "border": null,
            "align_items": null,
            "bottom": null,
            "_model_module": "@jupyter-widgets/base",
            "top": null,
            "grid_column": null,
            "overflow_y": null,
            "overflow_x": null,
            "grid_auto_flow": null,
            "grid_area": null,
            "grid_template_columns": null,
            "flex": null,
            "_model_name": "LayoutModel",
            "justify_items": null,
            "grid_row": null,
            "max_height": null,
            "align_content": null,
            "visibility": null,
            "align_self": null,
            "height": null,
            "min_height": null,
            "padding": null,
            "grid_auto_rows": null,
            "grid_gap": null,
            "max_width": null,
            "order": null,
            "_view_module_version": "1.2.0",
            "grid_template_areas": null,
            "object_position": null,
            "object_fit": null,
            "grid_auto_columns": null,
            "margin": null,
            "display": null,
            "left": null
          }
        },
        "d46f16ffc1cf4a1a850eccc3382792ba": {
          "model_module": "@jupyter-widgets/controls",
          "model_name": "IntProgressModel",
          "state": {
            "_view_name": "ProgressView",
            "style": "IPY_MODEL_301d3f43ff97429bbe6eaf1b84e98f8e",
            "_dom_classes": [],
            "description": "Processing: ",
            "_model_name": "IntProgressModel",
            "bar_style": "",
            "max": 7,
            "_view_module": "@jupyter-widgets/controls",
            "_model_module_version": "1.5.0",
            "value": 7,
            "_view_count": null,
            "_view_module_version": "1.5.0",
            "orientation": "horizontal",
            "min": 0,
            "description_tooltip": null,
            "_model_module": "@jupyter-widgets/controls",
            "layout": "IPY_MODEL_371d053b2dc1402796c0861296f84406"
          }
        },
        "301d3f43ff97429bbe6eaf1b84e98f8e": {
          "model_module": "@jupyter-widgets/controls",
          "model_name": "ProgressStyleModel",
          "state": {
            "_view_name": "StyleView",
            "_model_name": "ProgressStyleModel",
            "description_width": "",
            "_view_module": "@jupyter-widgets/base",
            "_model_module_version": "1.5.0",
            "_view_count": null,
            "_view_module_version": "1.2.0",
            "bar_color": null,
            "_model_module": "@jupyter-widgets/controls"
          }
        },
        "371d053b2dc1402796c0861296f84406": {
          "model_module": "@jupyter-widgets/base",
          "model_name": "LayoutModel",
          "state": {
            "_view_name": "LayoutView",
            "grid_template_rows": null,
            "right": null,
            "justify_content": null,
            "_view_module": "@jupyter-widgets/base",
            "overflow": null,
            "_model_module_version": "1.2.0",
            "_view_count": null,
            "flex_flow": null,
            "width": null,
            "min_width": null,
            "border": null,
            "align_items": null,
            "bottom": null,
            "_model_module": "@jupyter-widgets/base",
            "top": null,
            "grid_column": null,
            "overflow_y": null,
            "overflow_x": null,
            "grid_auto_flow": null,
            "grid_area": null,
            "grid_template_columns": null,
            "flex": null,
            "_model_name": "LayoutModel",
            "justify_items": null,
            "grid_row": null,
            "max_height": null,
            "align_content": null,
            "visibility": null,
            "align_self": null,
            "height": null,
            "min_height": null,
            "padding": null,
            "grid_auto_rows": null,
            "grid_gap": null,
            "max_width": null,
            "order": null,
            "_view_module_version": "1.2.0",
            "grid_template_areas": null,
            "object_position": null,
            "object_fit": null,
            "grid_auto_columns": null,
            "margin": null,
            "display": null,
            "left": null
          }
        },
        "d1c0d6e73be146869c90ae20672b5999": {
          "model_module": "@jupyter-widgets/controls",
          "model_name": "IntProgressModel",
          "state": {
            "_view_name": "ProgressView",
            "style": "IPY_MODEL_2168a88b1b114c0a99a2c2960fa9e859",
            "_dom_classes": [],
            "description": "Processing: ",
            "_model_name": "IntProgressModel",
            "bar_style": "",
            "max": 5,
            "_view_module": "@jupyter-widgets/controls",
            "_model_module_version": "1.5.0",
            "value": 5,
            "_view_count": null,
            "_view_module_version": "1.5.0",
            "orientation": "horizontal",
            "min": 0,
            "description_tooltip": null,
            "_model_module": "@jupyter-widgets/controls",
            "layout": "IPY_MODEL_3b806c2cbcb542d1bfdffd96c57b2fc7"
          }
        },
        "2168a88b1b114c0a99a2c2960fa9e859": {
          "model_module": "@jupyter-widgets/controls",
          "model_name": "ProgressStyleModel",
          "state": {
            "_view_name": "StyleView",
            "_model_name": "ProgressStyleModel",
            "description_width": "",
            "_view_module": "@jupyter-widgets/base",
            "_model_module_version": "1.5.0",
            "_view_count": null,
            "_view_module_version": "1.2.0",
            "bar_color": null,
            "_model_module": "@jupyter-widgets/controls"
          }
        },
        "3b806c2cbcb542d1bfdffd96c57b2fc7": {
          "model_module": "@jupyter-widgets/base",
          "model_name": "LayoutModel",
          "state": {
            "_view_name": "LayoutView",
            "grid_template_rows": null,
            "right": null,
            "justify_content": null,
            "_view_module": "@jupyter-widgets/base",
            "overflow": null,
            "_model_module_version": "1.2.0",
            "_view_count": null,
            "flex_flow": null,
            "width": null,
            "min_width": null,
            "border": null,
            "align_items": null,
            "bottom": null,
            "_model_module": "@jupyter-widgets/base",
            "top": null,
            "grid_column": null,
            "overflow_y": null,
            "overflow_x": null,
            "grid_auto_flow": null,
            "grid_area": null,
            "grid_template_columns": null,
            "flex": null,
            "_model_name": "LayoutModel",
            "justify_items": null,
            "grid_row": null,
            "max_height": null,
            "align_content": null,
            "visibility": null,
            "align_self": null,
            "height": null,
            "min_height": null,
            "padding": null,
            "grid_auto_rows": null,
            "grid_gap": null,
            "max_width": null,
            "order": null,
            "_view_module_version": "1.2.0",
            "grid_template_areas": null,
            "object_position": null,
            "object_fit": null,
            "grid_auto_columns": null,
            "margin": null,
            "display": null,
            "left": null
          }
        }
      }
    }
  },
  "cells": [
    {
      "cell_type": "markdown",
      "metadata": {
        "id": "view-in-github",
        "colab_type": "text"
      },
      "source": [
        "<a href=\"https://colab.research.google.com/github/diegojeda/Titanic/blob/main/Titanic.ipynb\" target=\"_parent\"><img src=\"https://colab.research.google.com/assets/colab-badge.svg\" alt=\"Open In Colab\"/></a>"
      ]
    },
    {
      "cell_type": "markdown",
      "metadata": {
        "id": "NHmYGcN1oyGR"
      },
      "source": [
        "<h1> <img src=\"https://e7.pngegg.com/pngimages/559/601/png-clipart-halliburton-logo-baker-hughes-a-ge-company-oil-field-halliburton-logo-company-text.png\" align=\"up\" height=\"300\" width=\"600\" />\n",
        "\n",
        "# **Machine Learning For Citizens**\n",
        "---\n",
        "*Introduccion Al Machine Learning Para No Programadores*\n",
        "\n",
        "#**Agenda**\n",
        "**1.   Introducción**\n",
        "\n",
        "**2.   Fundamentos Machine Learning**\n",
        "\n",
        "**3.   Carga y Visualización de Datos**\n",
        "\n",
        "**4.   Preparación de la Base de Datos**\n",
        "\n",
        "**5.   Analisis Predictivo:** ¿Sobreviviría Si Hubiera Estado En El Titanic?\n",
        "\n",
        "**6.   Conclusiones**"
      ]
    },
    {
      "cell_type": "markdown",
      "metadata": {
        "id": "0NKOfHC8rkMG"
      },
      "source": [
        "# **1.   Introducción**"
      ]
    },
    {
      "cell_type": "markdown",
      "metadata": {
        "id": "I3ftFjs3r8pU"
      },
      "source": [
        "*  **¿Qué es Mineria de Datos?**\n",
        "\n",
        "  Es el proceso mediante el cual se descubren nuevas correlaciones signficativas, patrones y tendencias filtrando grandes cantidades de datos almacenados en repositorios o bases de datos, usando tecnologias de reconocimiento de patrones asi como técnicas matemáticas y estadísticas.\n",
        "\n",
        "  **Ejemplo:** Un banco puede tener una base de datos de los creditos otorgados a sus clientes en los ultimos 10 años, dentro de esta base se pueden encontrar relaciones tales como: \"Las personas nacidas antes de 1970 tienen una mayor probabilidad de pagar su credito que las personas nacidas despues de 1980\".\n",
        "*   **¿Qué es Machine Learning?**\n",
        "\n",
        "  \"Se dice que un programa de computadora *Aprende* de la *Experiencia E* con respecto a alguna *Clase de Tarea T* y con una *Medida de Rendimiento P*, si el rendimento en *T* medido por *P* mejora con la experiencia *E*. *Tom Mitchell, Carneguie Mellon University, 1997.\n",
        "\n",
        "  **Ejemplo:** Tarea T: predecir si un estudiante pasara el examen de este curso mañana. Experiencia E: datos historicos de los cursos anteriormente hechos. Medida de Rendimiento: porcentaje de aciertos de los estudiates que pasaron y que el modelo predijo.\n",
        "\n",
        "*   **Para que Sirve?** (Tomado de SAS: https://www.sas.com/es_co/insights/analytics/machine-learning.html)\n",
        "\n",
        "<h1> <img src=\"https://www.pandasecurity.com/spain/mediacenter/src/uploads/2015/11/malware.jpg\" align=\"Right\" height=\"150\" width=\"300\" />\n",
        "\n",
        "> Servicios Financieros: Los bancos y otras empresas de la industria financiera utilizan la tecnología del aprendizaje basado en máquina para dos fines principales: identificar insights importantes en los datos y prevenir el fraude. Los insights pueden identificar oportunidades de inversión o bien ayudar a los inversionistas a saber cuándo vender o comprar. La minería de datos también puede identificar clientes con perfiles de alto riesgo o bien utilizar la cíber vigilancia para detectar signos de advertencia de fraude.\n",
        "\n",
        "<h1> <img src=\"https://i.ytimg.com/vi/BaMFNZBk-vY/maxresdefault.jpg\" align=\"Right\" height=\"150\" width=\"300\" />\n",
        "\n",
        "> Gobierno: Dependencias de gobierno como seguridad pública y los servicios públicos tienen una necesidad particular del machine learning porque tienen múltiples fuentes de datos de las que se pueden extraer insights. Por ejemplo, el análisis de datos de sensores identifica formas de incrementar la eficiencia y ahorrar dinero. Asimismo, el aprendizaje basado en máquina puede ayudar a detectar fraude y minimizar el robo de identidad.\n",
        "\n",
        "<h1> <img src=\"https://pyimagesearch.com/wp-content/uploads/2019/02/breast_cancer_classification_dataset.jpg\" align=\"Right\" height=\"150\" width=\"300\" />\n",
        "\n",
        "> Salud: El machine learning es una tendencia en rápido crecimiento en la industria de atención a la salud, gracias a la aparición de dispositivos y sensores de vestir que pueden usar datos para evaluar la salud de un paciente en tiempo real. Asimismo, la tecnología puede ayudar a expertos médicos a analizar datos para identificar tendencias o banderas rojas que puedan llevar a diagnósticos y tratamientos mejorados.\n",
        "\n",
        "<h1> <img src=\"https://miro.medium.com/max/1000/1*Qvvgt_WIadI-wVB0TE9jxg.jpeg\" align=\"Right\" height=\"150\" width=\"300\" />\n",
        "\n",
        "> Marketing: Los sitios Web que le recomiendan artículos que podrían gustarle con base en compras anteriores, utilizan el machine learning para analizar su historial de compras – y promocionar otros artículos que podrían interesarle. Esta capacidad de capturar datos, analizarlos y usarlos para personalizar una experiencia de compra (o implementar una campaña de marketing) es el futuro del comercio detallista.\n",
        "\n",
        "<h1> <img src=\"https://futureautomotivemarkettrends.files.wordpress.com/2019/05/artificial-intelligence-transportation.jpg?w=640\" align=\"Right\" height=\"150\" width=\"300\" />\n",
        "\n",
        "> Transporte: Analizar datos para identificar patrones y tendencias es clave para la industria del transporte, que se sustenta en hacer las rutas más eficientes y anticipar problemas potenciales para incrementar la rentabilidad. Los aspectos de análisis y modelado de datos del machine learning son herramientas importantes para las compañías de mensajería, transporte público y otras organizaciones de transporte.\n",
        "\n",
        "<h1> <img src=\"https://www.enverus.com/wp-content/uploads/2017/07/image3-machinelearning.png\" align=\"Right\" height=\"150\" width=\"300\" />\n",
        "\n",
        "> Oil & Gas: Cómo encontrar nuevas fuentes de energía. Análisis de minerales del suelo. Predicción de fallos de sensores de refinerías. Optimización de la distribución de petróleo para hacerla más eficiente y económica. El número de casos de uso del machine learning en esta industria es vasto – y continúa creciendo."
      ]
    },
    {
      "cell_type": "markdown",
      "metadata": {
        "id": "H-a27XZcs2b4"
      },
      "source": [
        "# **2.   Fundamentos de Machine Learning**"
      ]
    },
    {
      "cell_type": "markdown",
      "metadata": {
        "id": "sjdKDcdLuKEi"
      },
      "source": [
        "## **2.1   Definicion Intuitiva**\n",
        "\n",
        "<h1> <img src=\"https://qph.fs.quoracdn.net/main-qimg-a3b451c289a71014f9ecee452963f6c8\" align=\"Left\" height=\"300\" width=\"350\" />\n",
        "\n",
        "<h1> <img src=\"https://miro.medium.com/max/1946/1*zOl_ztYqnzyWRkBffeOsRQ.png\" align=\"Center\" height=\"300\" width=\"620\" />\n",
        "\n",
        "<h1> <img src=\"https://miro.medium.com/max/1148/1*ArM2nhi7ZQNgdegWAWgG4Q.png\" align=\"Left\" height=\"300\" width=\"350\" />\n",
        "\n",
        "<h1> <img src=\"https://www.simplilearn.com/ice9/free_resources_article_thumb/iris-flower-dataset-graph.JPG\" align=\"Left\" height=\"300\" width=\"300\" />\n",
        "\n",
        "<h1> <img src=\"https://scipy-lectures.org/_images/sphx_glr_plot_iris_knn_001.png\" align=\"Left\" height=\"300\" width=\"350\" />"
      ]
    },
    {
      "cell_type": "markdown",
      "metadata": {
        "id": "niVYYdnmy8Z2"
      },
      "source": [
        "Podemos definir *Machine Learning* como el conjunto de aproximaciones para estimar la funcion *f* (para predecir un valor-Regresion- o para asignar una categoria-clasificacion), usando datos previos y evaluando su rendimiento o capacidad de predicción, haciendo que esta prediccion mejore con el uso recursivo de datos"
      ]
    },
    {
      "cell_type": "markdown",
      "metadata": {
        "id": "4IKTj94LzNUe"
      },
      "source": [
        "## **2.2   Tipos de Variables**\n",
        "\n",
        " <img src=\"https://enciclopediaeconomica.com/wp-content/uploads/2018/12/variables.jpg\" align=\"Right\" height=\"350\" width=\"420\" />\n",
        "\n",
        "Es importante definir los tipos de variables que podemos encontrar en nuestros datos, con el fin de dar el mejor y mas adecuado tratamiento a cada una.\n",
        "\n",
        "**Variables Cualitativas:** Las variables cualitativas son aquellas características o cualidades que no pueden ser calculadas con números, sino que son clasificadas con palabras.\n",
        "\n",
        "*   *Cualitativa nominal:* aquellas variables que no siguen ningún orden en específico. Por ejemplo, los colores, tales como el negro, naranja o amarillo.\n",
        "*   *Cualitativa ordinal:* aquellas que siguen un orden o jerarquía. Por ejemplo, el nivel socioeconómico alto, medio o bajo.\n",
        "*   *Cualitativa binaria:* variables que permiten tan solo dos resultados. Por ejemplo, sí o no; hombre o mujer.\n",
        "\n",
        "**Variables Cuantitativas:** Las variables cuantitativas son aquellas características o cualidades que sí pueden expresarse o medirse a través de números.\n",
        "\n",
        "*   *Cuantitativa discreta:* aquella variable que utiliza valores enteros y finitos. Por ejemplo, la cantidad de familiares que tiene una persona, tal como 2, 3, 4 o más.\n",
        "*   *Cuantitativa continua:* aquella variable que utiliza valores finitos y objetivos, y suele caracterizarse por utilizar valores decimales. Por ejemplo, el peso de una persona, tal como 64.3 kg, 72.3 kg, etc.\n",
        "\n",
        "Para evaluar el rendimiento de las aproximaciones de la estimación de *f* se utilizan métricas que nos ayudan a medir \"que tan bien aproxima *f* a mi valor real\".\n",
        "\n",
        "Para los modelos de **Regresion**, es necesario definir el *MSE* o *Media del Error Cuadratico*.\n",
        "\n",
        "<h1> <img src=\"https://upload.wikimedia.org/wikipedia/commons/e/ed/Residuals_for_Linear_Regression_Fit.png\" align=\"Left\" height=\"250\" width=\"350\" />\n",
        "\n",
        "<h1> <img src=\"https://i.imgur.com/vB3UAiH.jpg\" align=\"Center\" height=\"250\" width=\"600\" />"
      ]
    },
    {
      "cell_type": "markdown",
      "metadata": {
        "id": "ysWdJEaszX_E"
      },
      "source": [
        "Para los modelos de **Clasificación**, es necesario definir el *Accuracy*, *Sensitividad* y *Especificidad*.\n",
        "\n",
        "<h1> <img src=\"https://4.bp.blogspot.com/-jNSCuV2OtOY/XMfoQka3qaI/AAAAAAAAEjY/TiFX8HALafAVzu_zp5njDqOoGCqzyVouwCLcBGAs/s1600/1_001%2Bnew.jpg\" align=\"Left\" height=\"250\" width=\"400\" />\n",
        "\n",
        "<h1> <img src=\"https://2.bp.blogspot.com/-EvSXDotTOwc/XMfeOGZ-CVI/AAAAAAAAEiE/oePFfvhfOQM11dgRn9FkPxlegCXbgOF4QCLcBGAs/s1600/confusionMatrxiUpdated.jpg\" align=\"Right\" height=\"250\" width=\"450\" />"
      ]
    },
    {
      "cell_type": "markdown",
      "metadata": {
        "id": "cLOxa7boz9H8"
      },
      "source": [
        "## **2.3   Paradigma Sesgo - Varianza**\n",
        "Cuando deseamos generar un modelo, usamos los datos disponibles para que este \"aprenda de ellos\" y luego estime valores acerca de \"nuevos datos\".\n",
        "\n",
        "En ese orden de ideas, los datos totales se deben dividir entre dos conjuntos: *Train* y *Test*. De esta manera, nuestros modelo lo construimos (entrenamos) con nuestros datos de *Train* y los probamos con los datos de *Test*.\n",
        "\n",
        "* Si el modelo predice muy bien los datos de test, no aprendió de los datos, \"se aprendió los datos\" (Alto Sesgo), cuando evalue el modelo con los datos de test, no los predecirá bien (Alta Varianza).\n",
        "* Un enfoque puede ser dejar que el modelo no prediga tan bien mis datos de test (Minimizar el Sesgo) para que cuando vea datos nuevos (test) prediga mejor (Minimizar la Varianza).\n",
        "* Sin embargo, existe un un punto donde disminur el sesgo juega en contra y la varianza de mi modelo: al ver datos nuevos tiene un error mayor.\n",
        "\n",
        "La clave es encontrar un punto de equilibrio que me permita minimizar el error cuando el modelo vea datos nuevos.\n",
        "\n",
        "\n",
        "<h1> <img src=\"https://miro.medium.com/max/978/1*CgIdnlB6JK8orFKPXpc7Rg.png\n",
        "\" align=\"Left\" height=\"250\" width=\"250\" />\n",
        "\n",
        "<h1> <img src=\"https://gblobscdn.gitbook.com/assets%2F-LvBP1svpACTB1R1x_U4%2F-LvNWUoWieQqaGmU_gl9%2F-LvNoby-llz4QzAK15nL%2Fimage.png?alt=media&token=41720ce9-bb66-4419-9bd8-640abf1fc415\" align=\"Left\" height=\"250\" width=\"700\" />"
      ]
    },
    {
      "cell_type": "markdown",
      "metadata": {
        "id": "EiEb37AJ0chk"
      },
      "source": [
        "# **3.   Carga y Visualizacion de Datos**"
      ]
    },
    {
      "cell_type": "markdown",
      "metadata": {
        "id": "h-yqpoI708rQ"
      },
      "source": [
        "\n",
        "## **3.1   Carga de Base de Datos**"
      ]
    },
    {
      "cell_type": "markdown",
      "metadata": {
        "id": "enCEaqItFear"
      },
      "source": [
        "Para comenzar vamos a tomar una base de datos de los registros del personal de Titanic:\n",
        "\n",
        "| Variable | Descripción|\n",
        "|:----------|:------------|\n",
        "|Survived  | Si el pasajero sobrevive: 0 = No, 1 = Si |\n",
        "|Pclass| Clase del tiquete: 1 = 1st, 2 = 2nd, 3 = 3rd |\n",
        "|Name| Nombre del pasajero |\n",
        "|Sex| Genero del pasajero |\n",
        "|Age| Edad del pasajero|\n",
        "|SibSp| Numero de herman@s / Espos@s abordo del Titanic|\n",
        "|Parch| Numero de padres o hijos abordo |\n",
        "|Ticket| Numero De Tiquete |\n",
        "|Fare| Tarifa Del Tiquete |\n",
        "|Cabin| Numero De Cabina |\n",
        "|embarked| Puerto De Embarque: C = Cherbourg, Q = Queenstown, S = Southampton|"
      ]
    },
    {
      "cell_type": "markdown",
      "metadata": {
        "id": "NXje4NOLFv_9"
      },
      "source": [
        "### **3.1.1   Carga de Librerias a Usar**"
      ]
    },
    {
      "cell_type": "markdown",
      "metadata": {
        "id": "JGzPt7XlFxo0"
      },
      "source": [
        "Con el fin de utilizar funcionalidades espeficicas, cargaremos librerias o paquetes funcionales que nos permitiran acceder a funciones especificas para manipular archivos, dataframes, hacer analisis grafico y modelos de machine learning."
      ]
    },
    {
      "cell_type": "code",
      "metadata": {
        "id": "LXbDdtgIF0cc"
      },
      "source": [
        "import pandas as pd\n",
        "import numpy as np\n",
        "from numpy import loadtxt\n",
        "from pylab import *\n",
        "import matplotlib.pyplot as plt\n",
        "%matplotlib inline\n",
        "import seaborn as sns\n",
        "from IPython.core.interactiveshell import InteractiveShell  \n",
        "InteractiveShell.ast_node_interactivity = \"all\"\n",
        "from IPython.display import display, HTML\n",
        "import pandas as pd\n",
        "from scipy import stats\n",
        "import pandas_profiling\n",
        "import numpy as np\n",
        "import seaborn as sns\n",
        "import matplotlib.pyplot as plt\n",
        "import os\n",
        "import missingno as msno\n",
        "!pip install pycaret;"
      ],
      "execution_count": null,
      "outputs": []
    },
    {
      "cell_type": "markdown",
      "metadata": {
        "id": "UL5YdGSvF61L"
      },
      "source": [
        "### **3.1.2   Carga de la Base de Datos**"
      ]
    },
    {
      "cell_type": "code",
      "metadata": {
        "colab": {
          "base_uri": "https://localhost:8080/",
          "height": 390
        },
        "id": "2Y3VAU1Imy61",
        "outputId": "d7d6954b-ab4a-4321-bef2-732206d5fc36"
      },
      "source": [
        "url = \"https://gist.githubusercontent.com/michhar/2dfd2de0d4f8727f873422c5d959fff5/raw/fa71405126017e6a37bea592440b4bee94bf7b9e/titanic.csv\"\n",
        "Base = pd.read_csv(url,index_col=0)\n",
        "Base.head(10)"
      ],
      "execution_count": 207,
      "outputs": [
        {
          "output_type": "execute_result",
          "data": {
            "text/html": [
              "<div>\n",
              "<style scoped>\n",
              "    .dataframe tbody tr th:only-of-type {\n",
              "        vertical-align: middle;\n",
              "    }\n",
              "\n",
              "    .dataframe tbody tr th {\n",
              "        vertical-align: top;\n",
              "    }\n",
              "\n",
              "    .dataframe thead th {\n",
              "        text-align: right;\n",
              "    }\n",
              "</style>\n",
              "<table border=\"1\" class=\"dataframe\">\n",
              "  <thead>\n",
              "    <tr style=\"text-align: right;\">\n",
              "      <th></th>\n",
              "      <th>Survived</th>\n",
              "      <th>Pclass</th>\n",
              "      <th>Name</th>\n",
              "      <th>Sex</th>\n",
              "      <th>Age</th>\n",
              "      <th>SibSp</th>\n",
              "      <th>Parch</th>\n",
              "      <th>Ticket</th>\n",
              "      <th>Fare</th>\n",
              "      <th>Cabin</th>\n",
              "      <th>Embarked</th>\n",
              "    </tr>\n",
              "    <tr>\n",
              "      <th>PassengerId</th>\n",
              "      <th></th>\n",
              "      <th></th>\n",
              "      <th></th>\n",
              "      <th></th>\n",
              "      <th></th>\n",
              "      <th></th>\n",
              "      <th></th>\n",
              "      <th></th>\n",
              "      <th></th>\n",
              "      <th></th>\n",
              "      <th></th>\n",
              "    </tr>\n",
              "  </thead>\n",
              "  <tbody>\n",
              "    <tr>\n",
              "      <th>1</th>\n",
              "      <td>0</td>\n",
              "      <td>3</td>\n",
              "      <td>Braund, Mr. Owen Harris</td>\n",
              "      <td>male</td>\n",
              "      <td>22.0</td>\n",
              "      <td>1</td>\n",
              "      <td>0</td>\n",
              "      <td>A/5 21171</td>\n",
              "      <td>7.2500</td>\n",
              "      <td>NaN</td>\n",
              "      <td>S</td>\n",
              "    </tr>\n",
              "    <tr>\n",
              "      <th>2</th>\n",
              "      <td>1</td>\n",
              "      <td>1</td>\n",
              "      <td>Cumings, Mrs. John Bradley (Florence Briggs Th...</td>\n",
              "      <td>female</td>\n",
              "      <td>38.0</td>\n",
              "      <td>1</td>\n",
              "      <td>0</td>\n",
              "      <td>PC 17599</td>\n",
              "      <td>71.2833</td>\n",
              "      <td>C85</td>\n",
              "      <td>C</td>\n",
              "    </tr>\n",
              "    <tr>\n",
              "      <th>3</th>\n",
              "      <td>1</td>\n",
              "      <td>3</td>\n",
              "      <td>Heikkinen, Miss. Laina</td>\n",
              "      <td>female</td>\n",
              "      <td>26.0</td>\n",
              "      <td>0</td>\n",
              "      <td>0</td>\n",
              "      <td>STON/O2. 3101282</td>\n",
              "      <td>7.9250</td>\n",
              "      <td>NaN</td>\n",
              "      <td>S</td>\n",
              "    </tr>\n",
              "    <tr>\n",
              "      <th>4</th>\n",
              "      <td>1</td>\n",
              "      <td>1</td>\n",
              "      <td>Futrelle, Mrs. Jacques Heath (Lily May Peel)</td>\n",
              "      <td>female</td>\n",
              "      <td>35.0</td>\n",
              "      <td>1</td>\n",
              "      <td>0</td>\n",
              "      <td>113803</td>\n",
              "      <td>53.1000</td>\n",
              "      <td>C123</td>\n",
              "      <td>S</td>\n",
              "    </tr>\n",
              "    <tr>\n",
              "      <th>5</th>\n",
              "      <td>0</td>\n",
              "      <td>3</td>\n",
              "      <td>Allen, Mr. William Henry</td>\n",
              "      <td>male</td>\n",
              "      <td>35.0</td>\n",
              "      <td>0</td>\n",
              "      <td>0</td>\n",
              "      <td>373450</td>\n",
              "      <td>8.0500</td>\n",
              "      <td>NaN</td>\n",
              "      <td>S</td>\n",
              "    </tr>\n",
              "    <tr>\n",
              "      <th>6</th>\n",
              "      <td>0</td>\n",
              "      <td>3</td>\n",
              "      <td>Moran, Mr. James</td>\n",
              "      <td>male</td>\n",
              "      <td>NaN</td>\n",
              "      <td>0</td>\n",
              "      <td>0</td>\n",
              "      <td>330877</td>\n",
              "      <td>8.4583</td>\n",
              "      <td>NaN</td>\n",
              "      <td>Q</td>\n",
              "    </tr>\n",
              "    <tr>\n",
              "      <th>7</th>\n",
              "      <td>0</td>\n",
              "      <td>1</td>\n",
              "      <td>McCarthy, Mr. Timothy J</td>\n",
              "      <td>male</td>\n",
              "      <td>54.0</td>\n",
              "      <td>0</td>\n",
              "      <td>0</td>\n",
              "      <td>17463</td>\n",
              "      <td>51.8625</td>\n",
              "      <td>E46</td>\n",
              "      <td>S</td>\n",
              "    </tr>\n",
              "    <tr>\n",
              "      <th>8</th>\n",
              "      <td>0</td>\n",
              "      <td>3</td>\n",
              "      <td>Palsson, Master. Gosta Leonard</td>\n",
              "      <td>male</td>\n",
              "      <td>2.0</td>\n",
              "      <td>3</td>\n",
              "      <td>1</td>\n",
              "      <td>349909</td>\n",
              "      <td>21.0750</td>\n",
              "      <td>NaN</td>\n",
              "      <td>S</td>\n",
              "    </tr>\n",
              "    <tr>\n",
              "      <th>9</th>\n",
              "      <td>1</td>\n",
              "      <td>3</td>\n",
              "      <td>Johnson, Mrs. Oscar W (Elisabeth Vilhelmina Berg)</td>\n",
              "      <td>female</td>\n",
              "      <td>27.0</td>\n",
              "      <td>0</td>\n",
              "      <td>2</td>\n",
              "      <td>347742</td>\n",
              "      <td>11.1333</td>\n",
              "      <td>NaN</td>\n",
              "      <td>S</td>\n",
              "    </tr>\n",
              "    <tr>\n",
              "      <th>10</th>\n",
              "      <td>1</td>\n",
              "      <td>2</td>\n",
              "      <td>Nasser, Mrs. Nicholas (Adele Achem)</td>\n",
              "      <td>female</td>\n",
              "      <td>14.0</td>\n",
              "      <td>1</td>\n",
              "      <td>0</td>\n",
              "      <td>237736</td>\n",
              "      <td>30.0708</td>\n",
              "      <td>NaN</td>\n",
              "      <td>C</td>\n",
              "    </tr>\n",
              "  </tbody>\n",
              "</table>\n",
              "</div>"
            ],
            "text/plain": [
              "             Survived  Pclass  ... Cabin Embarked\n",
              "PassengerId                    ...               \n",
              "1                   0       3  ...   NaN        S\n",
              "2                   1       1  ...   C85        C\n",
              "3                   1       3  ...   NaN        S\n",
              "4                   1       1  ...  C123        S\n",
              "5                   0       3  ...   NaN        S\n",
              "6                   0       3  ...   NaN        Q\n",
              "7                   0       1  ...   E46        S\n",
              "8                   0       3  ...   NaN        S\n",
              "9                   1       3  ...   NaN        S\n",
              "10                  1       2  ...   NaN        C\n",
              "\n",
              "[10 rows x 11 columns]"
            ]
          },
          "metadata": {
            "tags": []
          },
          "execution_count": 207
        }
      ]
    },
    {
      "cell_type": "markdown",
      "metadata": {
        "id": "gu5cuM0XKL9W"
      },
      "source": [
        "## **3.2   Analisis Exploratorio de Datos**"
      ]
    },
    {
      "cell_type": "markdown",
      "metadata": {
        "id": "0cBIOpBmKNiX"
      },
      "source": [
        "Con el fin de observar y evaluar en profunidad los datos contenidos en la base,  procederemos a realizar una exploracion de los mismos, que comprende la revision de los tipos de datos, el comportamiento de las variables categoricas y variables continuas, la existencia de valores faltantes y valores anomalos."
      ]
    },
    {
      "cell_type": "markdown",
      "metadata": {
        "id": "1raXawDKKpvB"
      },
      "source": [
        "### **3.2.1   Tipos de Datos**"
      ]
    },
    {
      "cell_type": "code",
      "metadata": {
        "colab": {
          "base_uri": "https://localhost:8080/"
        },
        "id": "uw-N2ydVm4Wb",
        "outputId": "cdb26dd9-89af-4c7e-a03e-f40be155586a"
      },
      "source": [
        "Base.info()"
      ],
      "execution_count": 208,
      "outputs": [
        {
          "output_type": "stream",
          "text": [
            "<class 'pandas.core.frame.DataFrame'>\n",
            "Int64Index: 891 entries, 1 to 891\n",
            "Data columns (total 11 columns):\n",
            " #   Column    Non-Null Count  Dtype  \n",
            "---  ------    --------------  -----  \n",
            " 0   Survived  891 non-null    int64  \n",
            " 1   Pclass    891 non-null    int64  \n",
            " 2   Name      891 non-null    object \n",
            " 3   Sex       891 non-null    object \n",
            " 4   Age       714 non-null    float64\n",
            " 5   SibSp     891 non-null    int64  \n",
            " 6   Parch     891 non-null    int64  \n",
            " 7   Ticket    891 non-null    object \n",
            " 8   Fare      891 non-null    float64\n",
            " 9   Cabin     204 non-null    object \n",
            " 10  Embarked  889 non-null    object \n",
            "dtypes: float64(2), int64(4), object(5)\n",
            "memory usage: 83.5+ KB\n"
          ],
          "name": "stdout"
        }
      ]
    },
    {
      "cell_type": "markdown",
      "metadata": {
        "id": "dE8GDsacK9MT"
      },
      "source": [
        "*   Podemos observar que tenemos variables tipo texto (object) como *Name, Sex, Ticket, Cabin y Embarqued*.\n",
        "*   Observamos una gran cantidad de variables numericas, tanto enteras (int64), como con decimales (float64), correspondientes a los valores de *Survived, Pclass, Age, SibSp, Parch y Fare*."
      ]
    },
    {
      "cell_type": "markdown",
      "metadata": {
        "id": "jauPLQ3gL4hS"
      },
      "source": [
        "### **3.2.1   Revision de Variables Categoricas**"
      ]
    },
    {
      "cell_type": "markdown",
      "metadata": {
        "id": "XbQbeTwCL8Dl"
      },
      "source": [
        "Al revisar las variables categoricas, lo primero que buscaremos es la existencia valores faltantes y luego observar es cuantos valores diferentes puede tomar cada variable, con esto, determinar si se requiere algun nivel de agregacion.\n",
        "\n",
        "Primero evaluaremos los valores faltantes de la base:"
      ]
    },
    {
      "cell_type": "code",
      "metadata": {
        "id": "WzJDCQQLMPNX",
        "colab": {
          "base_uri": "https://localhost:8080/",
          "height": 655
        },
        "outputId": "9ca6e070-be3d-4658-99ce-849cb9826f63"
      },
      "source": [
        "msno.matrix(Base);"
      ],
      "execution_count": 209,
      "outputs": [
        {
          "output_type": "display_data",
          "data": {
            "image/png": "[encoded data removed]",
            "text/plain": [
              "<Figure size 1800x720 with 2 Axes>"
            ]
          },
          "metadata": {
            "tags": [],
            "needs_background": "light"
          }
        }
      ]
    },
    {
      "cell_type": "code",
      "metadata": {
        "id": "7YT_BVsHM0jW",
        "colab": {
          "base_uri": "https://localhost:8080/"
        },
        "outputId": "3552bf2d-8299-4f7e-ad19-a5989c741ffc"
      },
      "source": [
        "Base.info();"
      ],
      "execution_count": 210,
      "outputs": [
        {
          "output_type": "stream",
          "text": [
            "<class 'pandas.core.frame.DataFrame'>\n",
            "Int64Index: 891 entries, 1 to 891\n",
            "Data columns (total 11 columns):\n",
            " #   Column    Non-Null Count  Dtype  \n",
            "---  ------    --------------  -----  \n",
            " 0   Survived  891 non-null    int64  \n",
            " 1   Pclass    891 non-null    int64  \n",
            " 2   Name      891 non-null    object \n",
            " 3   Sex       891 non-null    object \n",
            " 4   Age       714 non-null    float64\n",
            " 5   SibSp     891 non-null    int64  \n",
            " 6   Parch     891 non-null    int64  \n",
            " 7   Ticket    891 non-null    object \n",
            " 8   Fare      891 non-null    float64\n",
            " 9   Cabin     204 non-null    object \n",
            " 10  Embarked  889 non-null    object \n",
            "dtypes: float64(2), int64(4), object(5)\n",
            "memory usage: 83.5+ KB\n"
          ],
          "name": "stdout"
        }
      ]
    },
    {
      "cell_type": "markdown",
      "metadata": {
        "id": "2bJC5W6cIskk"
      },
      "source": [
        "* Podemos ver que con respecto a la variable *Age* hay 177 valores donde no hay regsitro de la edad del pasajero.\n",
        "\n",
        "* Con respecto a la variable *Cabin* no yay registro en 687 casos.\n",
        "\n",
        "Para efectos de este analisis, eliminaremos los registros donde no hay valores. Esta no es la mejor manera de tratar los valores faltantes (sobre todo si son demasiados), existe para eso tecnicas de imputacion."
      ]
    },
    {
      "cell_type": "code",
      "metadata": {
        "id": "6WuvSoC3X1Y3",
        "colab": {
          "base_uri": "https://localhost:8080/",
          "height": 403
        },
        "outputId": "b8ce5e19-2a73-4ac3-c45b-e60b8e9b109e"
      },
      "source": [
        "pd.DataFrame(Base[\"Pclass\"].value_counts())\n",
        "pd.DataFrame(Base[\"Pclass\"].value_counts()).plot.bar()"
      ],
      "execution_count": 211,
      "outputs": [
        {
          "output_type": "execute_result",
          "data": {
            "text/html": [
              "<div>\n",
              "<style scoped>\n",
              "    .dataframe tbody tr th:only-of-type {\n",
              "        vertical-align: middle;\n",
              "    }\n",
              "\n",
              "    .dataframe tbody tr th {\n",
              "        vertical-align: top;\n",
              "    }\n",
              "\n",
              "    .dataframe thead th {\n",
              "        text-align: right;\n",
              "    }\n",
              "</style>\n",
              "<table border=\"1\" class=\"dataframe\">\n",
              "  <thead>\n",
              "    <tr style=\"text-align: right;\">\n",
              "      <th></th>\n",
              "      <th>Pclass</th>\n",
              "    </tr>\n",
              "  </thead>\n",
              "  <tbody>\n",
              "    <tr>\n",
              "      <th>3</th>\n",
              "      <td>491</td>\n",
              "    </tr>\n",
              "    <tr>\n",
              "      <th>1</th>\n",
              "      <td>216</td>\n",
              "    </tr>\n",
              "    <tr>\n",
              "      <th>2</th>\n",
              "      <td>184</td>\n",
              "    </tr>\n",
              "  </tbody>\n",
              "</table>\n",
              "</div>"
            ],
            "text/plain": [
              "   Pclass\n",
              "3     491\n",
              "1     216\n",
              "2     184"
            ]
          },
          "metadata": {
            "tags": []
          },
          "execution_count": 211
        },
        {
          "output_type": "execute_result",
          "data": {
            "text/plain": [
              "<matplotlib.axes._subplots.AxesSubplot at 0x7fa1d48bfb90>"
            ]
          },
          "metadata": {
            "tags": []
          },
          "execution_count": 211
        },
        {
          "output_type": "display_data",
          "data": {
            "image/png": "[encoded data removed]",
            "text/plain": [
              "<Figure size 432x288 with 1 Axes>"
            ]
          },
          "metadata": {
            "tags": [],
            "needs_background": "light"
          }
        }
      ]
    },
    {
      "cell_type": "code",
      "metadata": {
        "id": "4ZBTviP9Z3HB",
        "colab": {
          "base_uri": "https://localhost:8080/",
          "height": 398
        },
        "outputId": "f597601a-42af-4650-f419-0c8e0381b98f"
      },
      "source": [
        "pd.DataFrame(Base[\"Sex\"].value_counts())\n",
        "pd.DataFrame(Base[\"Sex\"].value_counts()).plot.bar()"
      ],
      "execution_count": 212,
      "outputs": [
        {
          "output_type": "execute_result",
          "data": {
            "text/html": [
              "<div>\n",
              "<style scoped>\n",
              "    .dataframe tbody tr th:only-of-type {\n",
              "        vertical-align: middle;\n",
              "    }\n",
              "\n",
              "    .dataframe tbody tr th {\n",
              "        vertical-align: top;\n",
              "    }\n",
              "\n",
              "    .dataframe thead th {\n",
              "        text-align: right;\n",
              "    }\n",
              "</style>\n",
              "<table border=\"1\" class=\"dataframe\">\n",
              "  <thead>\n",
              "    <tr style=\"text-align: right;\">\n",
              "      <th></th>\n",
              "      <th>Sex</th>\n",
              "    </tr>\n",
              "  </thead>\n",
              "  <tbody>\n",
              "    <tr>\n",
              "      <th>male</th>\n",
              "      <td>577</td>\n",
              "    </tr>\n",
              "    <tr>\n",
              "      <th>female</th>\n",
              "      <td>314</td>\n",
              "    </tr>\n",
              "  </tbody>\n",
              "</table>\n",
              "</div>"
            ],
            "text/plain": [
              "        Sex\n",
              "male    577\n",
              "female  314"
            ]
          },
          "metadata": {
            "tags": []
          },
          "execution_count": 212
        },
        {
          "output_type": "execute_result",
          "data": {
            "text/plain": [
              "<matplotlib.axes._subplots.AxesSubplot at 0x7fa1d497d150>"
            ]
          },
          "metadata": {
            "tags": []
          },
          "execution_count": 212
        },
        {
          "output_type": "display_data",
          "data": {
            "image/png": "[encoded data removed]",
            "text/plain": [
              "<Figure size 432x288 with 1 Axes>"
            ]
          },
          "metadata": {
            "tags": [],
            "needs_background": "light"
          }
        }
      ]
    },
    {
      "cell_type": "code",
      "metadata": {
        "id": "Aho-qrg_aR8p",
        "colab": {
          "base_uri": "https://localhost:8080/",
          "height": 527
        },
        "outputId": "050bfd62-0fbd-4c4e-b93a-2e97e915eeee"
      },
      "source": [
        "pd.DataFrame(Base[\"Parch\"].value_counts())\n",
        "pd.DataFrame(Base[\"Parch\"].value_counts()).plot.bar()"
      ],
      "execution_count": 213,
      "outputs": [
        {
          "output_type": "execute_result",
          "data": {
            "text/html": [
              "<div>\n",
              "<style scoped>\n",
              "    .dataframe tbody tr th:only-of-type {\n",
              "        vertical-align: middle;\n",
              "    }\n",
              "\n",
              "    .dataframe tbody tr th {\n",
              "        vertical-align: top;\n",
              "    }\n",
              "\n",
              "    .dataframe thead th {\n",
              "        text-align: right;\n",
              "    }\n",
              "</style>\n",
              "<table border=\"1\" class=\"dataframe\">\n",
              "  <thead>\n",
              "    <tr style=\"text-align: right;\">\n",
              "      <th></th>\n",
              "      <th>Parch</th>\n",
              "    </tr>\n",
              "  </thead>\n",
              "  <tbody>\n",
              "    <tr>\n",
              "      <th>0</th>\n",
              "      <td>678</td>\n",
              "    </tr>\n",
              "    <tr>\n",
              "      <th>1</th>\n",
              "      <td>118</td>\n",
              "    </tr>\n",
              "    <tr>\n",
              "      <th>2</th>\n",
              "      <td>80</td>\n",
              "    </tr>\n",
              "    <tr>\n",
              "      <th>5</th>\n",
              "      <td>5</td>\n",
              "    </tr>\n",
              "    <tr>\n",
              "      <th>3</th>\n",
              "      <td>5</td>\n",
              "    </tr>\n",
              "    <tr>\n",
              "      <th>4</th>\n",
              "      <td>4</td>\n",
              "    </tr>\n",
              "    <tr>\n",
              "      <th>6</th>\n",
              "      <td>1</td>\n",
              "    </tr>\n",
              "  </tbody>\n",
              "</table>\n",
              "</div>"
            ],
            "text/plain": [
              "   Parch\n",
              "0    678\n",
              "1    118\n",
              "2     80\n",
              "5      5\n",
              "3      5\n",
              "4      4\n",
              "6      1"
            ]
          },
          "metadata": {
            "tags": []
          },
          "execution_count": 213
        },
        {
          "output_type": "execute_result",
          "data": {
            "text/plain": [
              "<matplotlib.axes._subplots.AxesSubplot at 0x7fa1d4a311d0>"
            ]
          },
          "metadata": {
            "tags": []
          },
          "execution_count": 213
        },
        {
          "output_type": "display_data",
          "data": {
            "image/png": "[encoded data removed]",
            "text/plain": [
              "<Figure size 432x288 with 1 Axes>"
            ]
          },
          "metadata": {
            "tags": [],
            "needs_background": "light"
          }
        }
      ]
    },
    {
      "cell_type": "code",
      "metadata": {
        "id": "TdNcdJ-qb_DH",
        "colab": {
          "base_uri": "https://localhost:8080/",
          "height": 419
        },
        "outputId": "0f1eb444-5b82-444d-a9fe-855946f71b7c"
      },
      "source": [
        "pd.DataFrame(Base[\"Cabin\"].value_counts())"
      ],
      "execution_count": 214,
      "outputs": [
        {
          "output_type": "execute_result",
          "data": {
            "text/html": [
              "<div>\n",
              "<style scoped>\n",
              "    .dataframe tbody tr th:only-of-type {\n",
              "        vertical-align: middle;\n",
              "    }\n",
              "\n",
              "    .dataframe tbody tr th {\n",
              "        vertical-align: top;\n",
              "    }\n",
              "\n",
              "    .dataframe thead th {\n",
              "        text-align: right;\n",
              "    }\n",
              "</style>\n",
              "<table border=\"1\" class=\"dataframe\">\n",
              "  <thead>\n",
              "    <tr style=\"text-align: right;\">\n",
              "      <th></th>\n",
              "      <th>Cabin</th>\n",
              "    </tr>\n",
              "  </thead>\n",
              "  <tbody>\n",
              "    <tr>\n",
              "      <th>B96 B98</th>\n",
              "      <td>4</td>\n",
              "    </tr>\n",
              "    <tr>\n",
              "      <th>G6</th>\n",
              "      <td>4</td>\n",
              "    </tr>\n",
              "    <tr>\n",
              "      <th>C23 C25 C27</th>\n",
              "      <td>4</td>\n",
              "    </tr>\n",
              "    <tr>\n",
              "      <th>D</th>\n",
              "      <td>3</td>\n",
              "    </tr>\n",
              "    <tr>\n",
              "      <th>F2</th>\n",
              "      <td>3</td>\n",
              "    </tr>\n",
              "    <tr>\n",
              "      <th>...</th>\n",
              "      <td>...</td>\n",
              "    </tr>\n",
              "    <tr>\n",
              "      <th>C82</th>\n",
              "      <td>1</td>\n",
              "    </tr>\n",
              "    <tr>\n",
              "      <th>C87</th>\n",
              "      <td>1</td>\n",
              "    </tr>\n",
              "    <tr>\n",
              "      <th>D30</th>\n",
              "      <td>1</td>\n",
              "    </tr>\n",
              "    <tr>\n",
              "      <th>C111</th>\n",
              "      <td>1</td>\n",
              "    </tr>\n",
              "    <tr>\n",
              "      <th>A16</th>\n",
              "      <td>1</td>\n",
              "    </tr>\n",
              "  </tbody>\n",
              "</table>\n",
              "<p>147 rows × 1 columns</p>\n",
              "</div>"
            ],
            "text/plain": [
              "             Cabin\n",
              "B96 B98          4\n",
              "G6               4\n",
              "C23 C25 C27      4\n",
              "D                3\n",
              "F2               3\n",
              "...            ...\n",
              "C82              1\n",
              "C87              1\n",
              "D30              1\n",
              "C111             1\n",
              "A16              1\n",
              "\n",
              "[147 rows x 1 columns]"
            ]
          },
          "metadata": {
            "tags": []
          },
          "execution_count": 214
        }
      ]
    },
    {
      "cell_type": "code",
      "metadata": {
        "id": "ttcIPmkgcBtw",
        "colab": {
          "base_uri": "https://localhost:8080/",
          "height": 405
        },
        "outputId": "454f17ed-e646-4754-957d-855afcfe45f5"
      },
      "source": [
        "pd.DataFrame(Base[\"Embarked\"].value_counts())\n",
        "pd.DataFrame(Base[\"Embarked\"].value_counts()).plot.bar()"
      ],
      "execution_count": 215,
      "outputs": [
        {
          "output_type": "execute_result",
          "data": {
            "text/html": [
              "<div>\n",
              "<style scoped>\n",
              "    .dataframe tbody tr th:only-of-type {\n",
              "        vertical-align: middle;\n",
              "    }\n",
              "\n",
              "    .dataframe tbody tr th {\n",
              "        vertical-align: top;\n",
              "    }\n",
              "\n",
              "    .dataframe thead th {\n",
              "        text-align: right;\n",
              "    }\n",
              "</style>\n",
              "<table border=\"1\" class=\"dataframe\">\n",
              "  <thead>\n",
              "    <tr style=\"text-align: right;\">\n",
              "      <th></th>\n",
              "      <th>Embarked</th>\n",
              "    </tr>\n",
              "  </thead>\n",
              "  <tbody>\n",
              "    <tr>\n",
              "      <th>S</th>\n",
              "      <td>644</td>\n",
              "    </tr>\n",
              "    <tr>\n",
              "      <th>C</th>\n",
              "      <td>168</td>\n",
              "    </tr>\n",
              "    <tr>\n",
              "      <th>Q</th>\n",
              "      <td>77</td>\n",
              "    </tr>\n",
              "  </tbody>\n",
              "</table>\n",
              "</div>"
            ],
            "text/plain": [
              "   Embarked\n",
              "S       644\n",
              "C       168\n",
              "Q        77"
            ]
          },
          "metadata": {
            "tags": []
          },
          "execution_count": 215
        },
        {
          "output_type": "execute_result",
          "data": {
            "text/plain": [
              "<matplotlib.axes._subplots.AxesSubplot at 0x7fa1d38d5cd0>"
            ]
          },
          "metadata": {
            "tags": []
          },
          "execution_count": 215
        },
        {
          "output_type": "display_data",
          "data": {
            "image/png": "[encoded data removed]",
            "text/plain": [
              "<Figure size 432x288 with 1 Axes>"
            ]
          },
          "metadata": {
            "tags": [],
            "needs_background": "light"
          }
        }
      ]
    },
    {
      "cell_type": "code",
      "metadata": {
        "id": "M3Sm1Y0cik_Z",
        "colab": {
          "base_uri": "https://localhost:8080/",
          "height": 527
        },
        "outputId": "d3cb2fb2-5196-476f-f662-72e54d59e225"
      },
      "source": [
        "pd.DataFrame(Base[\"SibSp\"].value_counts())\n",
        "pd.DataFrame(Base[\"SibSp\"].value_counts()).plot.bar()"
      ],
      "execution_count": 216,
      "outputs": [
        {
          "output_type": "execute_result",
          "data": {
            "text/html": [
              "<div>\n",
              "<style scoped>\n",
              "    .dataframe tbody tr th:only-of-type {\n",
              "        vertical-align: middle;\n",
              "    }\n",
              "\n",
              "    .dataframe tbody tr th {\n",
              "        vertical-align: top;\n",
              "    }\n",
              "\n",
              "    .dataframe thead th {\n",
              "        text-align: right;\n",
              "    }\n",
              "</style>\n",
              "<table border=\"1\" class=\"dataframe\">\n",
              "  <thead>\n",
              "    <tr style=\"text-align: right;\">\n",
              "      <th></th>\n",
              "      <th>SibSp</th>\n",
              "    </tr>\n",
              "  </thead>\n",
              "  <tbody>\n",
              "    <tr>\n",
              "      <th>0</th>\n",
              "      <td>608</td>\n",
              "    </tr>\n",
              "    <tr>\n",
              "      <th>1</th>\n",
              "      <td>209</td>\n",
              "    </tr>\n",
              "    <tr>\n",
              "      <th>2</th>\n",
              "      <td>28</td>\n",
              "    </tr>\n",
              "    <tr>\n",
              "      <th>4</th>\n",
              "      <td>18</td>\n",
              "    </tr>\n",
              "    <tr>\n",
              "      <th>3</th>\n",
              "      <td>16</td>\n",
              "    </tr>\n",
              "    <tr>\n",
              "      <th>8</th>\n",
              "      <td>7</td>\n",
              "    </tr>\n",
              "    <tr>\n",
              "      <th>5</th>\n",
              "      <td>5</td>\n",
              "    </tr>\n",
              "  </tbody>\n",
              "</table>\n",
              "</div>"
            ],
            "text/plain": [
              "   SibSp\n",
              "0    608\n",
              "1    209\n",
              "2     28\n",
              "4     18\n",
              "3     16\n",
              "8      7\n",
              "5      5"
            ]
          },
          "metadata": {
            "tags": []
          },
          "execution_count": 216
        },
        {
          "output_type": "execute_result",
          "data": {
            "text/plain": [
              "<matplotlib.axes._subplots.AxesSubplot at 0x7fa1d38c3a50>"
            ]
          },
          "metadata": {
            "tags": []
          },
          "execution_count": 216
        },
        {
          "output_type": "display_data",
          "data": {
            "image/png": "[encoded data removed]",
            "text/plain": [
              "<Figure size 432x288 with 1 Axes>"
            ]
          },
          "metadata": {
            "tags": [],
            "needs_background": "light"
          }
        }
      ]
    },
    {
      "cell_type": "markdown",
      "metadata": {
        "id": "Mpmdx7HCZB7e"
      },
      "source": [
        "Podemos ver que hay un nivel alto de variacion en las categorias del numero de cabina, podriamos generar algun nivel de agregacion, pero en este caso procederemos a elimirnar esta variable.\n",
        "\n",
        "Revisaremos la probablidad de supervivencia de acuerdo a la categoria:"
      ]
    },
    {
      "cell_type": "code",
      "metadata": {
        "id": "VZxIgEDGOrKY",
        "colab": {
          "base_uri": "https://localhost:8080/",
          "height": 279
        },
        "outputId": "4f8784d2-191f-412a-dd13-4ad16f8baa1e"
      },
      "source": [
        "sns.barplot(x='Pclass', y='Survived', data=Base);"
      ],
      "execution_count": 217,
      "outputs": [
        {
          "output_type": "display_data",
          "data": {
            "image/png": "[encoded data removed]",
            "text/plain": [
              "<Figure size 432x288 with 1 Axes>"
            ]
          },
          "metadata": {
            "tags": [],
            "needs_background": "light"
          }
        }
      ]
    },
    {
      "cell_type": "code",
      "metadata": {
        "id": "fSSmabGVVCwW",
        "colab": {
          "base_uri": "https://localhost:8080/",
          "height": 279
        },
        "outputId": "850cd06d-c829-400b-e289-3ae53dac2d0c"
      },
      "source": [
        "sns.barplot(x='Sex', y='Survived', data=Base);"
      ],
      "execution_count": 218,
      "outputs": [
        {
          "output_type": "display_data",
          "data": {
            "image/png": "[encoded data removed]",
            "text/plain": [
              "<Figure size 432x288 with 1 Axes>"
            ]
          },
          "metadata": {
            "tags": [],
            "needs_background": "light"
          }
        }
      ]
    },
    {
      "cell_type": "code",
      "metadata": {
        "id": "srWnZNU9VLEc",
        "colab": {
          "base_uri": "https://localhost:8080/",
          "height": 279
        },
        "outputId": "72fa7974-8d22-49eb-df05-b511bcbd94a3"
      },
      "source": [
        "sns.barplot(x='Embarked', y='Survived', data=Base);"
      ],
      "execution_count": 219,
      "outputs": [
        {
          "output_type": "display_data",
          "data": {
            "image/png": "[encoded data removed]",
            "text/plain": [
              "<Figure size 432x288 with 1 Axes>"
            ]
          },
          "metadata": {
            "tags": [],
            "needs_background": "light"
          }
        }
      ]
    },
    {
      "cell_type": "code",
      "metadata": {
        "id": "Qh1gK1z9jHse",
        "colab": {
          "base_uri": "https://localhost:8080/",
          "height": 279
        },
        "outputId": "e5e95f00-3ed1-4e26-8c3c-3252ebb2c296"
      },
      "source": [
        "sns.barplot(x='Parch', y='Survived', data=Base);"
      ],
      "execution_count": 220,
      "outputs": [
        {
          "output_type": "display_data",
          "data": {
            "image/png": "[encoded data removed]",
            "text/plain": [
              "<Figure size 432x288 with 1 Axes>"
            ]
          },
          "metadata": {
            "tags": [],
            "needs_background": "light"
          }
        }
      ]
    },
    {
      "cell_type": "code",
      "metadata": {
        "id": "NrHp4v5Li4K1",
        "colab": {
          "base_uri": "https://localhost:8080/",
          "height": 279
        },
        "outputId": "2491b1e6-f158-43b2-ec61-d1882b271c2c"
      },
      "source": [
        "sns.barplot(x='SibSp', y='Survived', data=Base);"
      ],
      "execution_count": 221,
      "outputs": [
        {
          "output_type": "display_data",
          "data": {
            "image/png": "[encoded data removed]",
            "text/plain": [
              "<Figure size 432x288 with 1 Axes>"
            ]
          },
          "metadata": {
            "tags": [],
            "needs_background": "light"
          }
        }
      ]
    },
    {
      "cell_type": "markdown",
      "metadata": {
        "id": "54S7XEMRhKDp"
      },
      "source": [
        "### **3.2.2   Revision de Variables Continuas**"
      ]
    },
    {
      "cell_type": "markdown",
      "metadata": {
        "id": "nM24d2cmhNNv"
      },
      "source": [
        "Revisaremos el comportamiento de estas variables con el fin de detectar valores faltantes y atipicos. Revisaremos sus distribuciones y el nivel de correlacion que hay entre ellas, con el fin de encontrar relaciones que nos faciliten la construcción del algún modelo."
      ]
    },
    {
      "cell_type": "code",
      "metadata": {
        "id": "1Kj6K7y4d71X",
        "colab": {
          "base_uri": "https://localhost:8080/",
          "height": 320
        },
        "outputId": "8315e022-e0d6-48c8-a7b0-13d133c7ea6b"
      },
      "source": [
        "cols = [\"Age\",\"Fare\"]\n",
        "Base[cols].plot(kind=\"box\",subplots=True,figsize=(20, 5));"
      ],
      "execution_count": 222,
      "outputs": [
        {
          "output_type": "display_data",
          "data": {
            "image/png": "[encoded data removed]",
            "text/plain": [
              "<Figure size 1440x360 with 2 Axes>"
            ]
          },
          "metadata": {
            "tags": [],
            "needs_background": "light"
          }
        }
      ]
    },
    {
      "cell_type": "markdown",
      "metadata": {
        "id": "hADYSW7_hhXC"
      },
      "source": [
        "# **4.   Preparacion de la Base de Datos**"
      ]
    },
    {
      "cell_type": "markdown",
      "metadata": {
        "id": "xxMJATAPhw7S"
      },
      "source": [
        "Eliminaremos las columnas con demasiados datos faltantes y las que consideremos irrelevantes para nuestro analisis."
      ]
    },
    {
      "cell_type": "code",
      "metadata": {
        "colab": {
          "base_uri": "https://localhost:8080/",
          "height": 450
        },
        "id": "qgKfd8cxtYjn",
        "outputId": "fa8e9a59-6ca4-4c8c-82a4-440560f9f1e2"
      },
      "source": [
        "Base=Base.drop(['Cabin',\"Name\",\"Ticket\"], axis=1)\n",
        "Base"
      ],
      "execution_count": 223,
      "outputs": [
        {
          "output_type": "execute_result",
          "data": {
            "text/html": [
              "<div>\n",
              "<style scoped>\n",
              "    .dataframe tbody tr th:only-of-type {\n",
              "        vertical-align: middle;\n",
              "    }\n",
              "\n",
              "    .dataframe tbody tr th {\n",
              "        vertical-align: top;\n",
              "    }\n",
              "\n",
              "    .dataframe thead th {\n",
              "        text-align: right;\n",
              "    }\n",
              "</style>\n",
              "<table border=\"1\" class=\"dataframe\">\n",
              "  <thead>\n",
              "    <tr style=\"text-align: right;\">\n",
              "      <th></th>\n",
              "      <th>Survived</th>\n",
              "      <th>Pclass</th>\n",
              "      <th>Sex</th>\n",
              "      <th>Age</th>\n",
              "      <th>SibSp</th>\n",
              "      <th>Parch</th>\n",
              "      <th>Fare</th>\n",
              "      <th>Embarked</th>\n",
              "    </tr>\n",
              "    <tr>\n",
              "      <th>PassengerId</th>\n",
              "      <th></th>\n",
              "      <th></th>\n",
              "      <th></th>\n",
              "      <th></th>\n",
              "      <th></th>\n",
              "      <th></th>\n",
              "      <th></th>\n",
              "      <th></th>\n",
              "    </tr>\n",
              "  </thead>\n",
              "  <tbody>\n",
              "    <tr>\n",
              "      <th>1</th>\n",
              "      <td>0</td>\n",
              "      <td>3</td>\n",
              "      <td>male</td>\n",
              "      <td>22.0</td>\n",
              "      <td>1</td>\n",
              "      <td>0</td>\n",
              "      <td>7.2500</td>\n",
              "      <td>S</td>\n",
              "    </tr>\n",
              "    <tr>\n",
              "      <th>2</th>\n",
              "      <td>1</td>\n",
              "      <td>1</td>\n",
              "      <td>female</td>\n",
              "      <td>38.0</td>\n",
              "      <td>1</td>\n",
              "      <td>0</td>\n",
              "      <td>71.2833</td>\n",
              "      <td>C</td>\n",
              "    </tr>\n",
              "    <tr>\n",
              "      <th>3</th>\n",
              "      <td>1</td>\n",
              "      <td>3</td>\n",
              "      <td>female</td>\n",
              "      <td>26.0</td>\n",
              "      <td>0</td>\n",
              "      <td>0</td>\n",
              "      <td>7.9250</td>\n",
              "      <td>S</td>\n",
              "    </tr>\n",
              "    <tr>\n",
              "      <th>4</th>\n",
              "      <td>1</td>\n",
              "      <td>1</td>\n",
              "      <td>female</td>\n",
              "      <td>35.0</td>\n",
              "      <td>1</td>\n",
              "      <td>0</td>\n",
              "      <td>53.1000</td>\n",
              "      <td>S</td>\n",
              "    </tr>\n",
              "    <tr>\n",
              "      <th>5</th>\n",
              "      <td>0</td>\n",
              "      <td>3</td>\n",
              "      <td>male</td>\n",
              "      <td>35.0</td>\n",
              "      <td>0</td>\n",
              "      <td>0</td>\n",
              "      <td>8.0500</td>\n",
              "      <td>S</td>\n",
              "    </tr>\n",
              "    <tr>\n",
              "      <th>...</th>\n",
              "      <td>...</td>\n",
              "      <td>...</td>\n",
              "      <td>...</td>\n",
              "      <td>...</td>\n",
              "      <td>...</td>\n",
              "      <td>...</td>\n",
              "      <td>...</td>\n",
              "      <td>...</td>\n",
              "    </tr>\n",
              "    <tr>\n",
              "      <th>887</th>\n",
              "      <td>0</td>\n",
              "      <td>2</td>\n",
              "      <td>male</td>\n",
              "      <td>27.0</td>\n",
              "      <td>0</td>\n",
              "      <td>0</td>\n",
              "      <td>13.0000</td>\n",
              "      <td>S</td>\n",
              "    </tr>\n",
              "    <tr>\n",
              "      <th>888</th>\n",
              "      <td>1</td>\n",
              "      <td>1</td>\n",
              "      <td>female</td>\n",
              "      <td>19.0</td>\n",
              "      <td>0</td>\n",
              "      <td>0</td>\n",
              "      <td>30.0000</td>\n",
              "      <td>S</td>\n",
              "    </tr>\n",
              "    <tr>\n",
              "      <th>889</th>\n",
              "      <td>0</td>\n",
              "      <td>3</td>\n",
              "      <td>female</td>\n",
              "      <td>NaN</td>\n",
              "      <td>1</td>\n",
              "      <td>2</td>\n",
              "      <td>23.4500</td>\n",
              "      <td>S</td>\n",
              "    </tr>\n",
              "    <tr>\n",
              "      <th>890</th>\n",
              "      <td>1</td>\n",
              "      <td>1</td>\n",
              "      <td>male</td>\n",
              "      <td>26.0</td>\n",
              "      <td>0</td>\n",
              "      <td>0</td>\n",
              "      <td>30.0000</td>\n",
              "      <td>C</td>\n",
              "    </tr>\n",
              "    <tr>\n",
              "      <th>891</th>\n",
              "      <td>0</td>\n",
              "      <td>3</td>\n",
              "      <td>male</td>\n",
              "      <td>32.0</td>\n",
              "      <td>0</td>\n",
              "      <td>0</td>\n",
              "      <td>7.7500</td>\n",
              "      <td>Q</td>\n",
              "    </tr>\n",
              "  </tbody>\n",
              "</table>\n",
              "<p>891 rows × 8 columns</p>\n",
              "</div>"
            ],
            "text/plain": [
              "             Survived  Pclass     Sex   Age  SibSp  Parch     Fare Embarked\n",
              "PassengerId                                                                \n",
              "1                   0       3    male  22.0      1      0   7.2500        S\n",
              "2                   1       1  female  38.0      1      0  71.2833        C\n",
              "3                   1       3  female  26.0      0      0   7.9250        S\n",
              "4                   1       1  female  35.0      1      0  53.1000        S\n",
              "5                   0       3    male  35.0      0      0   8.0500        S\n",
              "...               ...     ...     ...   ...    ...    ...      ...      ...\n",
              "887                 0       2    male  27.0      0      0  13.0000        S\n",
              "888                 1       1  female  19.0      0      0  30.0000        S\n",
              "889                 0       3  female   NaN      1      2  23.4500        S\n",
              "890                 1       1    male  26.0      0      0  30.0000        C\n",
              "891                 0       3    male  32.0      0      0   7.7500        Q\n",
              "\n",
              "[891 rows x 8 columns]"
            ]
          },
          "metadata": {
            "tags": []
          },
          "execution_count": 223
        }
      ]
    },
    {
      "cell_type": "markdown",
      "metadata": {
        "id": "q9oSlTDN1aL_"
      },
      "source": [
        "Eliminaremos las filas con algun dato faltante:"
      ]
    },
    {
      "cell_type": "code",
      "metadata": {
        "colab": {
          "base_uri": "https://localhost:8080/",
          "height": 450
        },
        "id": "P_mrHR_ZvykS",
        "outputId": "21a57cbc-60c8-48f5-a8a1-b6968017c548"
      },
      "source": [
        "Base = Base.dropna()\n",
        "Base"
      ],
      "execution_count": 224,
      "outputs": [
        {
          "output_type": "execute_result",
          "data": {
            "text/html": [
              "<div>\n",
              "<style scoped>\n",
              "    .dataframe tbody tr th:only-of-type {\n",
              "        vertical-align: middle;\n",
              "    }\n",
              "\n",
              "    .dataframe tbody tr th {\n",
              "        vertical-align: top;\n",
              "    }\n",
              "\n",
              "    .dataframe thead th {\n",
              "        text-align: right;\n",
              "    }\n",
              "</style>\n",
              "<table border=\"1\" class=\"dataframe\">\n",
              "  <thead>\n",
              "    <tr style=\"text-align: right;\">\n",
              "      <th></th>\n",
              "      <th>Survived</th>\n",
              "      <th>Pclass</th>\n",
              "      <th>Sex</th>\n",
              "      <th>Age</th>\n",
              "      <th>SibSp</th>\n",
              "      <th>Parch</th>\n",
              "      <th>Fare</th>\n",
              "      <th>Embarked</th>\n",
              "    </tr>\n",
              "    <tr>\n",
              "      <th>PassengerId</th>\n",
              "      <th></th>\n",
              "      <th></th>\n",
              "      <th></th>\n",
              "      <th></th>\n",
              "      <th></th>\n",
              "      <th></th>\n",
              "      <th></th>\n",
              "      <th></th>\n",
              "    </tr>\n",
              "  </thead>\n",
              "  <tbody>\n",
              "    <tr>\n",
              "      <th>1</th>\n",
              "      <td>0</td>\n",
              "      <td>3</td>\n",
              "      <td>male</td>\n",
              "      <td>22.0</td>\n",
              "      <td>1</td>\n",
              "      <td>0</td>\n",
              "      <td>7.2500</td>\n",
              "      <td>S</td>\n",
              "    </tr>\n",
              "    <tr>\n",
              "      <th>2</th>\n",
              "      <td>1</td>\n",
              "      <td>1</td>\n",
              "      <td>female</td>\n",
              "      <td>38.0</td>\n",
              "      <td>1</td>\n",
              "      <td>0</td>\n",
              "      <td>71.2833</td>\n",
              "      <td>C</td>\n",
              "    </tr>\n",
              "    <tr>\n",
              "      <th>3</th>\n",
              "      <td>1</td>\n",
              "      <td>3</td>\n",
              "      <td>female</td>\n",
              "      <td>26.0</td>\n",
              "      <td>0</td>\n",
              "      <td>0</td>\n",
              "      <td>7.9250</td>\n",
              "      <td>S</td>\n",
              "    </tr>\n",
              "    <tr>\n",
              "      <th>4</th>\n",
              "      <td>1</td>\n",
              "      <td>1</td>\n",
              "      <td>female</td>\n",
              "      <td>35.0</td>\n",
              "      <td>1</td>\n",
              "      <td>0</td>\n",
              "      <td>53.1000</td>\n",
              "      <td>S</td>\n",
              "    </tr>\n",
              "    <tr>\n",
              "      <th>5</th>\n",
              "      <td>0</td>\n",
              "      <td>3</td>\n",
              "      <td>male</td>\n",
              "      <td>35.0</td>\n",
              "      <td>0</td>\n",
              "      <td>0</td>\n",
              "      <td>8.0500</td>\n",
              "      <td>S</td>\n",
              "    </tr>\n",
              "    <tr>\n",
              "      <th>...</th>\n",
              "      <td>...</td>\n",
              "      <td>...</td>\n",
              "      <td>...</td>\n",
              "      <td>...</td>\n",
              "      <td>...</td>\n",
              "      <td>...</td>\n",
              "      <td>...</td>\n",
              "      <td>...</td>\n",
              "    </tr>\n",
              "    <tr>\n",
              "      <th>886</th>\n",
              "      <td>0</td>\n",
              "      <td>3</td>\n",
              "      <td>female</td>\n",
              "      <td>39.0</td>\n",
              "      <td>0</td>\n",
              "      <td>5</td>\n",
              "      <td>29.1250</td>\n",
              "      <td>Q</td>\n",
              "    </tr>\n",
              "    <tr>\n",
              "      <th>887</th>\n",
              "      <td>0</td>\n",
              "      <td>2</td>\n",
              "      <td>male</td>\n",
              "      <td>27.0</td>\n",
              "      <td>0</td>\n",
              "      <td>0</td>\n",
              "      <td>13.0000</td>\n",
              "      <td>S</td>\n",
              "    </tr>\n",
              "    <tr>\n",
              "      <th>888</th>\n",
              "      <td>1</td>\n",
              "      <td>1</td>\n",
              "      <td>female</td>\n",
              "      <td>19.0</td>\n",
              "      <td>0</td>\n",
              "      <td>0</td>\n",
              "      <td>30.0000</td>\n",
              "      <td>S</td>\n",
              "    </tr>\n",
              "    <tr>\n",
              "      <th>890</th>\n",
              "      <td>1</td>\n",
              "      <td>1</td>\n",
              "      <td>male</td>\n",
              "      <td>26.0</td>\n",
              "      <td>0</td>\n",
              "      <td>0</td>\n",
              "      <td>30.0000</td>\n",
              "      <td>C</td>\n",
              "    </tr>\n",
              "    <tr>\n",
              "      <th>891</th>\n",
              "      <td>0</td>\n",
              "      <td>3</td>\n",
              "      <td>male</td>\n",
              "      <td>32.0</td>\n",
              "      <td>0</td>\n",
              "      <td>0</td>\n",
              "      <td>7.7500</td>\n",
              "      <td>Q</td>\n",
              "    </tr>\n",
              "  </tbody>\n",
              "</table>\n",
              "<p>712 rows × 8 columns</p>\n",
              "</div>"
            ],
            "text/plain": [
              "             Survived  Pclass     Sex   Age  SibSp  Parch     Fare Embarked\n",
              "PassengerId                                                                \n",
              "1                   0       3    male  22.0      1      0   7.2500        S\n",
              "2                   1       1  female  38.0      1      0  71.2833        C\n",
              "3                   1       3  female  26.0      0      0   7.9250        S\n",
              "4                   1       1  female  35.0      1      0  53.1000        S\n",
              "5                   0       3    male  35.0      0      0   8.0500        S\n",
              "...               ...     ...     ...   ...    ...    ...      ...      ...\n",
              "886                 0       3  female  39.0      0      5  29.1250        Q\n",
              "887                 0       2    male  27.0      0      0  13.0000        S\n",
              "888                 1       1  female  19.0      0      0  30.0000        S\n",
              "890                 1       1    male  26.0      0      0  30.0000        C\n",
              "891                 0       3    male  32.0      0      0   7.7500        Q\n",
              "\n",
              "[712 rows x 8 columns]"
            ]
          },
          "metadata": {
            "tags": []
          },
          "execution_count": 224
        }
      ]
    },
    {
      "cell_type": "markdown",
      "metadata": {
        "id": "B3Q6QXlO1sh_"
      },
      "source": [
        "#**5.   Analisis Predictivo:** ¿Sobreviviría Si Hubiera Estado En El Titanic?"
      ]
    },
    {
      "cell_type": "markdown",
      "metadata": {
        "id": "wIBH7N5l11kr"
      },
      "source": [
        "## **5.1   Definicion del Tipo de Modelo y Ajustes**"
      ]
    },
    {
      "cell_type": "markdown",
      "metadata": {
        "id": "apCGSka42Qg-"
      },
      "source": [
        "Definimos que es un tipo de modelo de clasificacion (prediccion de una variable cualitativa) y que el objetivo es predecir la variable binaria *Survived*"
      ]
    },
    {
      "cell_type": "code",
      "metadata": {
        "id": "SoCjS_MOOqhr",
        "colab": {
          "base_uri": "https://localhost:8080/",
          "height": 1000
        },
        "outputId": "66afc746-ddfe-4676-d1cd-38fdc78e5e5c"
      },
      "source": [
        "from pycaret.classification import * \n",
        "model_titanic = setup(Base, target = 'Survived', silent=True,session_id=123)"
      ],
      "execution_count": 225,
      "outputs": [
        {
          "output_type": "display_data",
          "data": {
            "text/html": [
              "<div>\n",
              "<style scoped>\n",
              "    .dataframe tbody tr th:only-of-type {\n",
              "        vertical-align: middle;\n",
              "    }\n",
              "\n",
              "    .dataframe tbody tr th {\n",
              "        vertical-align: top;\n",
              "    }\n",
              "\n",
              "    .dataframe thead th {\n",
              "        text-align: right;\n",
              "    }\n",
              "</style>\n",
              "<table border=\"1\" class=\"dataframe\">\n",
              "  <thead>\n",
              "    <tr style=\"text-align: right;\">\n",
              "      <th></th>\n",
              "      <th>Description</th>\n",
              "      <th>Value</th>\n",
              "    </tr>\n",
              "  </thead>\n",
              "  <tbody>\n",
              "    <tr>\n",
              "      <th>0</th>\n",
              "      <td>session_id</td>\n",
              "      <td>123</td>\n",
              "    </tr>\n",
              "    <tr>\n",
              "      <th>1</th>\n",
              "      <td>Target</td>\n",
              "      <td>Survived</td>\n",
              "    </tr>\n",
              "    <tr>\n",
              "      <th>2</th>\n",
              "      <td>Target Type</td>\n",
              "      <td>Binary</td>\n",
              "    </tr>\n",
              "    <tr>\n",
              "      <th>3</th>\n",
              "      <td>Label Encoded</td>\n",
              "      <td>0: 0, 1: 1</td>\n",
              "    </tr>\n",
              "    <tr>\n",
              "      <th>4</th>\n",
              "      <td>Original Data</td>\n",
              "      <td>(712, 8)</td>\n",
              "    </tr>\n",
              "    <tr>\n",
              "      <th>5</th>\n",
              "      <td>Missing Values</td>\n",
              "      <td>False</td>\n",
              "    </tr>\n",
              "    <tr>\n",
              "      <th>6</th>\n",
              "      <td>Numeric Features</td>\n",
              "      <td>2</td>\n",
              "    </tr>\n",
              "    <tr>\n",
              "      <th>7</th>\n",
              "      <td>Categorical Features</td>\n",
              "      <td>5</td>\n",
              "    </tr>\n",
              "    <tr>\n",
              "      <th>8</th>\n",
              "      <td>Ordinal Features</td>\n",
              "      <td>False</td>\n",
              "    </tr>\n",
              "    <tr>\n",
              "      <th>9</th>\n",
              "      <td>High Cardinality Features</td>\n",
              "      <td>False</td>\n",
              "    </tr>\n",
              "    <tr>\n",
              "      <th>10</th>\n",
              "      <td>High Cardinality Method</td>\n",
              "      <td>None</td>\n",
              "    </tr>\n",
              "    <tr>\n",
              "      <th>11</th>\n",
              "      <td>Transformed Train Set</td>\n",
              "      <td>(498, 22)</td>\n",
              "    </tr>\n",
              "    <tr>\n",
              "      <th>12</th>\n",
              "      <td>Transformed Test Set</td>\n",
              "      <td>(214, 22)</td>\n",
              "    </tr>\n",
              "    <tr>\n",
              "      <th>13</th>\n",
              "      <td>Shuffle Train-Test</td>\n",
              "      <td>True</td>\n",
              "    </tr>\n",
              "    <tr>\n",
              "      <th>14</th>\n",
              "      <td>Stratify Train-Test</td>\n",
              "      <td>False</td>\n",
              "    </tr>\n",
              "    <tr>\n",
              "      <th>15</th>\n",
              "      <td>Fold Generator</td>\n",
              "      <td>StratifiedKFold</td>\n",
              "    </tr>\n",
              "    <tr>\n",
              "      <th>16</th>\n",
              "      <td>Fold Number</td>\n",
              "      <td>10</td>\n",
              "    </tr>\n",
              "    <tr>\n",
              "      <th>17</th>\n",
              "      <td>CPU Jobs</td>\n",
              "      <td>-1</td>\n",
              "    </tr>\n",
              "    <tr>\n",
              "      <th>18</th>\n",
              "      <td>Use GPU</td>\n",
              "      <td>False</td>\n",
              "    </tr>\n",
              "    <tr>\n",
              "      <th>19</th>\n",
              "      <td>Log Experiment</td>\n",
              "      <td>False</td>\n",
              "    </tr>\n",
              "    <tr>\n",
              "      <th>20</th>\n",
              "      <td>Experiment Name</td>\n",
              "      <td>clf-default-name</td>\n",
              "    </tr>\n",
              "    <tr>\n",
              "      <th>21</th>\n",
              "      <td>USI</td>\n",
              "      <td>050c</td>\n",
              "    </tr>\n",
              "    <tr>\n",
              "      <th>22</th>\n",
              "      <td>Imputation Type</td>\n",
              "      <td>simple</td>\n",
              "    </tr>\n",
              "    <tr>\n",
              "      <th>23</th>\n",
              "      <td>Iterative Imputation Iteration</td>\n",
              "      <td>None</td>\n",
              "    </tr>\n",
              "    <tr>\n",
              "      <th>24</th>\n",
              "      <td>Numeric Imputer</td>\n",
              "      <td>mean</td>\n",
              "    </tr>\n",
              "    <tr>\n",
              "      <th>25</th>\n",
              "      <td>Iterative Imputation Numeric Model</td>\n",
              "      <td>None</td>\n",
              "    </tr>\n",
              "    <tr>\n",
              "      <th>26</th>\n",
              "      <td>Categorical Imputer</td>\n",
              "      <td>constant</td>\n",
              "    </tr>\n",
              "    <tr>\n",
              "      <th>27</th>\n",
              "      <td>Iterative Imputation Categorical Model</td>\n",
              "      <td>None</td>\n",
              "    </tr>\n",
              "    <tr>\n",
              "      <th>28</th>\n",
              "      <td>Unknown Categoricals Handling</td>\n",
              "      <td>least_frequent</td>\n",
              "    </tr>\n",
              "    <tr>\n",
              "      <th>29</th>\n",
              "      <td>Normalize</td>\n",
              "      <td>False</td>\n",
              "    </tr>\n",
              "    <tr>\n",
              "      <th>30</th>\n",
              "      <td>Normalize Method</td>\n",
              "      <td>None</td>\n",
              "    </tr>\n",
              "    <tr>\n",
              "      <th>31</th>\n",
              "      <td>Transformation</td>\n",
              "      <td>False</td>\n",
              "    </tr>\n",
              "    <tr>\n",
              "      <th>32</th>\n",
              "      <td>Transformation Method</td>\n",
              "      <td>None</td>\n",
              "    </tr>\n",
              "    <tr>\n",
              "      <th>33</th>\n",
              "      <td>PCA</td>\n",
              "      <td>False</td>\n",
              "    </tr>\n",
              "    <tr>\n",
              "      <th>34</th>\n",
              "      <td>PCA Method</td>\n",
              "      <td>None</td>\n",
              "    </tr>\n",
              "    <tr>\n",
              "      <th>35</th>\n",
              "      <td>PCA Components</td>\n",
              "      <td>None</td>\n",
              "    </tr>\n",
              "    <tr>\n",
              "      <th>36</th>\n",
              "      <td>Ignore Low Variance</td>\n",
              "      <td>False</td>\n",
              "    </tr>\n",
              "    <tr>\n",
              "      <th>37</th>\n",
              "      <td>Combine Rare Levels</td>\n",
              "      <td>False</td>\n",
              "    </tr>\n",
              "    <tr>\n",
              "      <th>38</th>\n",
              "      <td>Rare Level Threshold</td>\n",
              "      <td>None</td>\n",
              "    </tr>\n",
              "    <tr>\n",
              "      <th>39</th>\n",
              "      <td>Numeric Binning</td>\n",
              "      <td>False</td>\n",
              "    </tr>\n",
              "    <tr>\n",
              "      <th>40</th>\n",
              "      <td>Remove Outliers</td>\n",
              "      <td>False</td>\n",
              "    </tr>\n",
              "    <tr>\n",
              "      <th>41</th>\n",
              "      <td>Outliers Threshold</td>\n",
              "      <td>None</td>\n",
              "    </tr>\n",
              "    <tr>\n",
              "      <th>42</th>\n",
              "      <td>Remove Multicollinearity</td>\n",
              "      <td>False</td>\n",
              "    </tr>\n",
              "    <tr>\n",
              "      <th>43</th>\n",
              "      <td>Multicollinearity Threshold</td>\n",
              "      <td>None</td>\n",
              "    </tr>\n",
              "    <tr>\n",
              "      <th>44</th>\n",
              "      <td>Clustering</td>\n",
              "      <td>False</td>\n",
              "    </tr>\n",
              "    <tr>\n",
              "      <th>45</th>\n",
              "      <td>Clustering Iteration</td>\n",
              "      <td>None</td>\n",
              "    </tr>\n",
              "    <tr>\n",
              "      <th>46</th>\n",
              "      <td>Polynomial Features</td>\n",
              "      <td>False</td>\n",
              "    </tr>\n",
              "    <tr>\n",
              "      <th>47</th>\n",
              "      <td>Polynomial Degree</td>\n",
              "      <td>None</td>\n",
              "    </tr>\n",
              "    <tr>\n",
              "      <th>48</th>\n",
              "      <td>Trignometry Features</td>\n",
              "      <td>False</td>\n",
              "    </tr>\n",
              "    <tr>\n",
              "      <th>49</th>\n",
              "      <td>Polynomial Threshold</td>\n",
              "      <td>None</td>\n",
              "    </tr>\n",
              "    <tr>\n",
              "      <th>50</th>\n",
              "      <td>Group Features</td>\n",
              "      <td>False</td>\n",
              "    </tr>\n",
              "    <tr>\n",
              "      <th>51</th>\n",
              "      <td>Feature Selection</td>\n",
              "      <td>False</td>\n",
              "    </tr>\n",
              "    <tr>\n",
              "      <th>52</th>\n",
              "      <td>Feature Selection Method</td>\n",
              "      <td>classic</td>\n",
              "    </tr>\n",
              "    <tr>\n",
              "      <th>53</th>\n",
              "      <td>Features Selection Threshold</td>\n",
              "      <td>None</td>\n",
              "    </tr>\n",
              "    <tr>\n",
              "      <th>54</th>\n",
              "      <td>Feature Interaction</td>\n",
              "      <td>False</td>\n",
              "    </tr>\n",
              "    <tr>\n",
              "      <th>55</th>\n",
              "      <td>Feature Ratio</td>\n",
              "      <td>False</td>\n",
              "    </tr>\n",
              "    <tr>\n",
              "      <th>56</th>\n",
              "      <td>Interaction Threshold</td>\n",
              "      <td>None</td>\n",
              "    </tr>\n",
              "    <tr>\n",
              "      <th>57</th>\n",
              "      <td>Fix Imbalance</td>\n",
              "      <td>False</td>\n",
              "    </tr>\n",
              "    <tr>\n",
              "      <th>58</th>\n",
              "      <td>Fix Imbalance Method</td>\n",
              "      <td>SMOTE</td>\n",
              "    </tr>\n",
              "  </tbody>\n",
              "</table>\n",
              "</div>"
            ],
            "text/plain": [
              "                               Description             Value\n",
              "0                               session_id               123\n",
              "1                                   Target          Survived\n",
              "2                              Target Type            Binary\n",
              "3                            Label Encoded        0: 0, 1: 1\n",
              "4                            Original Data          (712, 8)\n",
              "5                           Missing Values             False\n",
              "6                         Numeric Features                 2\n",
              "7                     Categorical Features                 5\n",
              "8                         Ordinal Features             False\n",
              "9                High Cardinality Features             False\n",
              "10                 High Cardinality Method              None\n",
              "11                   Transformed Train Set         (498, 22)\n",
              "12                    Transformed Test Set         (214, 22)\n",
              "13                      Shuffle Train-Test              True\n",
              "14                     Stratify Train-Test             False\n",
              "15                          Fold Generator   StratifiedKFold\n",
              "16                             Fold Number                10\n",
              "17                                CPU Jobs                -1\n",
              "18                                 Use GPU             False\n",
              "19                          Log Experiment             False\n",
              "20                         Experiment Name  clf-default-name\n",
              "21                                     USI              050c\n",
              "22                         Imputation Type            simple\n",
              "23          Iterative Imputation Iteration              None\n",
              "24                         Numeric Imputer              mean\n",
              "25      Iterative Imputation Numeric Model              None\n",
              "26                     Categorical Imputer          constant\n",
              "27  Iterative Imputation Categorical Model              None\n",
              "28           Unknown Categoricals Handling    least_frequent\n",
              "29                               Normalize             False\n",
              "30                        Normalize Method              None\n",
              "31                          Transformation             False\n",
              "32                   Transformation Method              None\n",
              "33                                     PCA             False\n",
              "34                              PCA Method              None\n",
              "35                          PCA Components              None\n",
              "36                     Ignore Low Variance             False\n",
              "37                     Combine Rare Levels             False\n",
              "38                    Rare Level Threshold              None\n",
              "39                         Numeric Binning             False\n",
              "40                         Remove Outliers             False\n",
              "41                      Outliers Threshold              None\n",
              "42                Remove Multicollinearity             False\n",
              "43             Multicollinearity Threshold              None\n",
              "44                              Clustering             False\n",
              "45                    Clustering Iteration              None\n",
              "46                     Polynomial Features             False\n",
              "47                       Polynomial Degree              None\n",
              "48                    Trignometry Features             False\n",
              "49                    Polynomial Threshold              None\n",
              "50                          Group Features             False\n",
              "51                       Feature Selection             False\n",
              "52                Feature Selection Method           classic\n",
              "53            Features Selection Threshold              None\n",
              "54                     Feature Interaction             False\n",
              "55                           Feature Ratio             False\n",
              "56                   Interaction Threshold              None\n",
              "57                           Fix Imbalance             False\n",
              "58                    Fix Imbalance Method             SMOTE"
            ]
          },
          "metadata": {
            "tags": []
          }
        }
      ]
    },
    {
      "cell_type": "markdown",
      "metadata": {
        "id": "QdF8L9J82kc3"
      },
      "source": [
        "## **5.2   Comparacion de Modelos Predictivos**"
      ]
    },
    {
      "cell_type": "markdown",
      "metadata": {
        "id": "HQ0d2zze3BHD"
      },
      "source": [
        "De un pool de modelos definidos dentro de la libreria *Pycaret*, se comparan metricas de rendimiento, entrenando los modelos con datos del conjutno de *Train* y evaluandolos en el conjunto de *Test*."
      ]
    },
    {
      "cell_type": "code",
      "metadata": {
        "id": "E8FWR8Wa5HGu",
        "colab": {
          "base_uri": "https://localhost:8080/",
          "height": 622,
          "referenced_widgets": [
            "e235bba0c7ba4947a6c31b3a59debffe",
            "34cfb4d6f6db4efc98ba6e30b3ce246e",
            "ea30c7bcec1a49439bfcea023953f0f8"
          ]
        },
        "outputId": "dfaad738-5284-49bd-e5b0-aa2c3d642613"
      },
      "source": [
        "# compare all baseline models and select top 5\n",
        "compare_models(sort = 'Accuracy') "
      ],
      "execution_count": 226,
      "outputs": [
        {
          "output_type": "display_data",
          "data": {
            "text/html": [
              "<div>\n",
              "<style scoped>\n",
              "    .dataframe tbody tr th:only-of-type {\n",
              "        vertical-align: middle;\n",
              "    }\n",
              "\n",
              "    .dataframe tbody tr th {\n",
              "        vertical-align: top;\n",
              "    }\n",
              "\n",
              "    .dataframe thead th {\n",
              "        text-align: right;\n",
              "    }\n",
              "</style>\n",
              "<table border=\"1\" class=\"dataframe\">\n",
              "  <thead>\n",
              "    <tr style=\"text-align: right;\">\n",
              "      <th></th>\n",
              "      <th>Model</th>\n",
              "      <th>Accuracy</th>\n",
              "      <th>AUC</th>\n",
              "      <th>Recall</th>\n",
              "      <th>Prec.</th>\n",
              "      <th>F1</th>\n",
              "      <th>Kappa</th>\n",
              "      <th>MCC</th>\n",
              "      <th>TT (Sec)</th>\n",
              "    </tr>\n",
              "  </thead>\n",
              "  <tbody>\n",
              "    <tr>\n",
              "      <th>gbc</th>\n",
              "      <td>Gradient Boosting Classifier</td>\n",
              "      <td>0.8195</td>\n",
              "      <td>0.8637</td>\n",
              "      <td>0.6987</td>\n",
              "      <td>0.8321</td>\n",
              "      <td>0.7557</td>\n",
              "      <td>0.6144</td>\n",
              "      <td>0.6241</td>\n",
              "      <td>0.100</td>\n",
              "    </tr>\n",
              "    <tr>\n",
              "      <th>lr</th>\n",
              "      <td>Logistic Regression</td>\n",
              "      <td>0.8134</td>\n",
              "      <td>0.8539</td>\n",
              "      <td>0.7289</td>\n",
              "      <td>0.7902</td>\n",
              "      <td>0.7556</td>\n",
              "      <td>0.6056</td>\n",
              "      <td>0.6095</td>\n",
              "      <td>0.121</td>\n",
              "    </tr>\n",
              "    <tr>\n",
              "      <th>lightgbm</th>\n",
              "      <td>Light Gradient Boosting Machine</td>\n",
              "      <td>0.8133</td>\n",
              "      <td>0.8572</td>\n",
              "      <td>0.7034</td>\n",
              "      <td>0.8070</td>\n",
              "      <td>0.7478</td>\n",
              "      <td>0.6015</td>\n",
              "      <td>0.6084</td>\n",
              "      <td>0.042</td>\n",
              "    </tr>\n",
              "    <tr>\n",
              "      <th>ada</th>\n",
              "      <td>Ada Boost Classifier</td>\n",
              "      <td>0.7994</td>\n",
              "      <td>0.8469</td>\n",
              "      <td>0.7384</td>\n",
              "      <td>0.7614</td>\n",
              "      <td>0.7467</td>\n",
              "      <td>0.5809</td>\n",
              "      <td>0.5844</td>\n",
              "      <td>0.108</td>\n",
              "    </tr>\n",
              "    <tr>\n",
              "      <th>ridge</th>\n",
              "      <td>Ridge Classifier</td>\n",
              "      <td>0.7953</td>\n",
              "      <td>0.0000</td>\n",
              "      <td>0.6934</td>\n",
              "      <td>0.7714</td>\n",
              "      <td>0.7276</td>\n",
              "      <td>0.5650</td>\n",
              "      <td>0.5695</td>\n",
              "      <td>0.015</td>\n",
              "    </tr>\n",
              "    <tr>\n",
              "      <th>lda</th>\n",
              "      <td>Linear Discriminant Analysis</td>\n",
              "      <td>0.7913</td>\n",
              "      <td>0.8502</td>\n",
              "      <td>0.6934</td>\n",
              "      <td>0.7645</td>\n",
              "      <td>0.7246</td>\n",
              "      <td>0.5577</td>\n",
              "      <td>0.5618</td>\n",
              "      <td>0.019</td>\n",
              "    </tr>\n",
              "    <tr>\n",
              "      <th>rf</th>\n",
              "      <td>Random Forest Classifier</td>\n",
              "      <td>0.7832</td>\n",
              "      <td>0.8354</td>\n",
              "      <td>0.7134</td>\n",
              "      <td>0.7367</td>\n",
              "      <td>0.7237</td>\n",
              "      <td>0.5455</td>\n",
              "      <td>0.5471</td>\n",
              "      <td>0.490</td>\n",
              "    </tr>\n",
              "    <tr>\n",
              "      <th>et</th>\n",
              "      <td>Extra Trees Classifier</td>\n",
              "      <td>0.7773</td>\n",
              "      <td>0.8068</td>\n",
              "      <td>0.7034</td>\n",
              "      <td>0.7326</td>\n",
              "      <td>0.7163</td>\n",
              "      <td>0.5332</td>\n",
              "      <td>0.5349</td>\n",
              "      <td>0.464</td>\n",
              "    </tr>\n",
              "    <tr>\n",
              "      <th>dt</th>\n",
              "      <td>Decision Tree Classifier</td>\n",
              "      <td>0.7731</td>\n",
              "      <td>0.7640</td>\n",
              "      <td>0.7287</td>\n",
              "      <td>0.7133</td>\n",
              "      <td>0.7191</td>\n",
              "      <td>0.5291</td>\n",
              "      <td>0.5312</td>\n",
              "      <td>0.018</td>\n",
              "    </tr>\n",
              "    <tr>\n",
              "      <th>knn</th>\n",
              "      <td>K Neighbors Classifier</td>\n",
              "      <td>0.6989</td>\n",
              "      <td>0.7064</td>\n",
              "      <td>0.5471</td>\n",
              "      <td>0.6584</td>\n",
              "      <td>0.5899</td>\n",
              "      <td>0.3563</td>\n",
              "      <td>0.3653</td>\n",
              "      <td>0.122</td>\n",
              "    </tr>\n",
              "    <tr>\n",
              "      <th>svm</th>\n",
              "      <td>SVM - Linear Kernel</td>\n",
              "      <td>0.6690</td>\n",
              "      <td>0.0000</td>\n",
              "      <td>0.4239</td>\n",
              "      <td>0.5301</td>\n",
              "      <td>0.4290</td>\n",
              "      <td>0.2580</td>\n",
              "      <td>0.2815</td>\n",
              "      <td>0.017</td>\n",
              "    </tr>\n",
              "    <tr>\n",
              "      <th>nb</th>\n",
              "      <td>Naive Bayes</td>\n",
              "      <td>0.4538</td>\n",
              "      <td>0.7942</td>\n",
              "      <td>0.9850</td>\n",
              "      <td>0.4217</td>\n",
              "      <td>0.5905</td>\n",
              "      <td>0.0701</td>\n",
              "      <td>0.1696</td>\n",
              "      <td>0.016</td>\n",
              "    </tr>\n",
              "    <tr>\n",
              "      <th>qda</th>\n",
              "      <td>Quadratic Discriminant Analysis</td>\n",
              "      <td>0.4196</td>\n",
              "      <td>0.0000</td>\n",
              "      <td>0.9000</td>\n",
              "      <td>0.3596</td>\n",
              "      <td>0.5139</td>\n",
              "      <td>0.0000</td>\n",
              "      <td>0.0000</td>\n",
              "      <td>0.018</td>\n",
              "    </tr>\n",
              "  </tbody>\n",
              "</table>\n",
              "</div>"
            ],
            "text/plain": [
              "                                    Model  Accuracy     AUC  Recall   Prec.  \\\n",
              "gbc          Gradient Boosting Classifier    0.8195  0.8637  0.6987  0.8321   \n",
              "lr                    Logistic Regression    0.8134  0.8539  0.7289  0.7902   \n",
              "lightgbm  Light Gradient Boosting Machine    0.8133  0.8572  0.7034  0.8070   \n",
              "ada                  Ada Boost Classifier    0.7994  0.8469  0.7384  0.7614   \n",
              "ridge                    Ridge Classifier    0.7953  0.0000  0.6934  0.7714   \n",
              "lda          Linear Discriminant Analysis    0.7913  0.8502  0.6934  0.7645   \n",
              "rf               Random Forest Classifier    0.7832  0.8354  0.7134  0.7367   \n",
              "et                 Extra Trees Classifier    0.7773  0.8068  0.7034  0.7326   \n",
              "dt               Decision Tree Classifier    0.7731  0.7640  0.7287  0.7133   \n",
              "knn                K Neighbors Classifier    0.6989  0.7064  0.5471  0.6584   \n",
              "svm                   SVM - Linear Kernel    0.6690  0.0000  0.4239  0.5301   \n",
              "nb                            Naive Bayes    0.4538  0.7942  0.9850  0.4217   \n",
              "qda       Quadratic Discriminant Analysis    0.4196  0.0000  0.9000  0.3596   \n",
              "\n",
              "              F1   Kappa     MCC  TT (Sec)  \n",
              "gbc       0.7557  0.6144  0.6241     0.100  \n",
              "lr        0.7556  0.6056  0.6095     0.121  \n",
              "lightgbm  0.7478  0.6015  0.6084     0.042  \n",
              "ada       0.7467  0.5809  0.5844     0.108  \n",
              "ridge     0.7276  0.5650  0.5695     0.015  \n",
              "lda       0.7246  0.5577  0.5618     0.019  \n",
              "rf        0.7237  0.5455  0.5471     0.490  \n",
              "et        0.7163  0.5332  0.5349     0.464  \n",
              "dt        0.7191  0.5291  0.5312     0.018  \n",
              "knn       0.5899  0.3563  0.3653     0.122  \n",
              "svm       0.4290  0.2580  0.2815     0.017  \n",
              "nb        0.5905  0.0701  0.1696     0.016  \n",
              "qda       0.5139  0.0000  0.0000     0.018  "
            ]
          },
          "metadata": {
            "tags": []
          }
        },
        {
          "output_type": "execute_result",
          "data": {
            "text/plain": [
              "GradientBoostingClassifier(ccp_alpha=0.0, criterion='friedman_mse', init=None,\n",
              "                           learning_rate=0.1, loss='deviance', max_depth=3,\n",
              "                           max_features=None, max_leaf_nodes=None,\n",
              "                           min_impurity_decrease=0.0, min_impurity_split=None,\n",
              "                           min_samples_leaf=1, min_samples_split=2,\n",
              "                           min_weight_fraction_leaf=0.0, n_estimators=100,\n",
              "                           n_iter_no_change=None, presort='deprecated',\n",
              "                           random_state=123, subsample=1.0, tol=0.0001,\n",
              "                           validation_fraction=0.1, verbose=0,\n",
              "                           warm_start=False)"
            ]
          },
          "metadata": {
            "tags": []
          },
          "execution_count": 226
        }
      ]
    },
    {
      "cell_type": "markdown",
      "metadata": {
        "id": "Moqosgoq2zKv"
      },
      "source": [
        "## **5.3   Seleccion y Creacion de Modelos**"
      ]
    },
    {
      "cell_type": "markdown",
      "metadata": {
        "id": "5WtCU46-3Pj7"
      },
      "source": [
        "Una vez seleccionados los modelos, se procece a crearlos con los parmetros de por defecto, evaluandolos con una metodologia conocida como *Cross Validation*."
      ]
    },
    {
      "cell_type": "markdown",
      "metadata": {
        "id": "E1Oc01XZ00Wz"
      },
      "source": [
        "<h1> <img src=\"https://miro.medium.com/max/780/1*6uqOaJbA8J0bCDWUml6AhA.png\" align=\"Center\" height=\"450\" width=\"700\" />\n",
        "\n",
        "\n",
        "\n",
        "\n",
        "\n"
      ]
    },
    {
      "cell_type": "code",
      "metadata": {
        "colab": {
          "base_uri": "https://localhost:8080/",
          "height": 421,
          "referenced_widgets": [
            "a665b9231d3d4872b19e59b0e3e9b5a6",
            "ae2d55d7d4ee42eaa6f4b8b4792feaf9",
            "aa38a9f8d01342a895b108c648c40f01"
          ]
        },
        "id": "ObW8nl-9r6u0",
        "outputId": "e344f163-c4d8-429d-d5b0-7413f01b965a"
      },
      "source": [
        "Titanic_gbc = create_model(\"gbc\")"
      ],
      "execution_count": 227,
      "outputs": [
        {
          "output_type": "display_data",
          "data": {
            "text/html": [
              "<div>\n",
              "<style scoped>\n",
              "    .dataframe tbody tr th:only-of-type {\n",
              "        vertical-align: middle;\n",
              "    }\n",
              "\n",
              "    .dataframe tbody tr th {\n",
              "        vertical-align: top;\n",
              "    }\n",
              "\n",
              "    .dataframe thead th {\n",
              "        text-align: right;\n",
              "    }\n",
              "</style>\n",
              "<table border=\"1\" class=\"dataframe\">\n",
              "  <thead>\n",
              "    <tr style=\"text-align: right;\">\n",
              "      <th></th>\n",
              "      <th>Accuracy</th>\n",
              "      <th>AUC</th>\n",
              "      <th>Recall</th>\n",
              "      <th>Prec.</th>\n",
              "      <th>F1</th>\n",
              "      <th>Kappa</th>\n",
              "      <th>MCC</th>\n",
              "    </tr>\n",
              "  </thead>\n",
              "  <tbody>\n",
              "    <tr>\n",
              "      <th>0</th>\n",
              "      <td>0.8400</td>\n",
              "      <td>0.8917</td>\n",
              "      <td>0.6500</td>\n",
              "      <td>0.9286</td>\n",
              "      <td>0.7647</td>\n",
              "      <td>0.6491</td>\n",
              "      <td>0.6728</td>\n",
              "    </tr>\n",
              "    <tr>\n",
              "      <th>1</th>\n",
              "      <td>0.8000</td>\n",
              "      <td>0.7850</td>\n",
              "      <td>0.6000</td>\n",
              "      <td>0.8571</td>\n",
              "      <td>0.7059</td>\n",
              "      <td>0.5614</td>\n",
              "      <td>0.5819</td>\n",
              "    </tr>\n",
              "    <tr>\n",
              "      <th>2</th>\n",
              "      <td>0.8000</td>\n",
              "      <td>0.8650</td>\n",
              "      <td>0.7000</td>\n",
              "      <td>0.7778</td>\n",
              "      <td>0.7368</td>\n",
              "      <td>0.5763</td>\n",
              "      <td>0.5784</td>\n",
              "    </tr>\n",
              "    <tr>\n",
              "      <th>3</th>\n",
              "      <td>0.8000</td>\n",
              "      <td>0.9100</td>\n",
              "      <td>0.7000</td>\n",
              "      <td>0.7778</td>\n",
              "      <td>0.7368</td>\n",
              "      <td>0.5763</td>\n",
              "      <td>0.5784</td>\n",
              "    </tr>\n",
              "    <tr>\n",
              "      <th>4</th>\n",
              "      <td>0.8400</td>\n",
              "      <td>0.9192</td>\n",
              "      <td>0.7000</td>\n",
              "      <td>0.8750</td>\n",
              "      <td>0.7778</td>\n",
              "      <td>0.6552</td>\n",
              "      <td>0.6651</td>\n",
              "    </tr>\n",
              "    <tr>\n",
              "      <th>5</th>\n",
              "      <td>0.8200</td>\n",
              "      <td>0.8783</td>\n",
              "      <td>0.8500</td>\n",
              "      <td>0.7391</td>\n",
              "      <td>0.7907</td>\n",
              "      <td>0.6341</td>\n",
              "      <td>0.6389</td>\n",
              "    </tr>\n",
              "    <tr>\n",
              "      <th>6</th>\n",
              "      <td>0.8400</td>\n",
              "      <td>0.8533</td>\n",
              "      <td>0.7000</td>\n",
              "      <td>0.8750</td>\n",
              "      <td>0.7778</td>\n",
              "      <td>0.6552</td>\n",
              "      <td>0.6651</td>\n",
              "    </tr>\n",
              "    <tr>\n",
              "      <th>7</th>\n",
              "      <td>0.7200</td>\n",
              "      <td>0.7333</td>\n",
              "      <td>0.6000</td>\n",
              "      <td>0.6667</td>\n",
              "      <td>0.6316</td>\n",
              "      <td>0.4068</td>\n",
              "      <td>0.4082</td>\n",
              "    </tr>\n",
              "    <tr>\n",
              "      <th>8</th>\n",
              "      <td>0.8367</td>\n",
              "      <td>0.9281</td>\n",
              "      <td>0.7368</td>\n",
              "      <td>0.8235</td>\n",
              "      <td>0.7778</td>\n",
              "      <td>0.6494</td>\n",
              "      <td>0.6519</td>\n",
              "    </tr>\n",
              "    <tr>\n",
              "      <th>9</th>\n",
              "      <td>0.8980</td>\n",
              "      <td>0.8733</td>\n",
              "      <td>0.7500</td>\n",
              "      <td>1.0000</td>\n",
              "      <td>0.8571</td>\n",
              "      <td>0.7803</td>\n",
              "      <td>0.7998</td>\n",
              "    </tr>\n",
              "    <tr>\n",
              "      <th>Mean</th>\n",
              "      <td>0.8195</td>\n",
              "      <td>0.8637</td>\n",
              "      <td>0.6987</td>\n",
              "      <td>0.8321</td>\n",
              "      <td>0.7557</td>\n",
              "      <td>0.6144</td>\n",
              "      <td>0.6241</td>\n",
              "    </tr>\n",
              "    <tr>\n",
              "      <th>SD</th>\n",
              "      <td>0.0433</td>\n",
              "      <td>0.0581</td>\n",
              "      <td>0.0699</td>\n",
              "      <td>0.0915</td>\n",
              "      <td>0.0563</td>\n",
              "      <td>0.0908</td>\n",
              "      <td>0.0950</td>\n",
              "    </tr>\n",
              "  </tbody>\n",
              "</table>\n",
              "</div>"
            ],
            "text/plain": [
              "      Accuracy     AUC  Recall   Prec.      F1   Kappa     MCC\n",
              "0       0.8400  0.8917  0.6500  0.9286  0.7647  0.6491  0.6728\n",
              "1       0.8000  0.7850  0.6000  0.8571  0.7059  0.5614  0.5819\n",
              "2       0.8000  0.8650  0.7000  0.7778  0.7368  0.5763  0.5784\n",
              "3       0.8000  0.9100  0.7000  0.7778  0.7368  0.5763  0.5784\n",
              "4       0.8400  0.9192  0.7000  0.8750  0.7778  0.6552  0.6651\n",
              "5       0.8200  0.8783  0.8500  0.7391  0.7907  0.6341  0.6389\n",
              "6       0.8400  0.8533  0.7000  0.8750  0.7778  0.6552  0.6651\n",
              "7       0.7200  0.7333  0.6000  0.6667  0.6316  0.4068  0.4082\n",
              "8       0.8367  0.9281  0.7368  0.8235  0.7778  0.6494  0.6519\n",
              "9       0.8980  0.8733  0.7500  1.0000  0.8571  0.7803  0.7998\n",
              "Mean    0.8195  0.8637  0.6987  0.8321  0.7557  0.6144  0.6241\n",
              "SD      0.0433  0.0581  0.0699  0.0915  0.0563  0.0908  0.0950"
            ]
          },
          "metadata": {
            "tags": []
          }
        }
      ]
    },
    {
      "cell_type": "code",
      "metadata": {
        "colab": {
          "base_uri": "https://localhost:8080/",
          "height": 421,
          "referenced_widgets": [
            "061e64a4b78a41958af16de1cad8f5e8",
            "1c8fca5473ce4efe9f15095326a6f1d4",
            "201110e2af3e47088eead9586b5adcdf"
          ]
        },
        "id": "VESXTlkgsMwa",
        "outputId": "4a4e05f4-031e-49ca-baf4-89e8c4e37660"
      },
      "source": [
        "Titanic_lr = create_model(\"lr\")"
      ],
      "execution_count": 228,
      "outputs": [
        {
          "output_type": "display_data",
          "data": {
            "text/html": [
              "<div>\n",
              "<style scoped>\n",
              "    .dataframe tbody tr th:only-of-type {\n",
              "        vertical-align: middle;\n",
              "    }\n",
              "\n",
              "    .dataframe tbody tr th {\n",
              "        vertical-align: top;\n",
              "    }\n",
              "\n",
              "    .dataframe thead th {\n",
              "        text-align: right;\n",
              "    }\n",
              "</style>\n",
              "<table border=\"1\" class=\"dataframe\">\n",
              "  <thead>\n",
              "    <tr style=\"text-align: right;\">\n",
              "      <th></th>\n",
              "      <th>Accuracy</th>\n",
              "      <th>AUC</th>\n",
              "      <th>Recall</th>\n",
              "      <th>Prec.</th>\n",
              "      <th>F1</th>\n",
              "      <th>Kappa</th>\n",
              "      <th>MCC</th>\n",
              "    </tr>\n",
              "  </thead>\n",
              "  <tbody>\n",
              "    <tr>\n",
              "      <th>0</th>\n",
              "      <td>0.7600</td>\n",
              "      <td>0.8700</td>\n",
              "      <td>0.6000</td>\n",
              "      <td>0.7500</td>\n",
              "      <td>0.6667</td>\n",
              "      <td>0.4828</td>\n",
              "      <td>0.4901</td>\n",
              "    </tr>\n",
              "    <tr>\n",
              "      <th>1</th>\n",
              "      <td>0.7800</td>\n",
              "      <td>0.7817</td>\n",
              "      <td>0.6500</td>\n",
              "      <td>0.7647</td>\n",
              "      <td>0.7027</td>\n",
              "      <td>0.5299</td>\n",
              "      <td>0.5343</td>\n",
              "    </tr>\n",
              "    <tr>\n",
              "      <th>2</th>\n",
              "      <td>0.7600</td>\n",
              "      <td>0.8283</td>\n",
              "      <td>0.7000</td>\n",
              "      <td>0.7000</td>\n",
              "      <td>0.7000</td>\n",
              "      <td>0.5000</td>\n",
              "      <td>0.5000</td>\n",
              "    </tr>\n",
              "    <tr>\n",
              "      <th>3</th>\n",
              "      <td>0.9000</td>\n",
              "      <td>0.9367</td>\n",
              "      <td>0.9000</td>\n",
              "      <td>0.8571</td>\n",
              "      <td>0.8780</td>\n",
              "      <td>0.7934</td>\n",
              "      <td>0.7941</td>\n",
              "    </tr>\n",
              "    <tr>\n",
              "      <th>4</th>\n",
              "      <td>0.8800</td>\n",
              "      <td>0.9067</td>\n",
              "      <td>0.7500</td>\n",
              "      <td>0.9375</td>\n",
              "      <td>0.8333</td>\n",
              "      <td>0.7414</td>\n",
              "      <td>0.7527</td>\n",
              "    </tr>\n",
              "    <tr>\n",
              "      <th>5</th>\n",
              "      <td>0.8800</td>\n",
              "      <td>0.8600</td>\n",
              "      <td>0.8500</td>\n",
              "      <td>0.8500</td>\n",
              "      <td>0.8500</td>\n",
              "      <td>0.7500</td>\n",
              "      <td>0.7500</td>\n",
              "    </tr>\n",
              "    <tr>\n",
              "      <th>6</th>\n",
              "      <td>0.8000</td>\n",
              "      <td>0.8833</td>\n",
              "      <td>0.8000</td>\n",
              "      <td>0.7273</td>\n",
              "      <td>0.7619</td>\n",
              "      <td>0.5902</td>\n",
              "      <td>0.5922</td>\n",
              "    </tr>\n",
              "    <tr>\n",
              "      <th>7</th>\n",
              "      <td>0.6600</td>\n",
              "      <td>0.7033</td>\n",
              "      <td>0.5000</td>\n",
              "      <td>0.5882</td>\n",
              "      <td>0.5405</td>\n",
              "      <td>0.2735</td>\n",
              "      <td>0.2758</td>\n",
              "    </tr>\n",
              "    <tr>\n",
              "      <th>8</th>\n",
              "      <td>0.8367</td>\n",
              "      <td>0.8825</td>\n",
              "      <td>0.7895</td>\n",
              "      <td>0.7895</td>\n",
              "      <td>0.7895</td>\n",
              "      <td>0.6561</td>\n",
              "      <td>0.6561</td>\n",
              "    </tr>\n",
              "    <tr>\n",
              "      <th>9</th>\n",
              "      <td>0.8776</td>\n",
              "      <td>0.8862</td>\n",
              "      <td>0.7500</td>\n",
              "      <td>0.9375</td>\n",
              "      <td>0.8333</td>\n",
              "      <td>0.7384</td>\n",
              "      <td>0.7499</td>\n",
              "    </tr>\n",
              "    <tr>\n",
              "      <th>Mean</th>\n",
              "      <td>0.8134</td>\n",
              "      <td>0.8539</td>\n",
              "      <td>0.7289</td>\n",
              "      <td>0.7902</td>\n",
              "      <td>0.7556</td>\n",
              "      <td>0.6056</td>\n",
              "      <td>0.6095</td>\n",
              "    </tr>\n",
              "    <tr>\n",
              "      <th>SD</th>\n",
              "      <td>0.0718</td>\n",
              "      <td>0.0642</td>\n",
              "      <td>0.1139</td>\n",
              "      <td>0.1032</td>\n",
              "      <td>0.0986</td>\n",
              "      <td>0.1540</td>\n",
              "      <td>0.1548</td>\n",
              "    </tr>\n",
              "  </tbody>\n",
              "</table>\n",
              "</div>"
            ],
            "text/plain": [
              "      Accuracy     AUC  Recall   Prec.      F1   Kappa     MCC\n",
              "0       0.7600  0.8700  0.6000  0.7500  0.6667  0.4828  0.4901\n",
              "1       0.7800  0.7817  0.6500  0.7647  0.7027  0.5299  0.5343\n",
              "2       0.7600  0.8283  0.7000  0.7000  0.7000  0.5000  0.5000\n",
              "3       0.9000  0.9367  0.9000  0.8571  0.8780  0.7934  0.7941\n",
              "4       0.8800  0.9067  0.7500  0.9375  0.8333  0.7414  0.7527\n",
              "5       0.8800  0.8600  0.8500  0.8500  0.8500  0.7500  0.7500\n",
              "6       0.8000  0.8833  0.8000  0.7273  0.7619  0.5902  0.5922\n",
              "7       0.6600  0.7033  0.5000  0.5882  0.5405  0.2735  0.2758\n",
              "8       0.8367  0.8825  0.7895  0.7895  0.7895  0.6561  0.6561\n",
              "9       0.8776  0.8862  0.7500  0.9375  0.8333  0.7384  0.7499\n",
              "Mean    0.8134  0.8539  0.7289  0.7902  0.7556  0.6056  0.6095\n",
              "SD      0.0718  0.0642  0.1139  0.1032  0.0986  0.1540  0.1548"
            ]
          },
          "metadata": {
            "tags": []
          }
        }
      ]
    },
    {
      "cell_type": "code",
      "metadata": {
        "colab": {
          "base_uri": "https://localhost:8080/",
          "height": 421,
          "referenced_widgets": [
            "704dde9e990c49d0841bf835a1adec99",
            "6ec1a0c5240d4537a659873f16f98546",
            "1d9f562a64364ef6832c9669b77e6245"
          ]
        },
        "id": "kS4FmdglsZ1n",
        "outputId": "7e0de8c9-822e-41b9-9ace-eebdf9a583d0"
      },
      "source": [
        "Titanic_lgbc = create_model(\"lightgbm\")"
      ],
      "execution_count": 229,
      "outputs": [
        {
          "output_type": "display_data",
          "data": {
            "text/html": [
              "<div>\n",
              "<style scoped>\n",
              "    .dataframe tbody tr th:only-of-type {\n",
              "        vertical-align: middle;\n",
              "    }\n",
              "\n",
              "    .dataframe tbody tr th {\n",
              "        vertical-align: top;\n",
              "    }\n",
              "\n",
              "    .dataframe thead th {\n",
              "        text-align: right;\n",
              "    }\n",
              "</style>\n",
              "<table border=\"1\" class=\"dataframe\">\n",
              "  <thead>\n",
              "    <tr style=\"text-align: right;\">\n",
              "      <th></th>\n",
              "      <th>Accuracy</th>\n",
              "      <th>AUC</th>\n",
              "      <th>Recall</th>\n",
              "      <th>Prec.</th>\n",
              "      <th>F1</th>\n",
              "      <th>Kappa</th>\n",
              "      <th>MCC</th>\n",
              "    </tr>\n",
              "  </thead>\n",
              "  <tbody>\n",
              "    <tr>\n",
              "      <th>0</th>\n",
              "      <td>0.8200</td>\n",
              "      <td>0.9067</td>\n",
              "      <td>0.6500</td>\n",
              "      <td>0.8667</td>\n",
              "      <td>0.7429</td>\n",
              "      <td>0.6087</td>\n",
              "      <td>0.6236</td>\n",
              "    </tr>\n",
              "    <tr>\n",
              "      <th>1</th>\n",
              "      <td>0.7000</td>\n",
              "      <td>0.7950</td>\n",
              "      <td>0.6000</td>\n",
              "      <td>0.6316</td>\n",
              "      <td>0.6154</td>\n",
              "      <td>0.3697</td>\n",
              "      <td>0.3701</td>\n",
              "    </tr>\n",
              "    <tr>\n",
              "      <th>2</th>\n",
              "      <td>0.7800</td>\n",
              "      <td>0.8400</td>\n",
              "      <td>0.6500</td>\n",
              "      <td>0.7647</td>\n",
              "      <td>0.7027</td>\n",
              "      <td>0.5299</td>\n",
              "      <td>0.5343</td>\n",
              "    </tr>\n",
              "    <tr>\n",
              "      <th>3</th>\n",
              "      <td>0.9000</td>\n",
              "      <td>0.9333</td>\n",
              "      <td>0.9000</td>\n",
              "      <td>0.8571</td>\n",
              "      <td>0.8780</td>\n",
              "      <td>0.7934</td>\n",
              "      <td>0.7941</td>\n",
              "    </tr>\n",
              "    <tr>\n",
              "      <th>4</th>\n",
              "      <td>0.8600</td>\n",
              "      <td>0.8900</td>\n",
              "      <td>0.7500</td>\n",
              "      <td>0.8824</td>\n",
              "      <td>0.8108</td>\n",
              "      <td>0.7009</td>\n",
              "      <td>0.7067</td>\n",
              "    </tr>\n",
              "    <tr>\n",
              "      <th>5</th>\n",
              "      <td>0.8400</td>\n",
              "      <td>0.8783</td>\n",
              "      <td>0.8500</td>\n",
              "      <td>0.7727</td>\n",
              "      <td>0.8095</td>\n",
              "      <td>0.6721</td>\n",
              "      <td>0.6744</td>\n",
              "    </tr>\n",
              "    <tr>\n",
              "      <th>6</th>\n",
              "      <td>0.8200</td>\n",
              "      <td>0.8467</td>\n",
              "      <td>0.7000</td>\n",
              "      <td>0.8235</td>\n",
              "      <td>0.7568</td>\n",
              "      <td>0.6154</td>\n",
              "      <td>0.6205</td>\n",
              "    </tr>\n",
              "    <tr>\n",
              "      <th>7</th>\n",
              "      <td>0.7400</td>\n",
              "      <td>0.7167</td>\n",
              "      <td>0.5000</td>\n",
              "      <td>0.7692</td>\n",
              "      <td>0.6061</td>\n",
              "      <td>0.4248</td>\n",
              "      <td>0.4467</td>\n",
              "    </tr>\n",
              "    <tr>\n",
              "      <th>8</th>\n",
              "      <td>0.7959</td>\n",
              "      <td>0.8737</td>\n",
              "      <td>0.6842</td>\n",
              "      <td>0.7647</td>\n",
              "      <td>0.7222</td>\n",
              "      <td>0.5617</td>\n",
              "      <td>0.5639</td>\n",
              "    </tr>\n",
              "    <tr>\n",
              "      <th>9</th>\n",
              "      <td>0.8776</td>\n",
              "      <td>0.8914</td>\n",
              "      <td>0.7500</td>\n",
              "      <td>0.9375</td>\n",
              "      <td>0.8333</td>\n",
              "      <td>0.7384</td>\n",
              "      <td>0.7499</td>\n",
              "    </tr>\n",
              "    <tr>\n",
              "      <th>Mean</th>\n",
              "      <td>0.8133</td>\n",
              "      <td>0.8572</td>\n",
              "      <td>0.7034</td>\n",
              "      <td>0.8070</td>\n",
              "      <td>0.7478</td>\n",
              "      <td>0.6015</td>\n",
              "      <td>0.6084</td>\n",
              "    </tr>\n",
              "    <tr>\n",
              "      <th>SD</th>\n",
              "      <td>0.0585</td>\n",
              "      <td>0.0594</td>\n",
              "      <td>0.1107</td>\n",
              "      <td>0.0812</td>\n",
              "      <td>0.0851</td>\n",
              "      <td>0.1274</td>\n",
              "      <td>0.1262</td>\n",
              "    </tr>\n",
              "  </tbody>\n",
              "</table>\n",
              "</div>"
            ],
            "text/plain": [
              "      Accuracy     AUC  Recall   Prec.      F1   Kappa     MCC\n",
              "0       0.8200  0.9067  0.6500  0.8667  0.7429  0.6087  0.6236\n",
              "1       0.7000  0.7950  0.6000  0.6316  0.6154  0.3697  0.3701\n",
              "2       0.7800  0.8400  0.6500  0.7647  0.7027  0.5299  0.5343\n",
              "3       0.9000  0.9333  0.9000  0.8571  0.8780  0.7934  0.7941\n",
              "4       0.8600  0.8900  0.7500  0.8824  0.8108  0.7009  0.7067\n",
              "5       0.8400  0.8783  0.8500  0.7727  0.8095  0.6721  0.6744\n",
              "6       0.8200  0.8467  0.7000  0.8235  0.7568  0.6154  0.6205\n",
              "7       0.7400  0.7167  0.5000  0.7692  0.6061  0.4248  0.4467\n",
              "8       0.7959  0.8737  0.6842  0.7647  0.7222  0.5617  0.5639\n",
              "9       0.8776  0.8914  0.7500  0.9375  0.8333  0.7384  0.7499\n",
              "Mean    0.8133  0.8572  0.7034  0.8070  0.7478  0.6015  0.6084\n",
              "SD      0.0585  0.0594  0.1107  0.0812  0.0851  0.1274  0.1262"
            ]
          },
          "metadata": {
            "tags": []
          }
        }
      ]
    },
    {
      "cell_type": "markdown",
      "metadata": {
        "id": "iMar5b1H_GNJ"
      },
      "source": [
        "## **5.4   Ajuste de Parámetros de Modelos**"
      ]
    },
    {
      "cell_type": "markdown",
      "metadata": {
        "id": "c7o9_DmfEPII"
      },
      "source": [
        "Cada modelo funciona usando modelos matematicos que requieren ciertos parametros para *aprender mejor o mas rapido* acerca de los datos.\n",
        "\n",
        "Estos parámetros no son estandar, dependen de los datos y del tipo de problema, asi que se hace necesario ajustarlos usando diversas metologias."
      ]
    },
    {
      "cell_type": "markdown",
      "metadata": {
        "id": "NqTHifwZD3Wv"
      },
      "source": [
        "<h1> <img src=\"https://miro.medium.com/max/1400/1*SzrEmTzro2kdvy_7cVunvw.png\" align=\"Center\" height=\"350\" width=\"900\" />\n",
        "\n",
        "\n",
        "\n",
        "\n"
      ]
    },
    {
      "cell_type": "code",
      "metadata": {
        "colab": {
          "base_uri": "https://localhost:8080/"
        },
        "id": "cbq1BwjpGqTV",
        "outputId": "c38225c2-80a7-42b5-9aab-550a19daee85"
      },
      "source": [
        "Titanic_gbc"
      ],
      "execution_count": 230,
      "outputs": [
        {
          "output_type": "execute_result",
          "data": {
            "text/plain": [
              "GradientBoostingClassifier(ccp_alpha=0.0, criterion='friedman_mse', init=None,\n",
              "                           learning_rate=0.1, loss='deviance', max_depth=3,\n",
              "                           max_features=None, max_leaf_nodes=None,\n",
              "                           min_impurity_decrease=0.0, min_impurity_split=None,\n",
              "                           min_samples_leaf=1, min_samples_split=2,\n",
              "                           min_weight_fraction_leaf=0.0, n_estimators=100,\n",
              "                           n_iter_no_change=None, presort='deprecated',\n",
              "                           random_state=123, subsample=1.0, tol=0.0001,\n",
              "                           validation_fraction=0.1, verbose=0,\n",
              "                           warm_start=False)"
            ]
          },
          "metadata": {
            "tags": []
          },
          "execution_count": 230
        }
      ]
    },
    {
      "cell_type": "code",
      "metadata": {
        "colab": {
          "base_uri": "https://localhost:8080/",
          "height": 421,
          "referenced_widgets": [
            "9b1f83a13b68474bbdc70912c1a14c70",
            "4816bc30f3fb4c2797d114f22599defe",
            "d38be2c1d98f41c7a67e9d3194b19b4d"
          ]
        },
        "id": "RbyzFcKeshUr",
        "outputId": "b5324c49-9b41-405a-cb7d-f101055fa8ba"
      },
      "source": [
        "Titanic_gbc = tune_model(Titanic_gbc, n_iter = 50)"
      ],
      "execution_count": 231,
      "outputs": [
        {
          "output_type": "display_data",
          "data": {
            "text/html": [
              "<div>\n",
              "<style scoped>\n",
              "    .dataframe tbody tr th:only-of-type {\n",
              "        vertical-align: middle;\n",
              "    }\n",
              "\n",
              "    .dataframe tbody tr th {\n",
              "        vertical-align: top;\n",
              "    }\n",
              "\n",
              "    .dataframe thead th {\n",
              "        text-align: right;\n",
              "    }\n",
              "</style>\n",
              "<table border=\"1\" class=\"dataframe\">\n",
              "  <thead>\n",
              "    <tr style=\"text-align: right;\">\n",
              "      <th></th>\n",
              "      <th>Accuracy</th>\n",
              "      <th>AUC</th>\n",
              "      <th>Recall</th>\n",
              "      <th>Prec.</th>\n",
              "      <th>F1</th>\n",
              "      <th>Kappa</th>\n",
              "      <th>MCC</th>\n",
              "    </tr>\n",
              "  </thead>\n",
              "  <tbody>\n",
              "    <tr>\n",
              "      <th>0</th>\n",
              "      <td>0.8800</td>\n",
              "      <td>0.9317</td>\n",
              "      <td>0.7500</td>\n",
              "      <td>0.9375</td>\n",
              "      <td>0.8333</td>\n",
              "      <td>0.7414</td>\n",
              "      <td>0.7527</td>\n",
              "    </tr>\n",
              "    <tr>\n",
              "      <th>1</th>\n",
              "      <td>0.7600</td>\n",
              "      <td>0.8017</td>\n",
              "      <td>0.6500</td>\n",
              "      <td>0.7222</td>\n",
              "      <td>0.6842</td>\n",
              "      <td>0.4915</td>\n",
              "      <td>0.4933</td>\n",
              "    </tr>\n",
              "    <tr>\n",
              "      <th>2</th>\n",
              "      <td>0.7800</td>\n",
              "      <td>0.8583</td>\n",
              "      <td>0.7000</td>\n",
              "      <td>0.7368</td>\n",
              "      <td>0.7179</td>\n",
              "      <td>0.5378</td>\n",
              "      <td>0.5383</td>\n",
              "    </tr>\n",
              "    <tr>\n",
              "      <th>3</th>\n",
              "      <td>0.9200</td>\n",
              "      <td>0.9500</td>\n",
              "      <td>0.9500</td>\n",
              "      <td>0.8636</td>\n",
              "      <td>0.9048</td>\n",
              "      <td>0.8361</td>\n",
              "      <td>0.8389</td>\n",
              "    </tr>\n",
              "    <tr>\n",
              "      <th>4</th>\n",
              "      <td>0.8600</td>\n",
              "      <td>0.9092</td>\n",
              "      <td>0.7500</td>\n",
              "      <td>0.8824</td>\n",
              "      <td>0.8108</td>\n",
              "      <td>0.7009</td>\n",
              "      <td>0.7067</td>\n",
              "    </tr>\n",
              "    <tr>\n",
              "      <th>5</th>\n",
              "      <td>0.8400</td>\n",
              "      <td>0.8767</td>\n",
              "      <td>0.8500</td>\n",
              "      <td>0.7727</td>\n",
              "      <td>0.8095</td>\n",
              "      <td>0.6721</td>\n",
              "      <td>0.6744</td>\n",
              "    </tr>\n",
              "    <tr>\n",
              "      <th>6</th>\n",
              "      <td>0.8200</td>\n",
              "      <td>0.8183</td>\n",
              "      <td>0.7000</td>\n",
              "      <td>0.8235</td>\n",
              "      <td>0.7568</td>\n",
              "      <td>0.6154</td>\n",
              "      <td>0.6205</td>\n",
              "    </tr>\n",
              "    <tr>\n",
              "      <th>7</th>\n",
              "      <td>0.6600</td>\n",
              "      <td>0.7183</td>\n",
              "      <td>0.5000</td>\n",
              "      <td>0.5882</td>\n",
              "      <td>0.5405</td>\n",
              "      <td>0.2735</td>\n",
              "      <td>0.2758</td>\n",
              "    </tr>\n",
              "    <tr>\n",
              "      <th>8</th>\n",
              "      <td>0.8980</td>\n",
              "      <td>0.9158</td>\n",
              "      <td>0.8421</td>\n",
              "      <td>0.8889</td>\n",
              "      <td>0.8649</td>\n",
              "      <td>0.7830</td>\n",
              "      <td>0.7837</td>\n",
              "    </tr>\n",
              "    <tr>\n",
              "      <th>9</th>\n",
              "      <td>0.8776</td>\n",
              "      <td>0.8621</td>\n",
              "      <td>0.7000</td>\n",
              "      <td>1.0000</td>\n",
              "      <td>0.8235</td>\n",
              "      <td>0.7342</td>\n",
              "      <td>0.7616</td>\n",
              "    </tr>\n",
              "    <tr>\n",
              "      <th>Mean</th>\n",
              "      <td>0.8296</td>\n",
              "      <td>0.8642</td>\n",
              "      <td>0.7392</td>\n",
              "      <td>0.8216</td>\n",
              "      <td>0.7746</td>\n",
              "      <td>0.6386</td>\n",
              "      <td>0.6446</td>\n",
              "    </tr>\n",
              "    <tr>\n",
              "      <th>SD</th>\n",
              "      <td>0.0741</td>\n",
              "      <td>0.0664</td>\n",
              "      <td>0.1172</td>\n",
              "      <td>0.1136</td>\n",
              "      <td>0.1000</td>\n",
              "      <td>0.1582</td>\n",
              "      <td>0.1606</td>\n",
              "    </tr>\n",
              "  </tbody>\n",
              "</table>\n",
              "</div>"
            ],
            "text/plain": [
              "      Accuracy     AUC  Recall   Prec.      F1   Kappa     MCC\n",
              "0       0.8800  0.9317  0.7500  0.9375  0.8333  0.7414  0.7527\n",
              "1       0.7600  0.8017  0.6500  0.7222  0.6842  0.4915  0.4933\n",
              "2       0.7800  0.8583  0.7000  0.7368  0.7179  0.5378  0.5383\n",
              "3       0.9200  0.9500  0.9500  0.8636  0.9048  0.8361  0.8389\n",
              "4       0.8600  0.9092  0.7500  0.8824  0.8108  0.7009  0.7067\n",
              "5       0.8400  0.8767  0.8500  0.7727  0.8095  0.6721  0.6744\n",
              "6       0.8200  0.8183  0.7000  0.8235  0.7568  0.6154  0.6205\n",
              "7       0.6600  0.7183  0.5000  0.5882  0.5405  0.2735  0.2758\n",
              "8       0.8980  0.9158  0.8421  0.8889  0.8649  0.7830  0.7837\n",
              "9       0.8776  0.8621  0.7000  1.0000  0.8235  0.7342  0.7616\n",
              "Mean    0.8296  0.8642  0.7392  0.8216  0.7746  0.6386  0.6446\n",
              "SD      0.0741  0.0664  0.1172  0.1136  0.1000  0.1582  0.1606"
            ]
          },
          "metadata": {
            "tags": []
          }
        }
      ]
    },
    {
      "cell_type": "code",
      "metadata": {
        "colab": {
          "base_uri": "https://localhost:8080/",
          "height": 421,
          "referenced_widgets": [
            "df5dd4d3d1574968a09e3cf0da392d67",
            "b61ff3325ac348aba1a2416b596d6652",
            "492d9a6b72c34c39afb92313078ad4b5"
          ]
        },
        "id": "ILCL3TBBwl7B",
        "outputId": "7f9ff175-4eb1-4265-8df8-f8bbf6e03d86"
      },
      "source": [
        "Titanic_lgbc = tune_model(Titanic_lgbc, n_iter = 50)"
      ],
      "execution_count": 232,
      "outputs": [
        {
          "output_type": "display_data",
          "data": {
            "text/html": [
              "<div>\n",
              "<style scoped>\n",
              "    .dataframe tbody tr th:only-of-type {\n",
              "        vertical-align: middle;\n",
              "    }\n",
              "\n",
              "    .dataframe tbody tr th {\n",
              "        vertical-align: top;\n",
              "    }\n",
              "\n",
              "    .dataframe thead th {\n",
              "        text-align: right;\n",
              "    }\n",
              "</style>\n",
              "<table border=\"1\" class=\"dataframe\">\n",
              "  <thead>\n",
              "    <tr style=\"text-align: right;\">\n",
              "      <th></th>\n",
              "      <th>Accuracy</th>\n",
              "      <th>AUC</th>\n",
              "      <th>Recall</th>\n",
              "      <th>Prec.</th>\n",
              "      <th>F1</th>\n",
              "      <th>Kappa</th>\n",
              "      <th>MCC</th>\n",
              "    </tr>\n",
              "  </thead>\n",
              "  <tbody>\n",
              "    <tr>\n",
              "      <th>0</th>\n",
              "      <td>0.8200</td>\n",
              "      <td>0.9383</td>\n",
              "      <td>0.6500</td>\n",
              "      <td>0.8667</td>\n",
              "      <td>0.7429</td>\n",
              "      <td>0.6087</td>\n",
              "      <td>0.6236</td>\n",
              "    </tr>\n",
              "    <tr>\n",
              "      <th>1</th>\n",
              "      <td>0.8000</td>\n",
              "      <td>0.8075</td>\n",
              "      <td>0.6500</td>\n",
              "      <td>0.8125</td>\n",
              "      <td>0.7222</td>\n",
              "      <td>0.5690</td>\n",
              "      <td>0.5776</td>\n",
              "    </tr>\n",
              "    <tr>\n",
              "      <th>2</th>\n",
              "      <td>0.7400</td>\n",
              "      <td>0.8817</td>\n",
              "      <td>0.7000</td>\n",
              "      <td>0.6667</td>\n",
              "      <td>0.6829</td>\n",
              "      <td>0.4628</td>\n",
              "      <td>0.4632</td>\n",
              "    </tr>\n",
              "    <tr>\n",
              "      <th>3</th>\n",
              "      <td>0.9000</td>\n",
              "      <td>0.9633</td>\n",
              "      <td>0.8500</td>\n",
              "      <td>0.8947</td>\n",
              "      <td>0.8718</td>\n",
              "      <td>0.7899</td>\n",
              "      <td>0.7906</td>\n",
              "    </tr>\n",
              "    <tr>\n",
              "      <th>4</th>\n",
              "      <td>0.8600</td>\n",
              "      <td>0.9342</td>\n",
              "      <td>0.7000</td>\n",
              "      <td>0.9333</td>\n",
              "      <td>0.8000</td>\n",
              "      <td>0.6957</td>\n",
              "      <td>0.7127</td>\n",
              "    </tr>\n",
              "    <tr>\n",
              "      <th>5</th>\n",
              "      <td>0.8600</td>\n",
              "      <td>0.8817</td>\n",
              "      <td>0.9000</td>\n",
              "      <td>0.7826</td>\n",
              "      <td>0.8372</td>\n",
              "      <td>0.7154</td>\n",
              "      <td>0.7208</td>\n",
              "    </tr>\n",
              "    <tr>\n",
              "      <th>6</th>\n",
              "      <td>0.8200</td>\n",
              "      <td>0.8500</td>\n",
              "      <td>0.7000</td>\n",
              "      <td>0.8235</td>\n",
              "      <td>0.7568</td>\n",
              "      <td>0.6154</td>\n",
              "      <td>0.6205</td>\n",
              "    </tr>\n",
              "    <tr>\n",
              "      <th>7</th>\n",
              "      <td>0.6800</td>\n",
              "      <td>0.6958</td>\n",
              "      <td>0.4500</td>\n",
              "      <td>0.6429</td>\n",
              "      <td>0.5294</td>\n",
              "      <td>0.2982</td>\n",
              "      <td>0.3091</td>\n",
              "    </tr>\n",
              "    <tr>\n",
              "      <th>8</th>\n",
              "      <td>0.8571</td>\n",
              "      <td>0.9018</td>\n",
              "      <td>0.7368</td>\n",
              "      <td>0.8750</td>\n",
              "      <td>0.8000</td>\n",
              "      <td>0.6902</td>\n",
              "      <td>0.6963</td>\n",
              "    </tr>\n",
              "    <tr>\n",
              "      <th>9</th>\n",
              "      <td>0.8776</td>\n",
              "      <td>0.8862</td>\n",
              "      <td>0.7500</td>\n",
              "      <td>0.9375</td>\n",
              "      <td>0.8333</td>\n",
              "      <td>0.7384</td>\n",
              "      <td>0.7499</td>\n",
              "    </tr>\n",
              "    <tr>\n",
              "      <th>Mean</th>\n",
              "      <td>0.8215</td>\n",
              "      <td>0.8740</td>\n",
              "      <td>0.7087</td>\n",
              "      <td>0.8235</td>\n",
              "      <td>0.7577</td>\n",
              "      <td>0.6184</td>\n",
              "      <td>0.6264</td>\n",
              "    </tr>\n",
              "    <tr>\n",
              "      <th>SD</th>\n",
              "      <td>0.0638</td>\n",
              "      <td>0.0732</td>\n",
              "      <td>0.1154</td>\n",
              "      <td>0.0968</td>\n",
              "      <td>0.0937</td>\n",
              "      <td>0.1391</td>\n",
              "      <td>0.1390</td>\n",
              "    </tr>\n",
              "  </tbody>\n",
              "</table>\n",
              "</div>"
            ],
            "text/plain": [
              "      Accuracy     AUC  Recall   Prec.      F1   Kappa     MCC\n",
              "0       0.8200  0.9383  0.6500  0.8667  0.7429  0.6087  0.6236\n",
              "1       0.8000  0.8075  0.6500  0.8125  0.7222  0.5690  0.5776\n",
              "2       0.7400  0.8817  0.7000  0.6667  0.6829  0.4628  0.4632\n",
              "3       0.9000  0.9633  0.8500  0.8947  0.8718  0.7899  0.7906\n",
              "4       0.8600  0.9342  0.7000  0.9333  0.8000  0.6957  0.7127\n",
              "5       0.8600  0.8817  0.9000  0.7826  0.8372  0.7154  0.7208\n",
              "6       0.8200  0.8500  0.7000  0.8235  0.7568  0.6154  0.6205\n",
              "7       0.6800  0.6958  0.4500  0.6429  0.5294  0.2982  0.3091\n",
              "8       0.8571  0.9018  0.7368  0.8750  0.8000  0.6902  0.6963\n",
              "9       0.8776  0.8862  0.7500  0.9375  0.8333  0.7384  0.7499\n",
              "Mean    0.8215  0.8740  0.7087  0.8235  0.7577  0.6184  0.6264\n",
              "SD      0.0638  0.0732  0.1154  0.0968  0.0937  0.1391  0.1390"
            ]
          },
          "metadata": {
            "tags": []
          }
        }
      ]
    },
    {
      "cell_type": "code",
      "metadata": {
        "colab": {
          "base_uri": "https://localhost:8080/",
          "height": 421,
          "referenced_widgets": [
            "d46f16ffc1cf4a1a850eccc3382792ba",
            "301d3f43ff97429bbe6eaf1b84e98f8e",
            "371d053b2dc1402796c0861296f84406"
          ]
        },
        "id": "PqPjb5CGteqJ",
        "outputId": "bcbcf8b6-48fe-4c4b-de2d-fda2ee580152"
      },
      "source": [
        "Titanic_lr = tune_model(Titanic_lr, n_iter = 50)"
      ],
      "execution_count": 233,
      "outputs": [
        {
          "output_type": "display_data",
          "data": {
            "text/html": [
              "<div>\n",
              "<style scoped>\n",
              "    .dataframe tbody tr th:only-of-type {\n",
              "        vertical-align: middle;\n",
              "    }\n",
              "\n",
              "    .dataframe tbody tr th {\n",
              "        vertical-align: top;\n",
              "    }\n",
              "\n",
              "    .dataframe thead th {\n",
              "        text-align: right;\n",
              "    }\n",
              "</style>\n",
              "<table border=\"1\" class=\"dataframe\">\n",
              "  <thead>\n",
              "    <tr style=\"text-align: right;\">\n",
              "      <th></th>\n",
              "      <th>Accuracy</th>\n",
              "      <th>AUC</th>\n",
              "      <th>Recall</th>\n",
              "      <th>Prec.</th>\n",
              "      <th>F1</th>\n",
              "      <th>Kappa</th>\n",
              "      <th>MCC</th>\n",
              "    </tr>\n",
              "  </thead>\n",
              "  <tbody>\n",
              "    <tr>\n",
              "      <th>0</th>\n",
              "      <td>0.7600</td>\n",
              "      <td>0.8700</td>\n",
              "      <td>0.6500</td>\n",
              "      <td>0.7222</td>\n",
              "      <td>0.6842</td>\n",
              "      <td>0.4915</td>\n",
              "      <td>0.4933</td>\n",
              "    </tr>\n",
              "    <tr>\n",
              "      <th>1</th>\n",
              "      <td>0.7800</td>\n",
              "      <td>0.7833</td>\n",
              "      <td>0.6500</td>\n",
              "      <td>0.7647</td>\n",
              "      <td>0.7027</td>\n",
              "      <td>0.5299</td>\n",
              "      <td>0.5343</td>\n",
              "    </tr>\n",
              "    <tr>\n",
              "      <th>2</th>\n",
              "      <td>0.7600</td>\n",
              "      <td>0.8250</td>\n",
              "      <td>0.7000</td>\n",
              "      <td>0.7000</td>\n",
              "      <td>0.7000</td>\n",
              "      <td>0.5000</td>\n",
              "      <td>0.5000</td>\n",
              "    </tr>\n",
              "    <tr>\n",
              "      <th>3</th>\n",
              "      <td>0.9000</td>\n",
              "      <td>0.9333</td>\n",
              "      <td>0.9000</td>\n",
              "      <td>0.8571</td>\n",
              "      <td>0.8780</td>\n",
              "      <td>0.7934</td>\n",
              "      <td>0.7941</td>\n",
              "    </tr>\n",
              "    <tr>\n",
              "      <th>4</th>\n",
              "      <td>0.8800</td>\n",
              "      <td>0.9067</td>\n",
              "      <td>0.7500</td>\n",
              "      <td>0.9375</td>\n",
              "      <td>0.8333</td>\n",
              "      <td>0.7414</td>\n",
              "      <td>0.7527</td>\n",
              "    </tr>\n",
              "    <tr>\n",
              "      <th>5</th>\n",
              "      <td>0.8800</td>\n",
              "      <td>0.8600</td>\n",
              "      <td>0.8500</td>\n",
              "      <td>0.8500</td>\n",
              "      <td>0.8500</td>\n",
              "      <td>0.7500</td>\n",
              "      <td>0.7500</td>\n",
              "    </tr>\n",
              "    <tr>\n",
              "      <th>6</th>\n",
              "      <td>0.8000</td>\n",
              "      <td>0.8833</td>\n",
              "      <td>0.8000</td>\n",
              "      <td>0.7273</td>\n",
              "      <td>0.7619</td>\n",
              "      <td>0.5902</td>\n",
              "      <td>0.5922</td>\n",
              "    </tr>\n",
              "    <tr>\n",
              "      <th>7</th>\n",
              "      <td>0.6600</td>\n",
              "      <td>0.7083</td>\n",
              "      <td>0.5000</td>\n",
              "      <td>0.5882</td>\n",
              "      <td>0.5405</td>\n",
              "      <td>0.2735</td>\n",
              "      <td>0.2758</td>\n",
              "    </tr>\n",
              "    <tr>\n",
              "      <th>8</th>\n",
              "      <td>0.8367</td>\n",
              "      <td>0.8825</td>\n",
              "      <td>0.7895</td>\n",
              "      <td>0.7895</td>\n",
              "      <td>0.7895</td>\n",
              "      <td>0.6561</td>\n",
              "      <td>0.6561</td>\n",
              "    </tr>\n",
              "    <tr>\n",
              "      <th>9</th>\n",
              "      <td>0.8776</td>\n",
              "      <td>0.8845</td>\n",
              "      <td>0.7500</td>\n",
              "      <td>0.9375</td>\n",
              "      <td>0.8333</td>\n",
              "      <td>0.7384</td>\n",
              "      <td>0.7499</td>\n",
              "    </tr>\n",
              "    <tr>\n",
              "      <th>Mean</th>\n",
              "      <td>0.8134</td>\n",
              "      <td>0.8537</td>\n",
              "      <td>0.7339</td>\n",
              "      <td>0.7874</td>\n",
              "      <td>0.7574</td>\n",
              "      <td>0.6064</td>\n",
              "      <td>0.6098</td>\n",
              "    </tr>\n",
              "    <tr>\n",
              "      <th>SD</th>\n",
              "      <td>0.0718</td>\n",
              "      <td>0.0625</td>\n",
              "      <td>0.1091</td>\n",
              "      <td>0.1047</td>\n",
              "      <td>0.0972</td>\n",
              "      <td>0.1534</td>\n",
              "      <td>0.1546</td>\n",
              "    </tr>\n",
              "  </tbody>\n",
              "</table>\n",
              "</div>"
            ],
            "text/plain": [
              "      Accuracy     AUC  Recall   Prec.      F1   Kappa     MCC\n",
              "0       0.7600  0.8700  0.6500  0.7222  0.6842  0.4915  0.4933\n",
              "1       0.7800  0.7833  0.6500  0.7647  0.7027  0.5299  0.5343\n",
              "2       0.7600  0.8250  0.7000  0.7000  0.7000  0.5000  0.5000\n",
              "3       0.9000  0.9333  0.9000  0.8571  0.8780  0.7934  0.7941\n",
              "4       0.8800  0.9067  0.7500  0.9375  0.8333  0.7414  0.7527\n",
              "5       0.8800  0.8600  0.8500  0.8500  0.8500  0.7500  0.7500\n",
              "6       0.8000  0.8833  0.8000  0.7273  0.7619  0.5902  0.5922\n",
              "7       0.6600  0.7083  0.5000  0.5882  0.5405  0.2735  0.2758\n",
              "8       0.8367  0.8825  0.7895  0.7895  0.7895  0.6561  0.6561\n",
              "9       0.8776  0.8845  0.7500  0.9375  0.8333  0.7384  0.7499\n",
              "Mean    0.8134  0.8537  0.7339  0.7874  0.7574  0.6064  0.6098\n",
              "SD      0.0718  0.0625  0.1091  0.1047  0.0972  0.1534  0.1546"
            ]
          },
          "metadata": {
            "tags": []
          }
        }
      ]
    },
    {
      "cell_type": "markdown",
      "metadata": {
        "id": "zPOwQ53GIii7"
      },
      "source": [
        "## **5.5 Evaluacion de Modelos**"
      ]
    },
    {
      "cell_type": "markdown",
      "metadata": {
        "id": "DFe5-wBtQmS8"
      },
      "source": [
        "Con el fin de saber si nuestro modelo es aplicable a datos nuevos, se deberá evaluar este con datos que el modelo nunca ha visto, es decir, los datos del conjunto de *Test*."
      ]
    },
    {
      "cell_type": "markdown",
      "metadata": {
        "id": "yzkwzTQ3MeLc"
      },
      "source": [
        "<h1> <img src=\"https://gblobscdn.gitbook.com/assets%2F-LvBP1svpACTB1R1x_U4%2F-LvNWUoWieQqaGmU_gl9%2F-LvNoby-llz4QzAK15nL%2Fimage.png?alt=media&token=41720ce9-bb66-4419-9bd8-640abf1fc415\" align=\"Left\" height=\"250\" width=\"700\" />"
      ]
    },
    {
      "cell_type": "markdown",
      "metadata": {
        "id": "WhAOa_3NJEAa"
      },
      "source": [
        "### 5.5.1 Metricas"
      ]
    },
    {
      "cell_type": "markdown",
      "metadata": {
        "id": "pwxv4EsjQ5G-"
      },
      "source": [
        "Existen diferentes metricas usadas para evaluar modelos, no es que haya alguna mejor que otra, simplemente algunas nos permiten identificar ciertas caracteristicas (deseadas o no) de nuestro modelo predictivo."
      ]
    },
    {
      "cell_type": "markdown",
      "metadata": {
        "id": "718GoitQILKI"
      },
      "source": [
        "<h1> <img src=\"https://www.researchgate.net/publication/328148379/figure/fig1/AS:679514740895744@1539020347601/Model-performance-metrics-Visual-representation-of-the-classification-model-metrics.png\" align=\"Center\" height=\"300\" width=\"700\" />"
      ]
    },
    {
      "cell_type": "code",
      "metadata": {
        "colab": {
          "base_uri": "https://localhost:8080/",
          "height": 206
        },
        "id": "6Wuv7tHRJ3XX",
        "outputId": "d5af267c-4383-4d9c-bff9-9d8ed8b9c4c5"
      },
      "source": [
        "Pred_gpb = predict_model(Titanic_gbc)\n",
        "Pred_lgpb = predict_model(Titanic_lgbc)\n",
        "Pred_lr = predict_model(Titanic_lr)"
      ],
      "execution_count": 234,
      "outputs": [
        {
          "output_type": "display_data",
          "data": {
            "text/html": [
              "<div>\n",
              "<style scoped>\n",
              "    .dataframe tbody tr th:only-of-type {\n",
              "        vertical-align: middle;\n",
              "    }\n",
              "\n",
              "    .dataframe tbody tr th {\n",
              "        vertical-align: top;\n",
              "    }\n",
              "\n",
              "    .dataframe thead th {\n",
              "        text-align: right;\n",
              "    }\n",
              "</style>\n",
              "<table border=\"1\" class=\"dataframe\">\n",
              "  <thead>\n",
              "    <tr style=\"text-align: right;\">\n",
              "      <th></th>\n",
              "      <th>Model</th>\n",
              "      <th>Accuracy</th>\n",
              "      <th>AUC</th>\n",
              "      <th>Recall</th>\n",
              "      <th>Prec.</th>\n",
              "      <th>F1</th>\n",
              "      <th>Kappa</th>\n",
              "      <th>MCC</th>\n",
              "    </tr>\n",
              "  </thead>\n",
              "  <tbody>\n",
              "    <tr>\n",
              "      <th>0</th>\n",
              "      <td>Gradient Boosting Classifier</td>\n",
              "      <td>0.8131</td>\n",
              "      <td>0.8358</td>\n",
              "      <td>0.7079</td>\n",
              "      <td>0.8182</td>\n",
              "      <td>0.759</td>\n",
              "      <td>0.6077</td>\n",
              "      <td>0.6119</td>\n",
              "    </tr>\n",
              "  </tbody>\n",
              "</table>\n",
              "</div>"
            ],
            "text/plain": [
              "                          Model  Accuracy     AUC  ...     F1   Kappa     MCC\n",
              "0  Gradient Boosting Classifier    0.8131  0.8358  ...  0.759  0.6077  0.6119\n",
              "\n",
              "[1 rows x 8 columns]"
            ]
          },
          "metadata": {
            "tags": []
          }
        },
        {
          "output_type": "display_data",
          "data": {
            "text/html": [
              "<div>\n",
              "<style scoped>\n",
              "    .dataframe tbody tr th:only-of-type {\n",
              "        vertical-align: middle;\n",
              "    }\n",
              "\n",
              "    .dataframe tbody tr th {\n",
              "        vertical-align: top;\n",
              "    }\n",
              "\n",
              "    .dataframe thead th {\n",
              "        text-align: right;\n",
              "    }\n",
              "</style>\n",
              "<table border=\"1\" class=\"dataframe\">\n",
              "  <thead>\n",
              "    <tr style=\"text-align: right;\">\n",
              "      <th></th>\n",
              "      <th>Model</th>\n",
              "      <th>Accuracy</th>\n",
              "      <th>AUC</th>\n",
              "      <th>Recall</th>\n",
              "      <th>Prec.</th>\n",
              "      <th>F1</th>\n",
              "      <th>Kappa</th>\n",
              "      <th>MCC</th>\n",
              "    </tr>\n",
              "  </thead>\n",
              "  <tbody>\n",
              "    <tr>\n",
              "      <th>0</th>\n",
              "      <td>Light Gradient Boosting Machine</td>\n",
              "      <td>0.8037</td>\n",
              "      <td>0.8517</td>\n",
              "      <td>0.6517</td>\n",
              "      <td>0.8406</td>\n",
              "      <td>0.7342</td>\n",
              "      <td>0.5825</td>\n",
              "      <td>0.5944</td>\n",
              "    </tr>\n",
              "  </tbody>\n",
              "</table>\n",
              "</div>"
            ],
            "text/plain": [
              "                             Model  Accuracy     AUC  ...      F1   Kappa     MCC\n",
              "0  Light Gradient Boosting Machine    0.8037  0.8517  ...  0.7342  0.5825  0.5944\n",
              "\n",
              "[1 rows x 8 columns]"
            ]
          },
          "metadata": {
            "tags": []
          }
        },
        {
          "output_type": "display_data",
          "data": {
            "text/html": [
              "<div>\n",
              "<style scoped>\n",
              "    .dataframe tbody tr th:only-of-type {\n",
              "        vertical-align: middle;\n",
              "    }\n",
              "\n",
              "    .dataframe tbody tr th {\n",
              "        vertical-align: top;\n",
              "    }\n",
              "\n",
              "    .dataframe thead th {\n",
              "        text-align: right;\n",
              "    }\n",
              "</style>\n",
              "<table border=\"1\" class=\"dataframe\">\n",
              "  <thead>\n",
              "    <tr style=\"text-align: right;\">\n",
              "      <th></th>\n",
              "      <th>Model</th>\n",
              "      <th>Accuracy</th>\n",
              "      <th>AUC</th>\n",
              "      <th>Recall</th>\n",
              "      <th>Prec.</th>\n",
              "      <th>F1</th>\n",
              "      <th>Kappa</th>\n",
              "      <th>MCC</th>\n",
              "    </tr>\n",
              "  </thead>\n",
              "  <tbody>\n",
              "    <tr>\n",
              "      <th>0</th>\n",
              "      <td>Logistic Regression</td>\n",
              "      <td>0.8084</td>\n",
              "      <td>0.8385</td>\n",
              "      <td>0.6854</td>\n",
              "      <td>0.8243</td>\n",
              "      <td>0.7485</td>\n",
              "      <td>0.5959</td>\n",
              "      <td>0.6025</td>\n",
              "    </tr>\n",
              "  </tbody>\n",
              "</table>\n",
              "</div>"
            ],
            "text/plain": [
              "                 Model  Accuracy     AUC  ...      F1   Kappa     MCC\n",
              "0  Logistic Regression    0.8084  0.8385  ...  0.7485  0.5959  0.6025\n",
              "\n",
              "[1 rows x 8 columns]"
            ]
          },
          "metadata": {
            "tags": []
          }
        }
      ]
    },
    {
      "cell_type": "markdown",
      "metadata": {
        "id": "oLHSDZryKqgc"
      },
      "source": [
        "### 5.5.2 Matriz de Confusion"
      ]
    },
    {
      "cell_type": "markdown",
      "metadata": {
        "id": "VuX3aUdCNyEX"
      },
      "source": [
        "Este modelo nos permite evaluar el nivel de acierto en las predicciones de las etiquetas o clases:\n",
        "\n",
        "| Variable | Descripción|\n",
        "|:----------|:------------|\n",
        "|Survived  | Si el pasajero sobrevive: 0 = No, 1 = Si |"
      ]
    },
    {
      "cell_type": "markdown",
      "metadata": {
        "id": "eIVor6WuNnzQ"
      },
      "source": [
        "<h1> <img src=\"https://4.bp.blogspot.com/-jNSCuV2OtOY/XMfoQka3qaI/AAAAAAAAEjY/TiFX8HALafAVzu_zp5njDqOoGCqzyVouwCLcBGAs/s1600/1_001%2Bnew.jpg\" align=\"center\" height=\"270\" width=\"480\" />"
      ]
    },
    {
      "cell_type": "code",
      "metadata": {
        "colab": {
          "base_uri": "https://localhost:8080/",
          "height": 297
        },
        "id": "CTcE_tWBtkue",
        "outputId": "f0084565-40c1-4ea9-daa7-b701c622bb5a"
      },
      "source": [
        "plot_model(Titanic_gbc,plot=\"confusion_matrix\")"
      ],
      "execution_count": 235,
      "outputs": [
        {
          "output_type": "display_data",
          "data": {
            "image/png": "[encoded data removed]",
            "text/plain": [
              "<Figure size 432x288 with 1 Axes>"
            ]
          },
          "metadata": {
            "tags": [],
            "needs_background": "light"
          }
        }
      ]
    },
    {
      "cell_type": "code",
      "metadata": {
        "colab": {
          "base_uri": "https://localhost:8080/",
          "height": 297
        },
        "id": "WABbxjSwtBFl",
        "outputId": "8aab117e-3517-46f2-f2e1-31ef56e6289d"
      },
      "source": [
        "plot_model(Titanic_lgbc,plot=\"confusion_matrix\")"
      ],
      "execution_count": 236,
      "outputs": [
        {
          "output_type": "display_data",
          "data": {
            "image/png": "[encoded data removed]",
            "text/plain": [
              "<Figure size 432x288 with 1 Axes>"
            ]
          },
          "metadata": {
            "tags": [],
            "needs_background": "light"
          }
        }
      ]
    },
    {
      "cell_type": "code",
      "metadata": {
        "colab": {
          "base_uri": "https://localhost:8080/",
          "height": 297,
          "referenced_widgets": [
            "d1c0d6e73be146869c90ae20672b5999",
            "2168a88b1b114c0a99a2c2960fa9e859",
            "3b806c2cbcb542d1bfdffd96c57b2fc7"
          ]
        },
        "id": "3Q5Qlp8UtBN0",
        "outputId": "bdd79e60-3ea8-4e71-ab64-efc1cdbd4688"
      },
      "source": [
        "plot_model(Titanic_lr,plot=\"confusion_matrix\")"
      ],
      "execution_count": 237,
      "outputs": [
        {
          "output_type": "display_data",
          "data": {
            "image/png": "[encoded data removed]",
            "text/plain": [
              "<Figure size 432x288 with 1 Axes>"
            ]
          },
          "metadata": {
            "tags": [],
            "needs_background": "light"
          }
        }
      ]
    },
    {
      "cell_type": "markdown",
      "metadata": {
        "id": "BDCcmtQjTI6n"
      },
      "source": [
        "## 5.6 Y Finalmente, Sobreviviré o No?"
      ]
    },
    {
      "cell_type": "markdown",
      "metadata": {
        "id": "6kQT9IJiT6BA"
      },
      "source": [
        "Para comenzar vamos a tomar una base de datos de los registros del personal de Titanic:\n",
        "\n",
        "| Variable | Descripción|\n",
        "|:----------|:------------|\n",
        "|Survived  | Si el pasajero sobrevive: 0 = No, 1 = Si |\n",
        "|Pclass| Clase del tiquete: 1 = 1st, 2 = 2nd, 3 = 3rd |\n",
        "|Sex| Genero del pasajero: male / female |\n",
        "|Age| Edad del pasajero|\n",
        "|SibSp| Numero de herman@s / Espos@s abordo del Titanic|\n",
        "|Parch| Numero de padres o hijos abordo |\n",
        "|Fare| Tarifa Del Tiquete: 30-500 £ |\n",
        "|embarked| Puerto De Embarque: C = Cherbourg, Q = Queenstown, S = Southampton|"
      ]
    },
    {
      "cell_type": "markdown",
      "metadata": {
        "id": "nR3rxPLsgtqB"
      },
      "source": [
        "Ingresa tu informacion en caso de haber podido viajar en el Titanic:"
      ]
    },
    {
      "cell_type": "code",
      "metadata": {
        "colab": {
          "base_uri": "https://localhost:8080/",
          "height": 80
        },
        "id": "Yr8_yNBptBU0",
        "outputId": "9f8b33b8-0f24-4b48-f13d-69f4d7e49972"
      },
      "source": [
        "Mis_Datos = {'Pclass' : 1,\n",
        "             'Sex' : \"male\",\n",
        "             'Age' : 33,\n",
        "             \"SibSp\": 1,\n",
        "             \"Parch\": 1,\n",
        "             \"Fare\" : 120,\n",
        "             \"Embarked\": \"C\"\n",
        "             }\n",
        "Mis_Datos = pd.DataFrame(Mis_Datos, index=[0])\n",
        "\n",
        "Mis_Datos"
      ],
      "execution_count": 238,
      "outputs": [
        {
          "output_type": "execute_result",
          "data": {
            "text/html": [
              "<div>\n",
              "<style scoped>\n",
              "    .dataframe tbody tr th:only-of-type {\n",
              "        vertical-align: middle;\n",
              "    }\n",
              "\n",
              "    .dataframe tbody tr th {\n",
              "        vertical-align: top;\n",
              "    }\n",
              "\n",
              "    .dataframe thead th {\n",
              "        text-align: right;\n",
              "    }\n",
              "</style>\n",
              "<table border=\"1\" class=\"dataframe\">\n",
              "  <thead>\n",
              "    <tr style=\"text-align: right;\">\n",
              "      <th></th>\n",
              "      <th>Pclass</th>\n",
              "      <th>Sex</th>\n",
              "      <th>Age</th>\n",
              "      <th>SibSp</th>\n",
              "      <th>Parch</th>\n",
              "      <th>Fare</th>\n",
              "      <th>Embarked</th>\n",
              "    </tr>\n",
              "  </thead>\n",
              "  <tbody>\n",
              "    <tr>\n",
              "      <th>0</th>\n",
              "      <td>1</td>\n",
              "      <td>male</td>\n",
              "      <td>33</td>\n",
              "      <td>1</td>\n",
              "      <td>1</td>\n",
              "      <td>120</td>\n",
              "      <td>C</td>\n",
              "    </tr>\n",
              "  </tbody>\n",
              "</table>\n",
              "</div>"
            ],
            "text/plain": [
              "   Pclass   Sex  Age  SibSp  Parch  Fare Embarked\n",
              "0       1  male   33      1      1   120        C"
            ]
          },
          "metadata": {
            "tags": []
          },
          "execution_count": 238
        }
      ]
    },
    {
      "cell_type": "markdown",
      "metadata": {
        "id": "FDnF5zqYhMmv"
      },
      "source": [
        "Visualizamos la prediccion:"
      ]
    },
    {
      "cell_type": "code",
      "metadata": {
        "colab": {
          "base_uri": "https://localhost:8080/",
          "height": 80
        },
        "id": "VE-Ha9w-tBXu",
        "outputId": "bb43b551-b0da-4701-c036-40f6d7970c1e"
      },
      "source": [
        "Sobrevivo = predict_model(Titanic_lgbc,data = Mis_Datos)\n",
        "Sobrevivo"
      ],
      "execution_count": 239,
      "outputs": [
        {
          "output_type": "execute_result",
          "data": {
            "text/html": [
              "<div>\n",
              "<style scoped>\n",
              "    .dataframe tbody tr th:only-of-type {\n",
              "        vertical-align: middle;\n",
              "    }\n",
              "\n",
              "    .dataframe tbody tr th {\n",
              "        vertical-align: top;\n",
              "    }\n",
              "\n",
              "    .dataframe thead th {\n",
              "        text-align: right;\n",
              "    }\n",
              "</style>\n",
              "<table border=\"1\" class=\"dataframe\">\n",
              "  <thead>\n",
              "    <tr style=\"text-align: right;\">\n",
              "      <th></th>\n",
              "      <th>Pclass</th>\n",
              "      <th>Sex</th>\n",
              "      <th>Age</th>\n",
              "      <th>SibSp</th>\n",
              "      <th>Parch</th>\n",
              "      <th>Fare</th>\n",
              "      <th>Embarked</th>\n",
              "      <th>Label</th>\n",
              "      <th>Score</th>\n",
              "    </tr>\n",
              "  </thead>\n",
              "  <tbody>\n",
              "    <tr>\n",
              "      <th>0</th>\n",
              "      <td>1</td>\n",
              "      <td>male</td>\n",
              "      <td>33</td>\n",
              "      <td>1</td>\n",
              "      <td>1</td>\n",
              "      <td>120</td>\n",
              "      <td>C</td>\n",
              "      <td>1</td>\n",
              "      <td>0.6907</td>\n",
              "    </tr>\n",
              "  </tbody>\n",
              "</table>\n",
              "</div>"
            ],
            "text/plain": [
              "   Pclass   Sex  Age  SibSp  Parch  Fare Embarked  Label   Score\n",
              "0       1  male   33      1      1   120        C      1  0.6907"
            ]
          },
          "metadata": {
            "tags": []
          },
          "execution_count": 239
        }
      ]
    },
    {
      "cell_type": "markdown",
      "metadata": {
        "id": "DPRPB2WdhPr0"
      },
      "source": [
        "## Sobrevivirías?"
      ]
    },
    {
      "cell_type": "code",
      "metadata": {
        "colab": {
          "base_uri": "https://localhost:8080/"
        },
        "id": "gdrIWNedlojp",
        "outputId": "c37f9b90-8201-4eab-85fa-2908d1eed370"
      },
      "source": [
        "if Sobrevivo.Label[0]==1:\n",
        "  print(\"Felicidades sobreviviste!, sal a comprar tu proximo tiquete de crucero!\")\n",
        "else:\n",
        "  print(\"No hubieras sobrevivido en el Titanic, lo tuyo no son los barcos :(\")"
      ],
      "execution_count": 240,
      "outputs": [
        {
          "output_type": "stream",
          "text": [
            "Felicidades sobreviviste!, sal a comprar tu proximo tiquete de crucero!\n"
          ],
          "name": "stdout"
        }
      ]
    },
    {
      "cell_type": "code",
      "metadata": {
        "id": "1ABi-BaoVSKR"
      },
      "source": [
        ""
      ],
      "execution_count": 240,
      "outputs": []
    }
  ]
}